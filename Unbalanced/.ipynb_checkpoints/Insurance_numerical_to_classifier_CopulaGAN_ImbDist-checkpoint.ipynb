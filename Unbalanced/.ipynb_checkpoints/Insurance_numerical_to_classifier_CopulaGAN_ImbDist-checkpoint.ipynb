{
 "cells": [
  {
   "cell_type": "code",
   "execution_count": 1,
   "metadata": {
    "id": "OSGVItv66HaH"
   },
   "outputs": [
    {
     "name": "stderr",
     "output_type": "stream",
     "text": [
      "UsageError: Line magic function `%%capture` not found.\n"
     ]
    }
   ],
   "source": [
    "# Colab was used for this notebook hence the library installs\n",
    "%%capture\n",
    "!pip install pycaret --quiet --upgrade\n",
    "!pip install dabl --quiet --upgrade\n",
    "!pip install shap --quiet --upgrade\n",
    "!pip install sdv  --quiet --upgrade\n",
    "!pip install sdv[ctgan] --quiet --upgrade\n",
    "!pip install baytune --quiet --upgrade\n",
    "!pip install optuna --quiet --upgrade"
   ]
  },
  {
   "cell_type": "markdown",
   "metadata": {
    "id": "u8hyoSAOm6E2"
   },
   "source": [
    "## **Why this was done**\n",
    "1. Learn about synthetic data generation and see if it can improve a model\n",
    "2. Work with PyCaret on a classification problem\n",
    "3. Work on an insurance related problem (although ficticious data)\n",
    "4. Build a `streamlit` app\n",
    "\n",
    "## **The data**\n",
    "HR data isn't easy to find given the nature of the data. However IBM has created [fictious data](https://www.kaggle.com/pavansubhasht/ibm-hr-analytics-attrition-dataset) around whether an employee left after 6 months which can be used. The features for each employee are...\n",
    "\n",
    "* ` age `\n",
    "* ` bmi `\n",
    "* ` children `\n",
    "* ` sex `\n",
    "* ` smoker `\n",
    "* ` region `\n"
   ]
  },
  {
   "cell_type": "markdown",
   "metadata": {
    "id": "7Ggwgt9hhApQ"
   },
   "source": [
    "# **Libraries**"
   ]
  },
  {
   "cell_type": "code",
   "execution_count": 1,
   "metadata": {
    "id": "II3ngOKeuRyZ"
   },
   "outputs": [],
   "source": [
    "from pycaret.classification import * \n",
    "#from pycaret.regression import * # Preprocessing, modelling, interpretation, deployment...\n",
    "from sklearn.impute import SimpleImputer\n",
    "import pandas as pd # Basic data manipulation\n",
    "#import dabl as db # Summary plot\n",
    "from sklearn.model_selection import train_test_split # Data split\n",
    "from sdv.tabular import CopulaGAN, GaussianCopula, CTGAN # Synthetic data\n",
    "from sdv.evaluation import evaluate # Evaluate synthetic data\n",
    "#from btb.tuning import Tunable, GCPTuner # CopulaGAN optimising\n",
    "#from btb.tuning import hyperparams as hp  # Set hyperparameters for optimising\n",
    "import joblib # Saving preparation steps\n",
    "import sdv.constraints as cons # Evaluate synthetic data"
   ]
  },
  {
   "cell_type": "markdown",
   "metadata": {
    "id": "NVPzBL7w6Npu"
   },
   "source": [
    "# **Importing data**"
   ]
  },
  {
   "cell_type": "code",
   "execution_count": 2,
   "metadata": {
    "colab": {
     "base_uri": "https://localhost:8080/",
     "height": 313
    },
    "id": "5BbUIpQYu6mw",
    "outputId": "51226c2d-04bf-43ef-cc03-04fc8f371433"
   },
   "outputs": [
    {
     "data": {
      "text/html": [
       "<div>\n",
       "<style scoped>\n",
       "    .dataframe tbody tr th:only-of-type {\n",
       "        vertical-align: middle;\n",
       "    }\n",
       "\n",
       "    .dataframe tbody tr th {\n",
       "        vertical-align: top;\n",
       "    }\n",
       "\n",
       "    .dataframe thead th {\n",
       "        text-align: right;\n",
       "    }\n",
       "</style>\n",
       "<table border=\"1\" class=\"dataframe\">\n",
       "  <thead>\n",
       "    <tr style=\"text-align: right;\">\n",
       "      <th></th>\n",
       "      <th>age</th>\n",
       "      <th>sex</th>\n",
       "      <th>bmi</th>\n",
       "      <th>children</th>\n",
       "      <th>smoker</th>\n",
       "      <th>region</th>\n",
       "      <th>charges</th>\n",
       "    </tr>\n",
       "  </thead>\n",
       "  <tbody>\n",
       "    <tr>\n",
       "      <th>0</th>\n",
       "      <td>19</td>\n",
       "      <td>female</td>\n",
       "      <td>27.900</td>\n",
       "      <td>0</td>\n",
       "      <td>yes</td>\n",
       "      <td>southwest</td>\n",
       "      <td>16884.92400</td>\n",
       "    </tr>\n",
       "    <tr>\n",
       "      <th>1</th>\n",
       "      <td>18</td>\n",
       "      <td>male</td>\n",
       "      <td>33.770</td>\n",
       "      <td>1</td>\n",
       "      <td>no</td>\n",
       "      <td>southeast</td>\n",
       "      <td>1725.55230</td>\n",
       "    </tr>\n",
       "    <tr>\n",
       "      <th>2</th>\n",
       "      <td>28</td>\n",
       "      <td>male</td>\n",
       "      <td>33.000</td>\n",
       "      <td>3</td>\n",
       "      <td>no</td>\n",
       "      <td>southeast</td>\n",
       "      <td>4449.46200</td>\n",
       "    </tr>\n",
       "    <tr>\n",
       "      <th>3</th>\n",
       "      <td>33</td>\n",
       "      <td>male</td>\n",
       "      <td>22.705</td>\n",
       "      <td>0</td>\n",
       "      <td>no</td>\n",
       "      <td>northwest</td>\n",
       "      <td>21984.47061</td>\n",
       "    </tr>\n",
       "    <tr>\n",
       "      <th>4</th>\n",
       "      <td>32</td>\n",
       "      <td>male</td>\n",
       "      <td>28.880</td>\n",
       "      <td>0</td>\n",
       "      <td>no</td>\n",
       "      <td>northwest</td>\n",
       "      <td>3866.85520</td>\n",
       "    </tr>\n",
       "    <tr>\n",
       "      <th>...</th>\n",
       "      <td>...</td>\n",
       "      <td>...</td>\n",
       "      <td>...</td>\n",
       "      <td>...</td>\n",
       "      <td>...</td>\n",
       "      <td>...</td>\n",
       "      <td>...</td>\n",
       "    </tr>\n",
       "    <tr>\n",
       "      <th>1333</th>\n",
       "      <td>50</td>\n",
       "      <td>male</td>\n",
       "      <td>30.970</td>\n",
       "      <td>3</td>\n",
       "      <td>no</td>\n",
       "      <td>northwest</td>\n",
       "      <td>10600.54830</td>\n",
       "    </tr>\n",
       "    <tr>\n",
       "      <th>1334</th>\n",
       "      <td>18</td>\n",
       "      <td>female</td>\n",
       "      <td>31.920</td>\n",
       "      <td>0</td>\n",
       "      <td>no</td>\n",
       "      <td>northeast</td>\n",
       "      <td>2205.98080</td>\n",
       "    </tr>\n",
       "    <tr>\n",
       "      <th>1335</th>\n",
       "      <td>18</td>\n",
       "      <td>female</td>\n",
       "      <td>36.850</td>\n",
       "      <td>0</td>\n",
       "      <td>no</td>\n",
       "      <td>southeast</td>\n",
       "      <td>1629.83350</td>\n",
       "    </tr>\n",
       "    <tr>\n",
       "      <th>1336</th>\n",
       "      <td>21</td>\n",
       "      <td>female</td>\n",
       "      <td>25.800</td>\n",
       "      <td>0</td>\n",
       "      <td>no</td>\n",
       "      <td>southwest</td>\n",
       "      <td>2007.94500</td>\n",
       "    </tr>\n",
       "    <tr>\n",
       "      <th>1337</th>\n",
       "      <td>61</td>\n",
       "      <td>female</td>\n",
       "      <td>29.070</td>\n",
       "      <td>0</td>\n",
       "      <td>yes</td>\n",
       "      <td>northwest</td>\n",
       "      <td>29141.36030</td>\n",
       "    </tr>\n",
       "  </tbody>\n",
       "</table>\n",
       "<p>1338 rows × 7 columns</p>\n",
       "</div>"
      ],
      "text/plain": [
       "      age     sex     bmi  children smoker     region      charges\n",
       "0      19  female  27.900         0    yes  southwest  16884.92400\n",
       "1      18    male  33.770         1     no  southeast   1725.55230\n",
       "2      28    male  33.000         3     no  southeast   4449.46200\n",
       "3      33    male  22.705         0     no  northwest  21984.47061\n",
       "4      32    male  28.880         0     no  northwest   3866.85520\n",
       "...   ...     ...     ...       ...    ...        ...          ...\n",
       "1333   50    male  30.970         3     no  northwest  10600.54830\n",
       "1334   18  female  31.920         0     no  northeast   2205.98080\n",
       "1335   18  female  36.850         0     no  southeast   1629.83350\n",
       "1336   21  female  25.800         0     no  southwest   2007.94500\n",
       "1337   61  female  29.070         0    yes  northwest  29141.36030\n",
       "\n",
       "[1338 rows x 7 columns]"
      ]
     },
     "execution_count": 2,
     "metadata": {},
     "output_type": "execute_result"
    }
   ],
   "source": [
    "# Read and output the top 5 rows\n",
    "ins_data = pd.read_csv(\"insurance.csv\")\n",
    "ins_data"
   ]
  },
  {
   "cell_type": "code",
   "execution_count": 3,
   "metadata": {},
   "outputs": [
    {
     "name": "stdout",
     "output_type": "stream",
     "text": [
      "156\n"
     ]
    },
    {
     "data": {
      "image/png": "[encoded data removed]",
      "text/plain": [
       "<Figure size 432x288 with 1 Axes>"
      ]
     },
     "metadata": {
      "needs_background": "light"
     },
     "output_type": "display_data"
    }
   ],
   "source": [
    "ins_data = pd.read_csv(\"insurance.csv\")\n",
    "from matplotlib import pyplot as plt\n",
    "plt.hist(ins_data['charges'], bins=[1000*i for i in range (65)])\n",
    "ins_data['charges'].describe()\n",
    "def transform(x):\n",
    "    if x<5000: return 0 # First\"Peak\"\n",
    "    if x<16000: return 1 # Second Peak\n",
    "    if x<31000: return 2 # Thrid Peak\n",
    "    return 3\n",
    "print(len(ins_data[ins_data[\"charges\"]>31000]))\n",
    "ins_data[\"charges\"]=ins_data[\"charges\"].map(transform)"
   ]
  },
  {
   "cell_type": "markdown",
   "metadata": {
    "id": "VYL0k-MZI0DD"
   },
   "source": [
    "A fairly simply ordering per feature. \n",
    "\n",
    "\n",
    "Now feature(s) can be initialised\n",
    "* Target feature\n",
    "* Continuous features\n",
    "* Ordinal features\n",
    "* Categorical features\n",
    "* Features to ignore"
   ]
  },
  {
   "cell_type": "code",
   "execution_count": 4,
   "metadata": {
    "id": "EQM2L6Z7eAJ4"
   },
   "outputs": [],
   "source": [
    "# Target feature\n",
    "target = \"charges\"\n",
    "\n",
    "# Continuous/numeric features\n",
    "cont_feats = [\"age\", \"bmi\"]\n",
    "\n",
    "# Ordinal features\n",
    "ord_feats = {\"children\" : [\"0\", \"1\", \"2\", \"3\", \"4\", \"5\"]}\n",
    "\n",
    "# Categorical geatures\n",
    "cat_feats = [\"region\", \"smoker\", \"sex\"]\n",
    "\n",
    "# There is a value error for children:\n",
    "# ValueError: The least populated class in y has only 1 member, which is too few. The minimum number of groups for any class cannot be less than.\n"
   ]
  },
  {
   "cell_type": "code",
   "execution_count": 5,
   "metadata": {},
   "outputs": [],
   "source": [
    "# Split real data into training + test set\n",
    "train, test, target_train, target_test = train_test_split(ins_data.drop(\"charges\", axis = 1), ins_data[\"charges\"], test_size = 0.4, random_state = 42)\n",
    "\n",
    "# Add Attrition column back into training + test set\n",
    "train[\"charges\"] = target_train\n",
    "test[\"charges\"] = target_test"
   ]
  },
  {
   "cell_type": "code",
   "execution_count": 6,
   "metadata": {
    "id": "EkxOXxgjmnXi"
   },
   "outputs": [
    {
     "data": {
      "text/plain": [
       "({'USI',\n",
       "  'X',\n",
       "  'X_test',\n",
       "  'X_train',\n",
       "  '_all_metrics',\n",
       "  '_all_models',\n",
       "  '_all_models_internal',\n",
       "  '_available_plots',\n",
       "  '_gpu_n_jobs_param',\n",
       "  '_internal_pipeline',\n",
       "  '_ml_usecase',\n",
       "  'create_model_container',\n",
       "  'data_before_preprocess',\n",
       "  'display_container',\n",
       "  'exp_name_log',\n",
       "  'experiment__',\n",
       "  'fix_imbalance_method_param',\n",
       "  'fix_imbalance_param',\n",
       "  'fold_generator',\n",
       "  'fold_groups_param',\n",
       "  'fold_param',\n",
       "  'fold_shuffle_param',\n",
       "  'gpu_param',\n",
       "  'html_param',\n",
       "  'imputation_classifier',\n",
       "  'imputation_regressor',\n",
       "  'iterative_imputation_iters_param',\n",
       "  'log_plots_param',\n",
       "  'logging_param',\n",
       "  'master_model_container',\n",
       "  'n_jobs_param',\n",
       "  'prep_pipe',\n",
       "  'pycaret_globals',\n",
       "  'seed',\n",
       "  'stratify_param',\n",
       "  'target_param',\n",
       "  'transform_target_method_param',\n",
       "  'transform_target_param',\n",
       "  'y',\n",
       "  'y_test',\n",
       "  'y_train'},\n",
       " {'parameter': 'Hyperparameters',\n",
       "  'auc': 'AUC',\n",
       "  'confusion_matrix': 'Confusion Matrix',\n",
       "  'threshold': 'Threshold',\n",
       "  'pr': 'Precision Recall',\n",
       "  'error': 'Prediction Error',\n",
       "  'class_report': 'Class Report',\n",
       "  'rfe': 'Feature Selection',\n",
       "  'learning': 'Learning Curve',\n",
       "  'manifold': 'Manifold Learning',\n",
       "  'calibration': 'Calibration Curve',\n",
       "  'vc': 'Validation Curve',\n",
       "  'dimension': 'Dimensions',\n",
       "  'feature': 'Feature Importance',\n",
       "  'feature_all': 'Feature Importance (All)',\n",
       "  'boundary': 'Decision Boundary',\n",
       "  'lift': 'Lift Chart',\n",
       "  'gain': 'Gain Chart',\n",
       "  'tree': 'Decision Tree'},\n",
       " -1,\n",
       " [('Setup Config',\n",
       "                                  Description                   Value\n",
       "   0                               session_id                     337\n",
       "   1                                   Target                 charges\n",
       "   2                              Target Type              Multiclass\n",
       "   3                            Label Encoded  0: 0, 1: 1, 2: 2, 3: 3\n",
       "   4                            Original Data                (802, 7)\n",
       "   5                           Missing Values                   False\n",
       "   6                         Numeric Features                       2\n",
       "   7                     Categorical Features                       4\n",
       "   8                         Ordinal Features                    True\n",
       "   9                High Cardinality Features                   False\n",
       "   10                 High Cardinality Method                    None\n",
       "   11                   Transformed Train Set                (802, 9)\n",
       "   12                    Transformed Test Set                (536, 9)\n",
       "   13                      Shuffle Train-Test                    True\n",
       "   14                     Stratify Train-Test                   False\n",
       "   15                          Fold Generator         StratifiedKFold\n",
       "   16                             Fold Number                      10\n",
       "   17                                CPU Jobs                      -1\n",
       "   18                                 Use GPU                   False\n",
       "   19                          Log Experiment                   False\n",
       "   20                         Experiment Name        clf-default-name\n",
       "   21                                     USI                    f811\n",
       "   22                         Imputation Type                  simple\n",
       "   23          Iterative Imputation Iteration                    None\n",
       "   24                         Numeric Imputer                    mean\n",
       "   25      Iterative Imputation Numeric Model                    None\n",
       "   26                     Categorical Imputer                constant\n",
       "   27  Iterative Imputation Categorical Model                    None\n",
       "   28           Unknown Categoricals Handling          least_frequent\n",
       "   29                               Normalize                   False\n",
       "   30                        Normalize Method                    None\n",
       "   31                          Transformation                   False\n",
       "   32                   Transformation Method                    None\n",
       "   33                                     PCA                   False\n",
       "   34                              PCA Method                    None\n",
       "   35                          PCA Components                    None\n",
       "   36                     Ignore Low Variance                    True\n",
       "   37                     Combine Rare Levels                   False\n",
       "   38                    Rare Level Threshold                    None\n",
       "   39                         Numeric Binning                   False\n",
       "   40                         Remove Outliers                   False\n",
       "   41                      Outliers Threshold                    None\n",
       "   42                Remove Multicollinearity                   False\n",
       "   43             Multicollinearity Threshold                    None\n",
       "   44                              Clustering                   False\n",
       "   45                    Clustering Iteration                    None\n",
       "   46                     Polynomial Features                   False\n",
       "   47                       Polynomial Degree                    None\n",
       "   48                    Trignometry Features                   False\n",
       "   49                    Polynomial Threshold                    None\n",
       "   50                          Group Features                   False\n",
       "   51                       Feature Selection                   False\n",
       "   52                Feature Selection Method                 classic\n",
       "   53            Features Selection Threshold                    None\n",
       "   54                     Feature Interaction                   False\n",
       "   55                           Feature Ratio                   False\n",
       "   56                   Interaction Threshold                    None\n",
       "   57                           Fix Imbalance                   False\n",
       "   58                    Fix Imbalance Method                   SMOTE),\n",
       "  ('X_training Set',\n",
       "          age        bmi  children  sex_female  smoker_no  region_northeast  \\\n",
       "   25    59.0  27.719999       3.0         1.0        1.0               0.0   \n",
       "   336   60.0  25.740000       0.0         0.0        1.0               0.0   \n",
       "   47    28.0  34.770000       0.0         1.0        1.0               0.0   \n",
       "   106   19.0  28.400000       1.0         1.0        1.0               0.0   \n",
       "   1269  45.0  27.500000       3.0         0.0        1.0               0.0   \n",
       "   ...    ...        ...       ...         ...        ...               ...   \n",
       "   1095  18.0  31.350000       4.0         1.0        1.0               1.0   \n",
       "   1130  39.0  23.870001       5.0         1.0        1.0               0.0   \n",
       "   1294  58.0  25.174999       0.0         0.0        1.0               1.0   \n",
       "   860   37.0  47.599998       2.0         1.0        0.0               0.0   \n",
       "   1126  55.0  29.900000       0.0         0.0        1.0               0.0   \n",
       "   \n",
       "         region_northwest  region_southeast  region_southwest  \n",
       "   25                 0.0               1.0               0.0  \n",
       "   336                0.0               1.0               0.0  \n",
       "   47                 1.0               0.0               0.0  \n",
       "   106                0.0               0.0               1.0  \n",
       "   1269               0.0               0.0               1.0  \n",
       "   ...                ...               ...               ...  \n",
       "   1095               0.0               0.0               0.0  \n",
       "   1130               0.0               1.0               0.0  \n",
       "   1294               0.0               0.0               0.0  \n",
       "   860                0.0               0.0               1.0  \n",
       "   1126               0.0               0.0               1.0  \n",
       "   \n",
       "   [802 rows x 9 columns]),\n",
       "  ('y_training Set',\n",
       "   25      1\n",
       "   336     1\n",
       "   47      0\n",
       "   106     0\n",
       "   1269    1\n",
       "          ..\n",
       "   1095    0\n",
       "   1130    1\n",
       "   1294    1\n",
       "   860     3\n",
       "   1126    1\n",
       "   Name: charges, Length: 802, dtype: int32),\n",
       "  ('X_test Set',\n",
       "          age        bmi  children  sex_female  smoker_no  region_northeast  \\\n",
       "   764   45.0  25.174999       2.0         1.0        1.0               1.0   \n",
       "   887   36.0  30.020000       0.0         1.0        1.0               0.0   \n",
       "   890   64.0  26.885000       0.0         1.0        0.0               0.0   \n",
       "   1293  46.0  25.745001       3.0         0.0        1.0               0.0   \n",
       "   259   19.0  31.920000       0.0         0.0        0.0               0.0   \n",
       "   ...    ...        ...       ...         ...        ...               ...   \n",
       "   588   61.0  35.910000       0.0         1.0        1.0               1.0   \n",
       "   872   42.0  24.860001       0.0         0.0        1.0               0.0   \n",
       "   914   33.0  24.605000       2.0         0.0        1.0               0.0   \n",
       "   679   49.0  23.180000       2.0         1.0        1.0               0.0   \n",
       "   256   56.0  33.630001       0.0         0.0        0.0               0.0   \n",
       "   \n",
       "         region_northwest  region_southeast  region_southwest  \n",
       "   764                0.0               0.0               0.0  \n",
       "   887                1.0               0.0               0.0  \n",
       "   890                1.0               0.0               0.0  \n",
       "   1293               1.0               0.0               0.0  \n",
       "   259                1.0               0.0               0.0  \n",
       "   ...                ...               ...               ...  \n",
       "   588                0.0               0.0               0.0  \n",
       "   872                0.0               1.0               0.0  \n",
       "   914                1.0               0.0               0.0  \n",
       "   679                1.0               0.0               0.0  \n",
       "   256                1.0               0.0               0.0  \n",
       "   \n",
       "   [536 rows x 9 columns]),\n",
       "  ('y_test Set',\n",
       "   764     1\n",
       "   887     1\n",
       "   890     2\n",
       "   1293    1\n",
       "   259     3\n",
       "          ..\n",
       "   588     1\n",
       "   872     1\n",
       "   914     1\n",
       "   679     1\n",
       "   256     3\n",
       "   Name: charges, Length: 536, dtype: int64),\n",
       "  ('Transformation Pipeline',\n",
       "   Pipeline(memory=None,\n",
       "            steps=[('dtypes',\n",
       "                    DataTypes_Auto_infer(categorical_features=['region', 'smoker',\n",
       "                                                               'sex'],\n",
       "                                         display_types=False, features_todrop=[],\n",
       "                                         id_columns=[],\n",
       "                                         ml_usecase='classification',\n",
       "                                         numerical_features=['age', 'bmi'],\n",
       "                                         target='charges', time_features=[])),\n",
       "                   ('imputer',\n",
       "                    Simple_Imputer(categorical_strategy='not_available',\n",
       "                                   fill_value_categorical=None,\n",
       "                                   fil...\n",
       "                   ('scaling', 'passthrough'), ('P_transform', 'passthrough'),\n",
       "                   ('binn', 'passthrough'), ('rem_outliers', 'passthrough'),\n",
       "                   ('cluster_all', 'passthrough'),\n",
       "                   ('dummy', Dummify(target='charges')),\n",
       "                   ('fix_perfect', Remove_100(target='charges')),\n",
       "                   ('clean_names', Clean_Colum_Names()),\n",
       "                   ('feature_select', 'passthrough'), ('fix_multi', 'passthrough'),\n",
       "                   ('dfs', 'passthrough'), ('pca', 'passthrough')],\n",
       "            verbose=False))],\n",
       "        age        bmi  children  sex_female  smoker_no  region_northeast  \\\n",
       " 764   45.0  25.174999       2.0         1.0        1.0               1.0   \n",
       " 887   36.0  30.020000       0.0         1.0        1.0               0.0   \n",
       " 890   64.0  26.885000       0.0         1.0        0.0               0.0   \n",
       " 1293  46.0  25.745001       3.0         0.0        1.0               0.0   \n",
       " 259   19.0  31.920000       0.0         0.0        0.0               0.0   \n",
       " ...    ...        ...       ...         ...        ...               ...   \n",
       " 588   61.0  35.910000       0.0         1.0        1.0               1.0   \n",
       " 872   42.0  24.860001       0.0         0.0        1.0               0.0   \n",
       " 914   33.0  24.605000       2.0         0.0        1.0               0.0   \n",
       " 679   49.0  23.180000       2.0         1.0        1.0               0.0   \n",
       " 256   56.0  33.630001       0.0         0.0        0.0               0.0   \n",
       " \n",
       "       region_northwest  region_southeast  region_southwest  \n",
       " 764                0.0               0.0               0.0  \n",
       " 887                1.0               0.0               0.0  \n",
       " 890                1.0               0.0               0.0  \n",
       " 1293               1.0               0.0               0.0  \n",
       " 259                1.0               0.0               0.0  \n",
       " ...                ...               ...               ...  \n",
       " 588                0.0               0.0               0.0  \n",
       " 872                0.0               1.0               0.0  \n",
       " 914                1.0               0.0               0.0  \n",
       " 679                1.0               0.0               0.0  \n",
       " 256                1.0               0.0               0.0  \n",
       " \n",
       " [536 rows x 9 columns],\n",
       " 10,\n",
       " None,\n",
       " {'lr': <pycaret.containers.models.classification.LogisticRegressionClassifierContainer at 0x28088b71d68>,\n",
       "  'knn': <pycaret.containers.models.classification.KNeighborsClassifierContainer at 0x28088b71e10>,\n",
       "  'nb': <pycaret.containers.models.classification.GaussianNBClassifierContainer at 0x28088b71ef0>,\n",
       "  'dt': <pycaret.containers.models.classification.DecisionTreeClassifierContainer at 0x28088b71f60>,\n",
       "  'svm': <pycaret.containers.models.classification.SGDClassifierContainer at 0x28088bb0128>,\n",
       "  'rbfsvm': <pycaret.containers.models.classification.SVCClassifierContainer at 0x28088bb0320>,\n",
       "  'gpc': <pycaret.containers.models.classification.GaussianProcessClassifierContainer at 0x28088bb03c8>,\n",
       "  'mlp': <pycaret.containers.models.classification.MLPClassifierContainer at 0x28088bb0438>,\n",
       "  'ridge': <pycaret.containers.models.classification.RidgeClassifierContainer at 0x28088bb0630>,\n",
       "  'rf': <pycaret.containers.models.classification.RandomForestClassifierContainer at 0x28088bb0710>,\n",
       "  'qda': <pycaret.containers.models.classification.QuadraticDiscriminantAnalysisContainer at 0x28088bb0940>,\n",
       "  'ada': <pycaret.containers.models.classification.AdaBoostClassifierContainer at 0x28088bb0a20>,\n",
       "  'gbc': <pycaret.containers.models.classification.GradientBoostingClassifierContainer at 0x28088bb0b38>,\n",
       "  'lda': <pycaret.containers.models.classification.LinearDiscriminantAnalysisContainer at 0x28088bb0d68>,\n",
       "  'et': <pycaret.containers.models.classification.ExtraTreesClassifierContainer at 0x28088bb0e10>,\n",
       "  'lightgbm': <pycaret.containers.models.classification.LGBMClassifierContainer at 0x28088b860f0>,\n",
       "  'Bagging': <pycaret.containers.models.classification.BaggingClassifierContainer at 0x28088b86400>,\n",
       "  'Stacking': <pycaret.containers.models.classification.StackingClassifierContainer at 0x28088b86080>,\n",
       "  'Voting': <pycaret.containers.models.classification.VotingClassifierContainer at 0x28088b86518>,\n",
       "  'CalibratedCV': <pycaret.containers.models.classification.CalibratedClassifierCVContainer at 0x28088b86550>},\n",
       " {'acc': <pycaret.containers.metrics.classification.AccuracyMetricContainer at 0x28088b865c0>,\n",
       "  'auc': <pycaret.containers.metrics.classification.ROCAUCMetricContainer at 0x28088b86630>,\n",
       "  'recall': <pycaret.containers.metrics.classification.RecallMetricContainer at 0x28088b866a0>,\n",
       "  'precision': <pycaret.containers.metrics.classification.PrecisionMetricContainer at 0x28088b86780>,\n",
       "  'f1': <pycaret.containers.metrics.classification.F1MetricContainer at 0x28088b86860>,\n",
       "  'kappa': <pycaret.containers.metrics.classification.KappaMetricContainer at 0x28088b86940>,\n",
       "  'mcc': <pycaret.containers.metrics.classification.MCCMetricContainer at 0x28088b869b0>},\n",
       " -1,\n",
       " None,\n",
       " Pipeline(memory=None,\n",
       "          steps=[('dtypes',\n",
       "                  DataTypes_Auto_infer(categorical_features=['region', 'smoker',\n",
       "                                                             'sex'],\n",
       "                                       display_types=False, features_todrop=[],\n",
       "                                       id_columns=[],\n",
       "                                       ml_usecase='classification',\n",
       "                                       numerical_features=['age', 'bmi'],\n",
       "                                       target='charges', time_features=[])),\n",
       "                 ('imputer',\n",
       "                  Simple_Imputer(categorical_strategy='not_available',\n",
       "                                 fill_value_categorical=None,\n",
       "                                 fil...\n",
       "                 ('scaling', 'passthrough'), ('P_transform', 'passthrough'),\n",
       "                 ('binn', 'passthrough'), ('rem_outliers', 'passthrough'),\n",
       "                 ('cluster_all', 'passthrough'),\n",
       "                 ('dummy', Dummify(target='charges')),\n",
       "                 ('fix_perfect', Remove_100(target='charges')),\n",
       "                 ('clean_names', Clean_Colum_Names()),\n",
       "                 ('feature_select', 'passthrough'), ('fix_multi', 'passthrough'),\n",
       "                 ('dfs', 'passthrough'), ('pca', 'passthrough')],\n",
       "          verbose=False),\n",
       " False,\n",
       "        age        bmi  children  sex_female  smoker_no  region_northeast  \\\n",
       " 25    59.0  27.719999       3.0         1.0        1.0               0.0   \n",
       " 336   60.0  25.740000       0.0         0.0        1.0               0.0   \n",
       " 47    28.0  34.770000       0.0         1.0        1.0               0.0   \n",
       " 106   19.0  28.400000       1.0         1.0        1.0               0.0   \n",
       " 1269  45.0  27.500000       3.0         0.0        1.0               0.0   \n",
       " ...    ...        ...       ...         ...        ...               ...   \n",
       " 1095  18.0  31.350000       4.0         1.0        1.0               1.0   \n",
       " 1130  39.0  23.870001       5.0         1.0        1.0               0.0   \n",
       " 1294  58.0  25.174999       0.0         0.0        1.0               1.0   \n",
       " 860   37.0  47.599998       2.0         1.0        0.0               0.0   \n",
       " 1126  55.0  29.900000       0.0         0.0        1.0               0.0   \n",
       " \n",
       "       region_northwest  region_southeast  region_southwest  \n",
       " 25                 0.0               1.0               0.0  \n",
       " 336                0.0               1.0               0.0  \n",
       " 47                 1.0               0.0               0.0  \n",
       " 106                0.0               0.0               1.0  \n",
       " 1269               0.0               0.0               1.0  \n",
       " ...                ...               ...               ...  \n",
       " 1095               0.0               0.0               0.0  \n",
       " 1130               0.0               1.0               0.0  \n",
       " 1294               0.0               0.0               0.0  \n",
       " 860                0.0               0.0               1.0  \n",
       " 1126               0.0               0.0               1.0  \n",
       " \n",
       " [802 rows x 9 columns],\n",
       " Pipeline(memory=None, steps=[('empty_step', 'passthrough')], verbose=False),\n",
       " 25      1\n",
       " 336     1\n",
       " 47      0\n",
       " 106     0\n",
       " 1269    1\n",
       "        ..\n",
       " 1095    0\n",
       " 1130    1\n",
       " 1294    1\n",
       " 860     3\n",
       " 1126    1\n",
       " Name: charges, Length: 802, dtype: int64,\n",
       " False,\n",
       " 'charges',\n",
       " 764     1\n",
       " 887     1\n",
       " 890     2\n",
       " 1293    1\n",
       " 259     3\n",
       "        ..\n",
       " 588     1\n",
       " 872     1\n",
       " 914     1\n",
       " 679     1\n",
       " 256     3\n",
       " Name: charges, Length: 536, dtype: int64,\n",
       " False,\n",
       " 'lightgbm',\n",
       " [],\n",
       " False,\n",
       " 'clf-default-name',\n",
       " [<pandas.io.formats.style.Styler at 0x28088b71cf8>],\n",
       "        age        bmi  children  sex_female  smoker_no  region_northeast  \\\n",
       " 25    59.0  27.719999       3.0         1.0        1.0               0.0   \n",
       " 336   60.0  25.740000       0.0         0.0        1.0               0.0   \n",
       " 47    28.0  34.770000       0.0         1.0        1.0               0.0   \n",
       " 106   19.0  28.400000       1.0         1.0        1.0               0.0   \n",
       " 1269  45.0  27.500000       3.0         0.0        1.0               0.0   \n",
       " ...    ...        ...       ...         ...        ...               ...   \n",
       " 1095  18.0  31.350000       4.0         1.0        1.0               1.0   \n",
       " 1130  39.0  23.870001       5.0         1.0        1.0               0.0   \n",
       " 1294  58.0  25.174999       0.0         0.0        1.0               1.0   \n",
       " 860   37.0  47.599998       2.0         1.0        0.0               0.0   \n",
       " 1126  55.0  29.900000       0.0         0.0        1.0               0.0   \n",
       " \n",
       "       region_northwest  region_southeast  region_southwest  \n",
       " 25                 0.0               1.0               0.0  \n",
       " 336                0.0               1.0               0.0  \n",
       " 47                 1.0               0.0               0.0  \n",
       " 106                0.0               0.0               1.0  \n",
       " 1269               0.0               0.0               1.0  \n",
       " ...                ...               ...               ...  \n",
       " 1095               0.0               0.0               0.0  \n",
       " 1130               0.0               1.0               0.0  \n",
       " 1294               0.0               0.0               0.0  \n",
       " 860                0.0               0.0               1.0  \n",
       " 1126               0.0               0.0               1.0  \n",
       " \n",
       " [802 rows x 9 columns],\n",
       " False,\n",
       " 337,\n",
       " False,\n",
       " False,\n",
       " True,\n",
       " 25      1\n",
       " 336     1\n",
       " 47      0\n",
       " 106     0\n",
       " 1269    1\n",
       "        ..\n",
       " 1095    0\n",
       " 1130    1\n",
       " 1294    1\n",
       " 860     3\n",
       " 1126    1\n",
       " Name: charges, Length: 802, dtype: int32,\n",
       " 'box-cox',\n",
       " 'lightgbm',\n",
       "       age     sex     bmi  children smoker     region  charges\n",
       " 25     59  female  27.720         3     no  southeast        1\n",
       " 336    60    male  25.740         0     no  southeast        1\n",
       " 47     28  female  34.770         0     no  northwest        0\n",
       " 106    19  female  28.400         1     no  southwest        0\n",
       " 1269   45    male  27.500         3     no  southwest        1\n",
       " ...   ...     ...     ...       ...    ...        ...      ...\n",
       " 1095   18  female  31.350         4     no  northeast        0\n",
       " 1130   39  female  23.870         5     no  southeast        1\n",
       " 1294   58    male  25.175         0     no  northeast        1\n",
       " 860    37  female  47.600         2    yes  southwest        3\n",
       " 1126   55    male  29.900         0     no  southwest        1\n",
       " \n",
       " [802 rows x 7 columns],\n",
       " <MLUsecase.CLASSIFICATION: 1>,\n",
       " {'lr': <pycaret.containers.models.classification.LogisticRegressionClassifierContainer at 0x28088a849e8>,\n",
       "  'knn': <pycaret.containers.models.classification.KNeighborsClassifierContainer at 0x28088a84908>,\n",
       "  'nb': <pycaret.containers.models.classification.GaussianNBClassifierContainer at 0x2804fd10898>,\n",
       "  'dt': <pycaret.containers.models.classification.DecisionTreeClassifierContainer at 0x280842844a8>,\n",
       "  'svm': <pycaret.containers.models.classification.SGDClassifierContainer at 0x2804ffd4940>,\n",
       "  'rbfsvm': <pycaret.containers.models.classification.SVCClassifierContainer at 0x2804fe463c8>,\n",
       "  'gpc': <pycaret.containers.models.classification.GaussianProcessClassifierContainer at 0x2804fec04e0>,\n",
       "  'mlp': <pycaret.containers.models.classification.MLPClassifierContainer at 0x28088a844a8>,\n",
       "  'ridge': <pycaret.containers.models.classification.RidgeClassifierContainer at 0x2808020b7f0>,\n",
       "  'rf': <pycaret.containers.models.classification.RandomForestClassifierContainer at 0x28088b4ad68>,\n",
       "  'qda': <pycaret.containers.models.classification.QuadraticDiscriminantAnalysisContainer at 0x28088b4af98>,\n",
       "  'ada': <pycaret.containers.models.classification.AdaBoostClassifierContainer at 0x28088b5b048>,\n",
       "  'gbc': <pycaret.containers.models.classification.GradientBoostingClassifierContainer at 0x2808013a748>,\n",
       "  'lda': <pycaret.containers.models.classification.LinearDiscriminantAnalysisContainer at 0x2808015b5c0>,\n",
       "  'et': <pycaret.containers.models.classification.ExtraTreesClassifierContainer at 0x28088b71710>,\n",
       "  'lightgbm': <pycaret.containers.models.classification.LGBMClassifierContainer at 0x28088b71978>},\n",
       " 5,\n",
       " [],\n",
       " StratifiedKFold(n_splits=10, random_state=None, shuffle=False),\n",
       " 'f811')"
      ]
     },
     "execution_count": 6,
     "metadata": {},
     "output_type": "execute_result"
    }
   ],
   "source": [
    "# Run pycaret setup\n",
    "setup(data = train, \n",
    "      target = target, \n",
    "      test_data = test,\n",
    "      numeric_features = cont_feats,\n",
    "      categorical_features = cat_feats,\n",
    "      ordinal_features = ord_feats,\n",
    "      normalize_method = \"zscore\",\n",
    "      ignore_low_variance = True,\n",
    "      silent = True,\n",
    "      verbose = False)"
   ]
  },
  {
   "cell_type": "markdown",
   "metadata": {
    "id": "8drjsC4JLjxE"
   },
   "source": [
    "Now it's \"setup\", I like to use `compare_models` to get a rough idea as to which model(s) might be best for this particular use case. The particular metrics I'm looking at are `AUC`, `Precision` and `Recall`. `Recall` is most important as we want to make sure we are correctly identifying the **true negatives** i.e. those that might leave in 6 months. Cross validation is also used."
   ]
  },
  {
   "cell_type": "code",
   "execution_count": 7,
   "metadata": {
    "colab": {
     "base_uri": "https://localhost:8080/",
     "height": 612,
     "referenced_widgets": [
      "efd526e96603472aa5926403d7aaab51",
      "307a2747200e4a7189f15039c8d147ef",
      "daef4644f9274987bc78d4ed7ef34560"
     ]
    },
    "id": "FCJq8SRWp_Ti",
    "outputId": "274b03e4-6147-4679-b735-288030211d1a"
   },
   "outputs": [
    {
     "data": {
      "text/html": [
       "<style  type=\"text/css\" >\n",
       "    #T_ab9276ac_b481_11eb_9ace_1856801111d2 th {\n",
       "          text-align: left;\n",
       "    }#T_ab9276ac_b481_11eb_9ace_1856801111d2row0_col0,#T_ab9276ac_b481_11eb_9ace_1856801111d2row1_col0,#T_ab9276ac_b481_11eb_9ace_1856801111d2row1_col1,#T_ab9276ac_b481_11eb_9ace_1856801111d2row1_col2,#T_ab9276ac_b481_11eb_9ace_1856801111d2row1_col3,#T_ab9276ac_b481_11eb_9ace_1856801111d2row1_col4,#T_ab9276ac_b481_11eb_9ace_1856801111d2row1_col5,#T_ab9276ac_b481_11eb_9ace_1856801111d2row1_col6,#T_ab9276ac_b481_11eb_9ace_1856801111d2row1_col7,#T_ab9276ac_b481_11eb_9ace_1856801111d2row2_col0,#T_ab9276ac_b481_11eb_9ace_1856801111d2row2_col1,#T_ab9276ac_b481_11eb_9ace_1856801111d2row2_col2,#T_ab9276ac_b481_11eb_9ace_1856801111d2row2_col3,#T_ab9276ac_b481_11eb_9ace_1856801111d2row2_col4,#T_ab9276ac_b481_11eb_9ace_1856801111d2row2_col5,#T_ab9276ac_b481_11eb_9ace_1856801111d2row2_col6,#T_ab9276ac_b481_11eb_9ace_1856801111d2row2_col7,#T_ab9276ac_b481_11eb_9ace_1856801111d2row3_col0,#T_ab9276ac_b481_11eb_9ace_1856801111d2row3_col1,#T_ab9276ac_b481_11eb_9ace_1856801111d2row3_col2,#T_ab9276ac_b481_11eb_9ace_1856801111d2row3_col3,#T_ab9276ac_b481_11eb_9ace_1856801111d2row3_col4,#T_ab9276ac_b481_11eb_9ace_1856801111d2row3_col5,#T_ab9276ac_b481_11eb_9ace_1856801111d2row3_col6,#T_ab9276ac_b481_11eb_9ace_1856801111d2row3_col7,#T_ab9276ac_b481_11eb_9ace_1856801111d2row4_col0,#T_ab9276ac_b481_11eb_9ace_1856801111d2row4_col1,#T_ab9276ac_b481_11eb_9ace_1856801111d2row4_col2,#T_ab9276ac_b481_11eb_9ace_1856801111d2row4_col3,#T_ab9276ac_b481_11eb_9ace_1856801111d2row4_col4,#T_ab9276ac_b481_11eb_9ace_1856801111d2row4_col5,#T_ab9276ac_b481_11eb_9ace_1856801111d2row4_col6,#T_ab9276ac_b481_11eb_9ace_1856801111d2row4_col7,#T_ab9276ac_b481_11eb_9ace_1856801111d2row5_col0,#T_ab9276ac_b481_11eb_9ace_1856801111d2row5_col1,#T_ab9276ac_b481_11eb_9ace_1856801111d2row5_col2,#T_ab9276ac_b481_11eb_9ace_1856801111d2row5_col3,#T_ab9276ac_b481_11eb_9ace_1856801111d2row5_col4,#T_ab9276ac_b481_11eb_9ace_1856801111d2row5_col5,#T_ab9276ac_b481_11eb_9ace_1856801111d2row5_col6,#T_ab9276ac_b481_11eb_9ace_1856801111d2row5_col7,#T_ab9276ac_b481_11eb_9ace_1856801111d2row6_col0,#T_ab9276ac_b481_11eb_9ace_1856801111d2row6_col1,#T_ab9276ac_b481_11eb_9ace_1856801111d2row6_col2,#T_ab9276ac_b481_11eb_9ace_1856801111d2row6_col3,#T_ab9276ac_b481_11eb_9ace_1856801111d2row6_col4,#T_ab9276ac_b481_11eb_9ace_1856801111d2row6_col5,#T_ab9276ac_b481_11eb_9ace_1856801111d2row6_col6,#T_ab9276ac_b481_11eb_9ace_1856801111d2row6_col7,#T_ab9276ac_b481_11eb_9ace_1856801111d2row7_col0,#T_ab9276ac_b481_11eb_9ace_1856801111d2row7_col1,#T_ab9276ac_b481_11eb_9ace_1856801111d2row7_col2,#T_ab9276ac_b481_11eb_9ace_1856801111d2row7_col3,#T_ab9276ac_b481_11eb_9ace_1856801111d2row7_col4,#T_ab9276ac_b481_11eb_9ace_1856801111d2row7_col5,#T_ab9276ac_b481_11eb_9ace_1856801111d2row7_col6,#T_ab9276ac_b481_11eb_9ace_1856801111d2row7_col7,#T_ab9276ac_b481_11eb_9ace_1856801111d2row8_col0,#T_ab9276ac_b481_11eb_9ace_1856801111d2row8_col1,#T_ab9276ac_b481_11eb_9ace_1856801111d2row8_col2,#T_ab9276ac_b481_11eb_9ace_1856801111d2row8_col3,#T_ab9276ac_b481_11eb_9ace_1856801111d2row8_col4,#T_ab9276ac_b481_11eb_9ace_1856801111d2row8_col5,#T_ab9276ac_b481_11eb_9ace_1856801111d2row8_col6,#T_ab9276ac_b481_11eb_9ace_1856801111d2row8_col7,#T_ab9276ac_b481_11eb_9ace_1856801111d2row9_col0,#T_ab9276ac_b481_11eb_9ace_1856801111d2row9_col1,#T_ab9276ac_b481_11eb_9ace_1856801111d2row9_col2,#T_ab9276ac_b481_11eb_9ace_1856801111d2row9_col3,#T_ab9276ac_b481_11eb_9ace_1856801111d2row9_col4,#T_ab9276ac_b481_11eb_9ace_1856801111d2row9_col5,#T_ab9276ac_b481_11eb_9ace_1856801111d2row9_col6,#T_ab9276ac_b481_11eb_9ace_1856801111d2row9_col7,#T_ab9276ac_b481_11eb_9ace_1856801111d2row10_col0,#T_ab9276ac_b481_11eb_9ace_1856801111d2row10_col1,#T_ab9276ac_b481_11eb_9ace_1856801111d2row10_col2,#T_ab9276ac_b481_11eb_9ace_1856801111d2row10_col3,#T_ab9276ac_b481_11eb_9ace_1856801111d2row10_col4,#T_ab9276ac_b481_11eb_9ace_1856801111d2row10_col5,#T_ab9276ac_b481_11eb_9ace_1856801111d2row10_col6,#T_ab9276ac_b481_11eb_9ace_1856801111d2row10_col7,#T_ab9276ac_b481_11eb_9ace_1856801111d2row11_col0,#T_ab9276ac_b481_11eb_9ace_1856801111d2row11_col1,#T_ab9276ac_b481_11eb_9ace_1856801111d2row11_col2,#T_ab9276ac_b481_11eb_9ace_1856801111d2row11_col3,#T_ab9276ac_b481_11eb_9ace_1856801111d2row11_col4,#T_ab9276ac_b481_11eb_9ace_1856801111d2row11_col5,#T_ab9276ac_b481_11eb_9ace_1856801111d2row11_col6,#T_ab9276ac_b481_11eb_9ace_1856801111d2row11_col7,#T_ab9276ac_b481_11eb_9ace_1856801111d2row12_col0,#T_ab9276ac_b481_11eb_9ace_1856801111d2row12_col1,#T_ab9276ac_b481_11eb_9ace_1856801111d2row12_col2,#T_ab9276ac_b481_11eb_9ace_1856801111d2row12_col3,#T_ab9276ac_b481_11eb_9ace_1856801111d2row12_col4,#T_ab9276ac_b481_11eb_9ace_1856801111d2row12_col5,#T_ab9276ac_b481_11eb_9ace_1856801111d2row12_col6,#T_ab9276ac_b481_11eb_9ace_1856801111d2row12_col7{\n",
       "            text-align:  left;\n",
       "            text-align:  left;\n",
       "        }#T_ab9276ac_b481_11eb_9ace_1856801111d2row0_col1,#T_ab9276ac_b481_11eb_9ace_1856801111d2row0_col2,#T_ab9276ac_b481_11eb_9ace_1856801111d2row0_col3,#T_ab9276ac_b481_11eb_9ace_1856801111d2row0_col4,#T_ab9276ac_b481_11eb_9ace_1856801111d2row0_col5,#T_ab9276ac_b481_11eb_9ace_1856801111d2row0_col6,#T_ab9276ac_b481_11eb_9ace_1856801111d2row0_col7{\n",
       "            text-align:  left;\n",
       "            text-align:  left;\n",
       "            background-color:  yellow;\n",
       "        }#T_ab9276ac_b481_11eb_9ace_1856801111d2row0_col8,#T_ab9276ac_b481_11eb_9ace_1856801111d2row1_col8,#T_ab9276ac_b481_11eb_9ace_1856801111d2row2_col8,#T_ab9276ac_b481_11eb_9ace_1856801111d2row3_col8,#T_ab9276ac_b481_11eb_9ace_1856801111d2row4_col8,#T_ab9276ac_b481_11eb_9ace_1856801111d2row5_col8,#T_ab9276ac_b481_11eb_9ace_1856801111d2row6_col8,#T_ab9276ac_b481_11eb_9ace_1856801111d2row8_col8,#T_ab9276ac_b481_11eb_9ace_1856801111d2row9_col8,#T_ab9276ac_b481_11eb_9ace_1856801111d2row10_col8,#T_ab9276ac_b481_11eb_9ace_1856801111d2row11_col8,#T_ab9276ac_b481_11eb_9ace_1856801111d2row12_col8{\n",
       "            text-align:  left;\n",
       "            text-align:  left;\n",
       "            background-color:  lightgrey;\n",
       "        }#T_ab9276ac_b481_11eb_9ace_1856801111d2row7_col8{\n",
       "            text-align:  left;\n",
       "            text-align:  left;\n",
       "            background-color:  yellow;\n",
       "            background-color:  lightgrey;\n",
       "        }</style><table id=\"T_ab9276ac_b481_11eb_9ace_1856801111d2\" ><thead>    <tr>        <th class=\"blank level0\" ></th>        <th class=\"col_heading level0 col0\" >Model</th>        <th class=\"col_heading level0 col1\" >Accuracy</th>        <th class=\"col_heading level0 col2\" >AUC</th>        <th class=\"col_heading level0 col3\" >Recall</th>        <th class=\"col_heading level0 col4\" >Prec.</th>        <th class=\"col_heading level0 col5\" >F1</th>        <th class=\"col_heading level0 col6\" >Kappa</th>        <th class=\"col_heading level0 col7\" >MCC</th>        <th class=\"col_heading level0 col8\" >TT (Sec)</th>    </tr></thead><tbody>\n",
       "                <tr>\n",
       "                        <th id=\"T_ab9276ac_b481_11eb_9ace_1856801111d2level0_row0\" class=\"row_heading level0 row0\" >rf</th>\n",
       "                        <td id=\"T_ab9276ac_b481_11eb_9ace_1856801111d2row0_col0\" class=\"data row0 col0\" >Random Forest Classifier</td>\n",
       "                        <td id=\"T_ab9276ac_b481_11eb_9ace_1856801111d2row0_col1\" class=\"data row0 col1\" >0.8765</td>\n",
       "                        <td id=\"T_ab9276ac_b481_11eb_9ace_1856801111d2row0_col2\" class=\"data row0 col2\" >0.9348</td>\n",
       "                        <td id=\"T_ab9276ac_b481_11eb_9ace_1856801111d2row0_col3\" class=\"data row0 col3\" >0.8413</td>\n",
       "                        <td id=\"T_ab9276ac_b481_11eb_9ace_1856801111d2row0_col4\" class=\"data row0 col4\" >0.8775</td>\n",
       "                        <td id=\"T_ab9276ac_b481_11eb_9ace_1856801111d2row0_col5\" class=\"data row0 col5\" >0.8712</td>\n",
       "                        <td id=\"T_ab9276ac_b481_11eb_9ace_1856801111d2row0_col6\" class=\"data row0 col6\" >0.8133</td>\n",
       "                        <td id=\"T_ab9276ac_b481_11eb_9ace_1856801111d2row0_col7\" class=\"data row0 col7\" >0.8168</td>\n",
       "                        <td id=\"T_ab9276ac_b481_11eb_9ace_1856801111d2row0_col8\" class=\"data row0 col8\" >0.1450</td>\n",
       "            </tr>\n",
       "            <tr>\n",
       "                        <th id=\"T_ab9276ac_b481_11eb_9ace_1856801111d2level0_row1\" class=\"row_heading level0 row1\" >gbc</th>\n",
       "                        <td id=\"T_ab9276ac_b481_11eb_9ace_1856801111d2row1_col0\" class=\"data row1 col0\" >Gradient Boosting Classifier</td>\n",
       "                        <td id=\"T_ab9276ac_b481_11eb_9ace_1856801111d2row1_col1\" class=\"data row1 col1\" >0.8715</td>\n",
       "                        <td id=\"T_ab9276ac_b481_11eb_9ace_1856801111d2row1_col2\" class=\"data row1 col2\" >0.9339</td>\n",
       "                        <td id=\"T_ab9276ac_b481_11eb_9ace_1856801111d2row1_col3\" class=\"data row1 col3\" >0.8354</td>\n",
       "                        <td id=\"T_ab9276ac_b481_11eb_9ace_1856801111d2row1_col4\" class=\"data row1 col4\" >0.8734</td>\n",
       "                        <td id=\"T_ab9276ac_b481_11eb_9ace_1856801111d2row1_col5\" class=\"data row1 col5\" >0.8660</td>\n",
       "                        <td id=\"T_ab9276ac_b481_11eb_9ace_1856801111d2row1_col6\" class=\"data row1 col6\" >0.8054</td>\n",
       "                        <td id=\"T_ab9276ac_b481_11eb_9ace_1856801111d2row1_col7\" class=\"data row1 col7\" >0.8089</td>\n",
       "                        <td id=\"T_ab9276ac_b481_11eb_9ace_1856801111d2row1_col8\" class=\"data row1 col8\" >0.1200</td>\n",
       "            </tr>\n",
       "            <tr>\n",
       "                        <th id=\"T_ab9276ac_b481_11eb_9ace_1856801111d2level0_row2\" class=\"row_heading level0 row2\" >lr</th>\n",
       "                        <td id=\"T_ab9276ac_b481_11eb_9ace_1856801111d2row2_col0\" class=\"data row2 col0\" >Logistic Regression</td>\n",
       "                        <td id=\"T_ab9276ac_b481_11eb_9ace_1856801111d2row2_col1\" class=\"data row2 col1\" >0.8641</td>\n",
       "                        <td id=\"T_ab9276ac_b481_11eb_9ace_1856801111d2row2_col2\" class=\"data row2 col2\" >0.9184</td>\n",
       "                        <td id=\"T_ab9276ac_b481_11eb_9ace_1856801111d2row2_col3\" class=\"data row2 col3\" >0.8133</td>\n",
       "                        <td id=\"T_ab9276ac_b481_11eb_9ace_1856801111d2row2_col4\" class=\"data row2 col4\" >0.8678</td>\n",
       "                        <td id=\"T_ab9276ac_b481_11eb_9ace_1856801111d2row2_col5\" class=\"data row2 col5\" >0.8563</td>\n",
       "                        <td id=\"T_ab9276ac_b481_11eb_9ace_1856801111d2row2_col6\" class=\"data row2 col6\" >0.7924</td>\n",
       "                        <td id=\"T_ab9276ac_b481_11eb_9ace_1856801111d2row2_col7\" class=\"data row2 col7\" >0.7979</td>\n",
       "                        <td id=\"T_ab9276ac_b481_11eb_9ace_1856801111d2row2_col8\" class=\"data row2 col8\" >0.8200</td>\n",
       "            </tr>\n",
       "            <tr>\n",
       "                        <th id=\"T_ab9276ac_b481_11eb_9ace_1856801111d2level0_row3\" class=\"row_heading level0 row3\" >lightgbm</th>\n",
       "                        <td id=\"T_ab9276ac_b481_11eb_9ace_1856801111d2row3_col0\" class=\"data row3 col0\" >Light Gradient Boosting Machine</td>\n",
       "                        <td id=\"T_ab9276ac_b481_11eb_9ace_1856801111d2row3_col1\" class=\"data row3 col1\" >0.8641</td>\n",
       "                        <td id=\"T_ab9276ac_b481_11eb_9ace_1856801111d2row3_col2\" class=\"data row3 col2\" >0.9339</td>\n",
       "                        <td id=\"T_ab9276ac_b481_11eb_9ace_1856801111d2row3_col3\" class=\"data row3 col3\" >0.8289</td>\n",
       "                        <td id=\"T_ab9276ac_b481_11eb_9ace_1856801111d2row3_col4\" class=\"data row3 col4\" >0.8659</td>\n",
       "                        <td id=\"T_ab9276ac_b481_11eb_9ace_1856801111d2row3_col5\" class=\"data row3 col5\" >0.8587</td>\n",
       "                        <td id=\"T_ab9276ac_b481_11eb_9ace_1856801111d2row3_col6\" class=\"data row3 col6\" >0.7950</td>\n",
       "                        <td id=\"T_ab9276ac_b481_11eb_9ace_1856801111d2row3_col7\" class=\"data row3 col7\" >0.7982</td>\n",
       "                        <td id=\"T_ab9276ac_b481_11eb_9ace_1856801111d2row3_col8\" class=\"data row3 col8\" >0.0820</td>\n",
       "            </tr>\n",
       "            <tr>\n",
       "                        <th id=\"T_ab9276ac_b481_11eb_9ace_1856801111d2level0_row4\" class=\"row_heading level0 row4\" >ridge</th>\n",
       "                        <td id=\"T_ab9276ac_b481_11eb_9ace_1856801111d2row4_col0\" class=\"data row4 col0\" >Ridge Classifier</td>\n",
       "                        <td id=\"T_ab9276ac_b481_11eb_9ace_1856801111d2row4_col1\" class=\"data row4 col1\" >0.8504</td>\n",
       "                        <td id=\"T_ab9276ac_b481_11eb_9ace_1856801111d2row4_col2\" class=\"data row4 col2\" >0.0000</td>\n",
       "                        <td id=\"T_ab9276ac_b481_11eb_9ace_1856801111d2row4_col3\" class=\"data row4 col3\" >0.7909</td>\n",
       "                        <td id=\"T_ab9276ac_b481_11eb_9ace_1856801111d2row4_col4\" class=\"data row4 col4\" >0.8600</td>\n",
       "                        <td id=\"T_ab9276ac_b481_11eb_9ace_1856801111d2row4_col5\" class=\"data row4 col5\" >0.8322</td>\n",
       "                        <td id=\"T_ab9276ac_b481_11eb_9ace_1856801111d2row4_col6\" class=\"data row4 col6\" >0.7723</td>\n",
       "                        <td id=\"T_ab9276ac_b481_11eb_9ace_1856801111d2row4_col7\" class=\"data row4 col7\" >0.7804</td>\n",
       "                        <td id=\"T_ab9276ac_b481_11eb_9ace_1856801111d2row4_col8\" class=\"data row4 col8\" >0.0160</td>\n",
       "            </tr>\n",
       "            <tr>\n",
       "                        <th id=\"T_ab9276ac_b481_11eb_9ace_1856801111d2level0_row5\" class=\"row_heading level0 row5\" >et</th>\n",
       "                        <td id=\"T_ab9276ac_b481_11eb_9ace_1856801111d2row5_col0\" class=\"data row5 col0\" >Extra Trees Classifier</td>\n",
       "                        <td id=\"T_ab9276ac_b481_11eb_9ace_1856801111d2row5_col1\" class=\"data row5 col1\" >0.8454</td>\n",
       "                        <td id=\"T_ab9276ac_b481_11eb_9ace_1856801111d2row5_col2\" class=\"data row5 col2\" >0.9310</td>\n",
       "                        <td id=\"T_ab9276ac_b481_11eb_9ace_1856801111d2row5_col3\" class=\"data row5 col3\" >0.8078</td>\n",
       "                        <td id=\"T_ab9276ac_b481_11eb_9ace_1856801111d2row5_col4\" class=\"data row5 col4\" >0.8444</td>\n",
       "                        <td id=\"T_ab9276ac_b481_11eb_9ace_1856801111d2row5_col5\" class=\"data row5 col5\" >0.8416</td>\n",
       "                        <td id=\"T_ab9276ac_b481_11eb_9ace_1856801111d2row5_col6\" class=\"data row5 col6\" >0.7669</td>\n",
       "                        <td id=\"T_ab9276ac_b481_11eb_9ace_1856801111d2row5_col7\" class=\"data row5 col7\" >0.7694</td>\n",
       "                        <td id=\"T_ab9276ac_b481_11eb_9ace_1856801111d2row5_col8\" class=\"data row5 col8\" >0.1310</td>\n",
       "            </tr>\n",
       "            <tr>\n",
       "                        <th id=\"T_ab9276ac_b481_11eb_9ace_1856801111d2level0_row6\" class=\"row_heading level0 row6\" >lda</th>\n",
       "                        <td id=\"T_ab9276ac_b481_11eb_9ace_1856801111d2row6_col0\" class=\"data row6 col0\" >Linear Discriminant Analysis</td>\n",
       "                        <td id=\"T_ab9276ac_b481_11eb_9ace_1856801111d2row6_col1\" class=\"data row6 col1\" >0.8392</td>\n",
       "                        <td id=\"T_ab9276ac_b481_11eb_9ace_1856801111d2row6_col2\" class=\"data row6 col2\" >0.9222</td>\n",
       "                        <td id=\"T_ab9276ac_b481_11eb_9ace_1856801111d2row6_col3\" class=\"data row6 col3\" >0.7714</td>\n",
       "                        <td id=\"T_ab9276ac_b481_11eb_9ace_1856801111d2row6_col4\" class=\"data row6 col4\" >0.8444</td>\n",
       "                        <td id=\"T_ab9276ac_b481_11eb_9ace_1856801111d2row6_col5\" class=\"data row6 col5\" >0.8131</td>\n",
       "                        <td id=\"T_ab9276ac_b481_11eb_9ace_1856801111d2row6_col6\" class=\"data row6 col6\" >0.7560</td>\n",
       "                        <td id=\"T_ab9276ac_b481_11eb_9ace_1856801111d2row6_col7\" class=\"data row6 col7\" >0.7664</td>\n",
       "                        <td id=\"T_ab9276ac_b481_11eb_9ace_1856801111d2row6_col8\" class=\"data row6 col8\" >0.0170</td>\n",
       "            </tr>\n",
       "            <tr>\n",
       "                        <th id=\"T_ab9276ac_b481_11eb_9ace_1856801111d2level0_row7\" class=\"row_heading level0 row7\" >dt</th>\n",
       "                        <td id=\"T_ab9276ac_b481_11eb_9ace_1856801111d2row7_col0\" class=\"data row7 col0\" >Decision Tree Classifier</td>\n",
       "                        <td id=\"T_ab9276ac_b481_11eb_9ace_1856801111d2row7_col1\" class=\"data row7 col1\" >0.8055</td>\n",
       "                        <td id=\"T_ab9276ac_b481_11eb_9ace_1856801111d2row7_col2\" class=\"data row7 col2\" >0.8593</td>\n",
       "                        <td id=\"T_ab9276ac_b481_11eb_9ace_1856801111d2row7_col3\" class=\"data row7 col3\" >0.7934</td>\n",
       "                        <td id=\"T_ab9276ac_b481_11eb_9ace_1856801111d2row7_col4\" class=\"data row7 col4\" >0.8164</td>\n",
       "                        <td id=\"T_ab9276ac_b481_11eb_9ace_1856801111d2row7_col5\" class=\"data row7 col5\" >0.8066</td>\n",
       "                        <td id=\"T_ab9276ac_b481_11eb_9ace_1856801111d2row7_col6\" class=\"data row7 col6\" >0.7122</td>\n",
       "                        <td id=\"T_ab9276ac_b481_11eb_9ace_1856801111d2row7_col7\" class=\"data row7 col7\" >0.7150</td>\n",
       "                        <td id=\"T_ab9276ac_b481_11eb_9ace_1856801111d2row7_col8\" class=\"data row7 col8\" >0.0100</td>\n",
       "            </tr>\n",
       "            <tr>\n",
       "                        <th id=\"T_ab9276ac_b481_11eb_9ace_1856801111d2level0_row8\" class=\"row_heading level0 row8\" >ada</th>\n",
       "                        <td id=\"T_ab9276ac_b481_11eb_9ace_1856801111d2row8_col0\" class=\"data row8 col0\" >Ada Boost Classifier</td>\n",
       "                        <td id=\"T_ab9276ac_b481_11eb_9ace_1856801111d2row8_col1\" class=\"data row8 col1\" >0.7619</td>\n",
       "                        <td id=\"T_ab9276ac_b481_11eb_9ace_1856801111d2row8_col2\" class=\"data row8 col2\" >0.8576</td>\n",
       "                        <td id=\"T_ab9276ac_b481_11eb_9ace_1856801111d2row8_col3\" class=\"data row8 col3\" >0.6504</td>\n",
       "                        <td id=\"T_ab9276ac_b481_11eb_9ace_1856801111d2row8_col4\" class=\"data row8 col4\" >0.6943</td>\n",
       "                        <td id=\"T_ab9276ac_b481_11eb_9ace_1856801111d2row8_col5\" class=\"data row8 col5\" >0.7176</td>\n",
       "                        <td id=\"T_ab9276ac_b481_11eb_9ace_1856801111d2row8_col6\" class=\"data row8 col6\" >0.6379</td>\n",
       "                        <td id=\"T_ab9276ac_b481_11eb_9ace_1856801111d2row8_col7\" class=\"data row8 col7\" >0.6526</td>\n",
       "                        <td id=\"T_ab9276ac_b481_11eb_9ace_1856801111d2row8_col8\" class=\"data row8 col8\" >0.0360</td>\n",
       "            </tr>\n",
       "            <tr>\n",
       "                        <th id=\"T_ab9276ac_b481_11eb_9ace_1856801111d2level0_row9\" class=\"row_heading level0 row9\" >nb</th>\n",
       "                        <td id=\"T_ab9276ac_b481_11eb_9ace_1856801111d2row9_col0\" class=\"data row9 col0\" >Naive Bayes</td>\n",
       "                        <td id=\"T_ab9276ac_b481_11eb_9ace_1856801111d2row9_col1\" class=\"data row9 col1\" >0.7443</td>\n",
       "                        <td id=\"T_ab9276ac_b481_11eb_9ace_1856801111d2row9_col2\" class=\"data row9 col2\" >0.9201</td>\n",
       "                        <td id=\"T_ab9276ac_b481_11eb_9ace_1856801111d2row9_col3\" class=\"data row9 col3\" >0.7422</td>\n",
       "                        <td id=\"T_ab9276ac_b481_11eb_9ace_1856801111d2row9_col4\" class=\"data row9 col4\" >0.7894</td>\n",
       "                        <td id=\"T_ab9276ac_b481_11eb_9ace_1856801111d2row9_col5\" class=\"data row9 col5\" >0.7368</td>\n",
       "                        <td id=\"T_ab9276ac_b481_11eb_9ace_1856801111d2row9_col6\" class=\"data row9 col6\" >0.6294</td>\n",
       "                        <td id=\"T_ab9276ac_b481_11eb_9ace_1856801111d2row9_col7\" class=\"data row9 col7\" >0.6525</td>\n",
       "                        <td id=\"T_ab9276ac_b481_11eb_9ace_1856801111d2row9_col8\" class=\"data row9 col8\" >0.0190</td>\n",
       "            </tr>\n",
       "            <tr>\n",
       "                        <th id=\"T_ab9276ac_b481_11eb_9ace_1856801111d2level0_row10\" class=\"row_heading level0 row10\" >knn</th>\n",
       "                        <td id=\"T_ab9276ac_b481_11eb_9ace_1856801111d2row10_col0\" class=\"data row10 col0\" >K Neighbors Classifier</td>\n",
       "                        <td id=\"T_ab9276ac_b481_11eb_9ace_1856801111d2row10_col1\" class=\"data row10 col1\" >0.6784</td>\n",
       "                        <td id=\"T_ab9276ac_b481_11eb_9ace_1856801111d2row10_col2\" class=\"data row10 col2\" >0.8023</td>\n",
       "                        <td id=\"T_ab9276ac_b481_11eb_9ace_1856801111d2row10_col3\" class=\"data row10 col3\" >0.4931</td>\n",
       "                        <td id=\"T_ab9276ac_b481_11eb_9ace_1856801111d2row10_col4\" class=\"data row10 col4\" >0.6286</td>\n",
       "                        <td id=\"T_ab9276ac_b481_11eb_9ace_1856801111d2row10_col5\" class=\"data row10 col5\" >0.6148</td>\n",
       "                        <td id=\"T_ab9276ac_b481_11eb_9ace_1856801111d2row10_col6\" class=\"data row10 col6\" >0.4849</td>\n",
       "                        <td id=\"T_ab9276ac_b481_11eb_9ace_1856801111d2row10_col7\" class=\"data row10 col7\" >0.5067</td>\n",
       "                        <td id=\"T_ab9276ac_b481_11eb_9ace_1856801111d2row10_col8\" class=\"data row10 col8\" >0.3710</td>\n",
       "            </tr>\n",
       "            <tr>\n",
       "                        <th id=\"T_ab9276ac_b481_11eb_9ace_1856801111d2level0_row11\" class=\"row_heading level0 row11\" >svm</th>\n",
       "                        <td id=\"T_ab9276ac_b481_11eb_9ace_1856801111d2row11_col0\" class=\"data row11 col0\" >SVM - Linear Kernel</td>\n",
       "                        <td id=\"T_ab9276ac_b481_11eb_9ace_1856801111d2row11_col1\" class=\"data row11 col1\" >0.6605</td>\n",
       "                        <td id=\"T_ab9276ac_b481_11eb_9ace_1856801111d2row11_col2\" class=\"data row11 col2\" >0.0000</td>\n",
       "                        <td id=\"T_ab9276ac_b481_11eb_9ace_1856801111d2row11_col3\" class=\"data row11 col3\" >0.5635</td>\n",
       "                        <td id=\"T_ab9276ac_b481_11eb_9ace_1856801111d2row11_col4\" class=\"data row11 col4\" >0.6577</td>\n",
       "                        <td id=\"T_ab9276ac_b481_11eb_9ace_1856801111d2row11_col5\" class=\"data row11 col5\" >0.6137</td>\n",
       "                        <td id=\"T_ab9276ac_b481_11eb_9ace_1856801111d2row11_col6\" class=\"data row11 col6\" >0.4826</td>\n",
       "                        <td id=\"T_ab9276ac_b481_11eb_9ace_1856801111d2row11_col7\" class=\"data row11 col7\" >0.5310</td>\n",
       "                        <td id=\"T_ab9276ac_b481_11eb_9ace_1856801111d2row11_col8\" class=\"data row11 col8\" >0.0270</td>\n",
       "            </tr>\n",
       "            <tr>\n",
       "                        <th id=\"T_ab9276ac_b481_11eb_9ace_1856801111d2level0_row12\" class=\"row_heading level0 row12\" >qda</th>\n",
       "                        <td id=\"T_ab9276ac_b481_11eb_9ace_1856801111d2row12_col0\" class=\"data row12 col0\" >Quadratic Discriminant Analysis</td>\n",
       "                        <td id=\"T_ab9276ac_b481_11eb_9ace_1856801111d2row12_col1\" class=\"data row12 col1\" >0.5314</td>\n",
       "                        <td id=\"T_ab9276ac_b481_11eb_9ace_1856801111d2row12_col2\" class=\"data row12 col2\" >0.7870</td>\n",
       "                        <td id=\"T_ab9276ac_b481_11eb_9ace_1856801111d2row12_col3\" class=\"data row12 col3\" >0.5720</td>\n",
       "                        <td id=\"T_ab9276ac_b481_11eb_9ace_1856801111d2row12_col4\" class=\"data row12 col4\" >0.5545</td>\n",
       "                        <td id=\"T_ab9276ac_b481_11eb_9ace_1856801111d2row12_col5\" class=\"data row12 col5\" >0.4941</td>\n",
       "                        <td id=\"T_ab9276ac_b481_11eb_9ace_1856801111d2row12_col6\" class=\"data row12 col6\" >0.3399</td>\n",
       "                        <td id=\"T_ab9276ac_b481_11eb_9ace_1856801111d2row12_col7\" class=\"data row12 col7\" >0.3929</td>\n",
       "                        <td id=\"T_ab9276ac_b481_11eb_9ace_1856801111d2row12_col8\" class=\"data row12 col8\" >0.0130</td>\n",
       "            </tr>\n",
       "    </tbody></table>"
      ],
      "text/plain": [
       "<pandas.io.formats.style.Styler at 0x28088516be0>"
      ]
     },
     "metadata": {},
     "output_type": "display_data"
    },
    {
     "data": {
      "text/plain": [
       "RandomForestClassifier(bootstrap=True, ccp_alpha=0.0, class_weight=None,\n",
       "                       criterion='gini', max_depth=None, max_features='auto',\n",
       "                       max_leaf_nodes=None, max_samples=None,\n",
       "                       min_impurity_decrease=0.0, min_impurity_split=None,\n",
       "                       min_samples_leaf=1, min_samples_split=2,\n",
       "                       min_weight_fraction_leaf=0.0, n_estimators=100,\n",
       "                       n_jobs=-1, oob_score=False, random_state=337, verbose=0,\n",
       "                       warm_start=False)"
      ]
     },
     "execution_count": 7,
     "metadata": {},
     "output_type": "execute_result"
    }
   ],
   "source": [
    "compare_models()"
   ]
  },
  {
   "cell_type": "markdown",
   "metadata": {
    "id": "V1hNNR4_JZf7"
   },
   "source": [
    "So `Logistic Regression` is looking promising for `AUC` but `Recall` is not high, regardless I'll build a model on this. As shown below each fold's metrics are shown and the average from them."
   ]
  },
  {
   "cell_type": "code",
   "execution_count": 8,
   "metadata": {
    "colab": {
     "base_uri": "https://localhost:8080/",
     "height": 426,
     "referenced_widgets": [
      "b6b46c63554f41e19483e5b31ec2280c",
      "b549798269f8405aa59800806a5ea628",
      "0d7c00441e6445f9b71c68df63947725"
     ]
    },
    "id": "nAKyo6bfKgTL",
    "outputId": "8c3f709a-d34a-4073-b613-b565ce9ecb6f"
   },
   "outputs": [
    {
     "data": {
      "text/html": [
       "<style  type=\"text/css\" >\n",
       "#T_ace68c1e_b481_11eb_be3e_1856801111d2row10_col0,#T_ace68c1e_b481_11eb_be3e_1856801111d2row10_col1,#T_ace68c1e_b481_11eb_be3e_1856801111d2row10_col2,#T_ace68c1e_b481_11eb_be3e_1856801111d2row10_col3,#T_ace68c1e_b481_11eb_be3e_1856801111d2row10_col4,#T_ace68c1e_b481_11eb_be3e_1856801111d2row10_col5,#T_ace68c1e_b481_11eb_be3e_1856801111d2row10_col6{\n",
       "            background:  yellow;\n",
       "        }</style><table id=\"T_ace68c1e_b481_11eb_be3e_1856801111d2\" ><thead>    <tr>        <th class=\"blank level0\" ></th>        <th class=\"col_heading level0 col0\" >Accuracy</th>        <th class=\"col_heading level0 col1\" >AUC</th>        <th class=\"col_heading level0 col2\" >Recall</th>        <th class=\"col_heading level0 col3\" >Prec.</th>        <th class=\"col_heading level0 col4\" >F1</th>        <th class=\"col_heading level0 col5\" >Kappa</th>        <th class=\"col_heading level0 col6\" >MCC</th>    </tr></thead><tbody>\n",
       "                <tr>\n",
       "                        <th id=\"T_ace68c1e_b481_11eb_be3e_1856801111d2level0_row0\" class=\"row_heading level0 row0\" >0</th>\n",
       "                        <td id=\"T_ace68c1e_b481_11eb_be3e_1856801111d2row0_col0\" class=\"data row0 col0\" >0.9259</td>\n",
       "                        <td id=\"T_ace68c1e_b481_11eb_be3e_1856801111d2row0_col1\" class=\"data row0 col1\" >0.9787</td>\n",
       "                        <td id=\"T_ace68c1e_b481_11eb_be3e_1856801111d2row0_col2\" class=\"data row0 col2\" >0.9099</td>\n",
       "                        <td id=\"T_ace68c1e_b481_11eb_be3e_1856801111d2row0_col3\" class=\"data row0 col3\" >0.9252</td>\n",
       "                        <td id=\"T_ace68c1e_b481_11eb_be3e_1856801111d2row0_col4\" class=\"data row0 col4\" >0.9228</td>\n",
       "                        <td id=\"T_ace68c1e_b481_11eb_be3e_1856801111d2row0_col5\" class=\"data row0 col5\" >0.8885</td>\n",
       "                        <td id=\"T_ace68c1e_b481_11eb_be3e_1856801111d2row0_col6\" class=\"data row0 col6\" >0.8899</td>\n",
       "            </tr>\n",
       "            <tr>\n",
       "                        <th id=\"T_ace68c1e_b481_11eb_be3e_1856801111d2level0_row1\" class=\"row_heading level0 row1\" >1</th>\n",
       "                        <td id=\"T_ace68c1e_b481_11eb_be3e_1856801111d2row1_col0\" class=\"data row1 col0\" >0.8519</td>\n",
       "                        <td id=\"T_ace68c1e_b481_11eb_be3e_1856801111d2row1_col1\" class=\"data row1 col1\" >0.9360</td>\n",
       "                        <td id=\"T_ace68c1e_b481_11eb_be3e_1856801111d2row1_col2\" class=\"data row1 col2\" >0.8259</td>\n",
       "                        <td id=\"T_ace68c1e_b481_11eb_be3e_1856801111d2row1_col3\" class=\"data row1 col3\" >0.8502</td>\n",
       "                        <td id=\"T_ace68c1e_b481_11eb_be3e_1856801111d2row1_col4\" class=\"data row1 col4\" >0.8486</td>\n",
       "                        <td id=\"T_ace68c1e_b481_11eb_be3e_1856801111d2row1_col5\" class=\"data row1 col5\" >0.7789</td>\n",
       "                        <td id=\"T_ace68c1e_b481_11eb_be3e_1856801111d2row1_col6\" class=\"data row1 col6\" >0.7800</td>\n",
       "            </tr>\n",
       "            <tr>\n",
       "                        <th id=\"T_ace68c1e_b481_11eb_be3e_1856801111d2level0_row2\" class=\"row_heading level0 row2\" >2</th>\n",
       "                        <td id=\"T_ace68c1e_b481_11eb_be3e_1856801111d2row2_col0\" class=\"data row2 col0\" >0.8500</td>\n",
       "                        <td id=\"T_ace68c1e_b481_11eb_be3e_1856801111d2row2_col1\" class=\"data row2 col1\" >0.9137</td>\n",
       "                        <td id=\"T_ace68c1e_b481_11eb_be3e_1856801111d2row2_col2\" class=\"data row2 col2\" >0.8106</td>\n",
       "                        <td id=\"T_ace68c1e_b481_11eb_be3e_1856801111d2row2_col3\" class=\"data row2 col3\" >0.8431</td>\n",
       "                        <td id=\"T_ace68c1e_b481_11eb_be3e_1856801111d2row2_col4\" class=\"data row2 col4\" >0.8394</td>\n",
       "                        <td id=\"T_ace68c1e_b481_11eb_be3e_1856801111d2row2_col5\" class=\"data row2 col5\" >0.7720</td>\n",
       "                        <td id=\"T_ace68c1e_b481_11eb_be3e_1856801111d2row2_col6\" class=\"data row2 col6\" >0.7757</td>\n",
       "            </tr>\n",
       "            <tr>\n",
       "                        <th id=\"T_ace68c1e_b481_11eb_be3e_1856801111d2level0_row3\" class=\"row_heading level0 row3\" >3</th>\n",
       "                        <td id=\"T_ace68c1e_b481_11eb_be3e_1856801111d2row3_col0\" class=\"data row3 col0\" >0.9000</td>\n",
       "                        <td id=\"T_ace68c1e_b481_11eb_be3e_1856801111d2row3_col1\" class=\"data row3 col1\" >0.9342</td>\n",
       "                        <td id=\"T_ace68c1e_b481_11eb_be3e_1856801111d2row3_col2\" class=\"data row3 col2\" >0.8638</td>\n",
       "                        <td id=\"T_ace68c1e_b481_11eb_be3e_1856801111d2row3_col3\" class=\"data row3 col3\" >0.9030</td>\n",
       "                        <td id=\"T_ace68c1e_b481_11eb_be3e_1856801111d2row3_col4\" class=\"data row3 col4\" >0.8977</td>\n",
       "                        <td id=\"T_ace68c1e_b481_11eb_be3e_1856801111d2row3_col5\" class=\"data row3 col5\" >0.8470</td>\n",
       "                        <td id=\"T_ace68c1e_b481_11eb_be3e_1856801111d2row3_col6\" class=\"data row3 col6\" >0.8500</td>\n",
       "            </tr>\n",
       "            <tr>\n",
       "                        <th id=\"T_ace68c1e_b481_11eb_be3e_1856801111d2level0_row4\" class=\"row_heading level0 row4\" >4</th>\n",
       "                        <td id=\"T_ace68c1e_b481_11eb_be3e_1856801111d2row4_col0\" class=\"data row4 col0\" >0.8750</td>\n",
       "                        <td id=\"T_ace68c1e_b481_11eb_be3e_1856801111d2row4_col1\" class=\"data row4 col1\" >0.9329</td>\n",
       "                        <td id=\"T_ace68c1e_b481_11eb_be3e_1856801111d2row4_col2\" class=\"data row4 col2\" >0.8417</td>\n",
       "                        <td id=\"T_ace68c1e_b481_11eb_be3e_1856801111d2row4_col3\" class=\"data row4 col3\" >0.8781</td>\n",
       "                        <td id=\"T_ace68c1e_b481_11eb_be3e_1856801111d2row4_col4\" class=\"data row4 col4\" >0.8724</td>\n",
       "                        <td id=\"T_ace68c1e_b481_11eb_be3e_1856801111d2row4_col5\" class=\"data row4 col5\" >0.8137</td>\n",
       "                        <td id=\"T_ace68c1e_b481_11eb_be3e_1856801111d2row4_col6\" class=\"data row4 col6\" >0.8169</td>\n",
       "            </tr>\n",
       "            <tr>\n",
       "                        <th id=\"T_ace68c1e_b481_11eb_be3e_1856801111d2level0_row5\" class=\"row_heading level0 row5\" >5</th>\n",
       "                        <td id=\"T_ace68c1e_b481_11eb_be3e_1856801111d2row5_col0\" class=\"data row5 col0\" >0.9000</td>\n",
       "                        <td id=\"T_ace68c1e_b481_11eb_be3e_1856801111d2row5_col1\" class=\"data row5 col1\" >0.9555</td>\n",
       "                        <td id=\"T_ace68c1e_b481_11eb_be3e_1856801111d2row5_col2\" class=\"data row5 col2\" >0.8585</td>\n",
       "                        <td id=\"T_ace68c1e_b481_11eb_be3e_1856801111d2row5_col3\" class=\"data row5 col3\" >0.9113</td>\n",
       "                        <td id=\"T_ace68c1e_b481_11eb_be3e_1856801111d2row5_col4\" class=\"data row5 col4\" >0.8978</td>\n",
       "                        <td id=\"T_ace68c1e_b481_11eb_be3e_1856801111d2row5_col5\" class=\"data row5 col5\" >0.8454</td>\n",
       "                        <td id=\"T_ace68c1e_b481_11eb_be3e_1856801111d2row5_col6\" class=\"data row5 col6\" >0.8517</td>\n",
       "            </tr>\n",
       "            <tr>\n",
       "                        <th id=\"T_ace68c1e_b481_11eb_be3e_1856801111d2level0_row6\" class=\"row_heading level0 row6\" >6</th>\n",
       "                        <td id=\"T_ace68c1e_b481_11eb_be3e_1856801111d2row6_col0\" class=\"data row6 col0\" >0.8375</td>\n",
       "                        <td id=\"T_ace68c1e_b481_11eb_be3e_1856801111d2row6_col1\" class=\"data row6 col1\" >0.8581</td>\n",
       "                        <td id=\"T_ace68c1e_b481_11eb_be3e_1856801111d2row6_col2\" class=\"data row6 col2\" >0.7935</td>\n",
       "                        <td id=\"T_ace68c1e_b481_11eb_be3e_1856801111d2row6_col3\" class=\"data row6 col3\" >0.8308</td>\n",
       "                        <td id=\"T_ace68c1e_b481_11eb_be3e_1856801111d2row6_col4\" class=\"data row6 col4\" >0.8280</td>\n",
       "                        <td id=\"T_ace68c1e_b481_11eb_be3e_1856801111d2row6_col5\" class=\"data row6 col5\" >0.7548</td>\n",
       "                        <td id=\"T_ace68c1e_b481_11eb_be3e_1856801111d2row6_col6\" class=\"data row6 col6\" >0.7587</td>\n",
       "            </tr>\n",
       "            <tr>\n",
       "                        <th id=\"T_ace68c1e_b481_11eb_be3e_1856801111d2level0_row7\" class=\"row_heading level0 row7\" >7</th>\n",
       "                        <td id=\"T_ace68c1e_b481_11eb_be3e_1856801111d2row7_col0\" class=\"data row7 col0\" >0.9000</td>\n",
       "                        <td id=\"T_ace68c1e_b481_11eb_be3e_1856801111d2row7_col1\" class=\"data row7 col1\" >0.9768</td>\n",
       "                        <td id=\"T_ace68c1e_b481_11eb_be3e_1856801111d2row7_col2\" class=\"data row7 col2\" >0.8728</td>\n",
       "                        <td id=\"T_ace68c1e_b481_11eb_be3e_1856801111d2row7_col3\" class=\"data row7 col3\" >0.9002</td>\n",
       "                        <td id=\"T_ace68c1e_b481_11eb_be3e_1856801111d2row7_col4\" class=\"data row7 col4\" >0.8992</td>\n",
       "                        <td id=\"T_ace68c1e_b481_11eb_be3e_1856801111d2row7_col5\" class=\"data row7 col5\" >0.8489</td>\n",
       "                        <td id=\"T_ace68c1e_b481_11eb_be3e_1856801111d2row7_col6\" class=\"data row7 col6\" >0.8496</td>\n",
       "            </tr>\n",
       "            <tr>\n",
       "                        <th id=\"T_ace68c1e_b481_11eb_be3e_1856801111d2level0_row8\" class=\"row_heading level0 row8\" >8</th>\n",
       "                        <td id=\"T_ace68c1e_b481_11eb_be3e_1856801111d2row8_col0\" class=\"data row8 col0\" >0.8750</td>\n",
       "                        <td id=\"T_ace68c1e_b481_11eb_be3e_1856801111d2row8_col1\" class=\"data row8 col1\" >0.9399</td>\n",
       "                        <td id=\"T_ace68c1e_b481_11eb_be3e_1856801111d2row8_col2\" class=\"data row8 col2\" >0.8348</td>\n",
       "                        <td id=\"T_ace68c1e_b481_11eb_be3e_1856801111d2row8_col3\" class=\"data row8 col3\" >0.8853</td>\n",
       "                        <td id=\"T_ace68c1e_b481_11eb_be3e_1856801111d2row8_col4\" class=\"data row8 col4\" >0.8737</td>\n",
       "                        <td id=\"T_ace68c1e_b481_11eb_be3e_1856801111d2row8_col5\" class=\"data row8 col5\" >0.8132</td>\n",
       "                        <td id=\"T_ace68c1e_b481_11eb_be3e_1856801111d2row8_col6\" class=\"data row8 col6\" >0.8178</td>\n",
       "            </tr>\n",
       "            <tr>\n",
       "                        <th id=\"T_ace68c1e_b481_11eb_be3e_1856801111d2level0_row9\" class=\"row_heading level0 row9\" >9</th>\n",
       "                        <td id=\"T_ace68c1e_b481_11eb_be3e_1856801111d2row9_col0\" class=\"data row9 col0\" >0.8500</td>\n",
       "                        <td id=\"T_ace68c1e_b481_11eb_be3e_1856801111d2row9_col1\" class=\"data row9 col1\" >0.9227</td>\n",
       "                        <td id=\"T_ace68c1e_b481_11eb_be3e_1856801111d2row9_col2\" class=\"data row9 col2\" >0.8017</td>\n",
       "                        <td id=\"T_ace68c1e_b481_11eb_be3e_1856801111d2row9_col3\" class=\"data row9 col3\" >0.8480</td>\n",
       "                        <td id=\"T_ace68c1e_b481_11eb_be3e_1856801111d2row9_col4\" class=\"data row9 col4\" >0.8322</td>\n",
       "                        <td id=\"T_ace68c1e_b481_11eb_be3e_1856801111d2row9_col5\" class=\"data row9 col5\" >0.7701</td>\n",
       "                        <td id=\"T_ace68c1e_b481_11eb_be3e_1856801111d2row9_col6\" class=\"data row9 col6\" >0.7775</td>\n",
       "            </tr>\n",
       "            <tr>\n",
       "                        <th id=\"T_ace68c1e_b481_11eb_be3e_1856801111d2level0_row10\" class=\"row_heading level0 row10\" >Mean</th>\n",
       "                        <td id=\"T_ace68c1e_b481_11eb_be3e_1856801111d2row10_col0\" class=\"data row10 col0\" >0.8765</td>\n",
       "                        <td id=\"T_ace68c1e_b481_11eb_be3e_1856801111d2row10_col1\" class=\"data row10 col1\" >0.9348</td>\n",
       "                        <td id=\"T_ace68c1e_b481_11eb_be3e_1856801111d2row10_col2\" class=\"data row10 col2\" >0.8413</td>\n",
       "                        <td id=\"T_ace68c1e_b481_11eb_be3e_1856801111d2row10_col3\" class=\"data row10 col3\" >0.8775</td>\n",
       "                        <td id=\"T_ace68c1e_b481_11eb_be3e_1856801111d2row10_col4\" class=\"data row10 col4\" >0.8712</td>\n",
       "                        <td id=\"T_ace68c1e_b481_11eb_be3e_1856801111d2row10_col5\" class=\"data row10 col5\" >0.8133</td>\n",
       "                        <td id=\"T_ace68c1e_b481_11eb_be3e_1856801111d2row10_col6\" class=\"data row10 col6\" >0.8168</td>\n",
       "            </tr>\n",
       "            <tr>\n",
       "                        <th id=\"T_ace68c1e_b481_11eb_be3e_1856801111d2level0_row11\" class=\"row_heading level0 row11\" >SD</th>\n",
       "                        <td id=\"T_ace68c1e_b481_11eb_be3e_1856801111d2row11_col0\" class=\"data row11 col0\" >0.0276</td>\n",
       "                        <td id=\"T_ace68c1e_b481_11eb_be3e_1856801111d2row11_col1\" class=\"data row11 col1\" >0.0326</td>\n",
       "                        <td id=\"T_ace68c1e_b481_11eb_be3e_1856801111d2row11_col2\" class=\"data row11 col2\" >0.0340</td>\n",
       "                        <td id=\"T_ace68c1e_b481_11eb_be3e_1856801111d2row11_col3\" class=\"data row11 col3\" >0.0310</td>\n",
       "                        <td id=\"T_ace68c1e_b481_11eb_be3e_1856801111d2row11_col4\" class=\"data row11 col4\" >0.0313</td>\n",
       "                        <td id=\"T_ace68c1e_b481_11eb_be3e_1856801111d2row11_col5\" class=\"data row11 col5\" >0.0415</td>\n",
       "                        <td id=\"T_ace68c1e_b481_11eb_be3e_1856801111d2row11_col6\" class=\"data row11 col6\" >0.0409</td>\n",
       "            </tr>\n",
       "    </tbody></table>"
      ],
      "text/plain": [
       "<pandas.io.formats.style.Styler at 0x28088c3c630>"
      ]
     },
     "metadata": {},
     "output_type": "display_data"
    }
   ],
   "source": [
    "rf = create_model(\"rf\") # Create logistic regression model"
   ]
  },
  {
   "cell_type": "markdown",
   "metadata": {
    "id": "OR0JSobxNGVa"
   },
   "source": [
    "Some hyperparameter tuning may help improve the model a bit so I'll use `tune_model` and focus on `AUC`. I'm using the `optuna` library and searching using `tpe` searching algorithm.\n",
    "\n",
    "Overall there doesn't seem like much improvement."
   ]
  },
  {
   "cell_type": "code",
   "execution_count": null,
   "metadata": {},
   "outputs": [],
   "source": []
  },
  {
   "cell_type": "markdown",
   "metadata": {
    "id": "4GZGPPFQW2Zh"
   },
   "source": [
    "# **Generating synthetic data** \n",
    "# **NAIVE GENERATING**\n",
    "# **COPULAGAN**\n",
    "There's a useful library `sdev` [Synthetic Data Generation](https://github.com/sdv-dev/SDV) to generate synthetic tabular data. I've played around with it specifically the `CopulaGAN` model.\n",
    "\n",
    "The general idea is to provide a `primary key` and to then run the model for so many `epochs`. There are hyperparameters to tune\n",
    "* `epochs`\n",
    "* `batch_size`\n",
    "* `embedding_dim`\n",
    "* `gen_dim`\n",
    "* `dis_dim`\n",
    "* `l2scale` (omitted in this experiment)\n",
    "\n",
    "\n",
    "\n",
    "Rather than running a CopulaGAN without hyperparameters or guessing hyperparameters I've leveraged `BTB` [Bayesian Tuning and Bandits](https://github.com/MLBazaar/BTB) which is an optimisation library. To start I'll initialise the `GCPTuner` which is used to declare the hyperparameters to tune. Then the hyperparameters can be called using `propose` from BTB."
   ]
  },
  {
   "cell_type": "code",
   "execution_count": 9,
   "metadata": {},
   "outputs": [
    {
     "name": "stdout",
     "output_type": "stream",
     "text": [
      "15.96 53.13\n",
      "0 3\n"
     ]
    }
   ],
   "source": [
    "def MAXINT(a,b): return (abs(a-b)+(a+b))//2\n",
    "\n",
    "def MAX(a,b): return (abs(a-b)+(a+b))/2\n",
    "\n",
    "def MININT(a,b): return (-abs(a-b)+(a+b))//2\n",
    "\n",
    "def MIN(a,b): return (-abs(a-b)+(a+b))/2\n",
    "\n",
    "def over_18(data): return MAXINT(data[\"age\"],18)\n",
    "\n",
    "age_constraint = cons.ColumnFormula(column = 'age',\n",
    "                                    formula = over_18,\n",
    "                                    handling_strategy = 'reject_sampling')\n",
    "\n",
    "def children_range(data): return MININT(MAXINT(data[\"children\"],0),5)\n",
    "\n",
    "children_constraint = cons.ColumnFormula(column = 'children',\n",
    "                                         formula = children_range,\n",
    "                                         handling_strategy = 'reject_sampling')\n",
    "\n",
    "min_bmi = min(ins_data[\"bmi\"])\n",
    "max_bmi = max(ins_data[\"bmi\"])\n",
    "print(min_bmi,max_bmi)\n",
    "\n",
    "def bmi_range(data): return MIN(MAX(data[\"bmi\"],min_bmi),max_bmi)\n",
    "\n",
    "bmi_constraint = cons.ColumnFormula(column = 'bmi',\n",
    "                                    formula = bmi_range,\n",
    "                                    handling_strategy = 'reject_sampling')\n",
    "\n",
    "min_charges= min(ins_data[\"charges\"])\n",
    "max_charges = max(ins_data[\"charges\"])\n",
    "print(min_charges,max_charges)\n",
    "\n",
    "def charges_range(data): return MIN(MAX(data[\"charges\"],min_charges*0.8),max_charges*1.25)\n",
    "\n",
    "charges_constraint = cons.ColumnFormula(column = 'charges',\n",
    "                                    formula = charges_range,\n",
    "                                    handling_strategy = 'reject_sampling')\n",
    "\n",
    "def charges_range_truncated(data): return MIN(MAX(data[\"charges\"],12000),max_charges*1.25)\n",
    "\n",
    "charges_constraint_2 = cons.ColumnFormula(column = 'charges',\n",
    "                                    formula = charges_range_truncated,\n",
    "                                    handling_strategy = 'reject_sampling')"
   ]
  },
  {
   "cell_type": "code",
   "execution_count": null,
   "metadata": {
    "colab": {
     "base_uri": "https://localhost:8080/"
    },
    "id": "HJvxQx-KZxqV",
    "outputId": "69b0489b-12bd-437e-eeed-ff79c9439d5f"
   },
   "outputs": [
    {
     "name": "stdout",
     "output_type": "stream",
     "text": [
      "1\n"
     ]
    }
   ],
   "source": [
    "best_score = 0 # Keep track of best score\n",
    "best_data = None\n",
    "tracker = 0 # Keep track of how many loops have completed\n",
    "flag = True\n",
    "scores=[]\n",
    "import time\n",
    "ST=time.time()\n",
    "real = train # Filter to only those employees that left\n",
    "\n",
    "## TRAINING LOOP START ##\n",
    "for _ in range(30): # only 1 and do the test\n",
    "\n",
    "    # Increment the tracker\n",
    "    tracker += 1\n",
    "  \n",
    "    # Every 5 loops output the tracker -> 1 loop\n",
    "    print(tracker)\n",
    "\n",
    "    # Get the hyperparameters for this loop\n",
    "    #proposal = tuner.propose(1)\n",
    "  \n",
    "    # Create the CopulaGAN -> GAussianCopu;a\n",
    "    # NOTE - batch_size is multiplied by 10 as needs to be a factor of 10\n",
    "    model = CopulaGAN(constraints = [age_constraint, children_constraint, bmi_constraint])\n",
    "    \n",
    "    \n",
    "    # Fit the CTGAN\n",
    "    model.fit(real)\n",
    "    distributions = model.get_distributions()\n",
    "    # Create 600 rows of data\n",
    "    synth_data = model.sample(num_rows = 600)\n",
    "  \n",
    "    # Evaluate the synthetic data against the real data\n",
    "    score = evaluate(synthetic_data = synth_data, real_data = real)\n",
    "    scores.append(score)\n",
    "\n",
    "    print(score)\n",
    "    # If the new hyperparameters beat the best ones, store them along with the score\n",
    "    if score > best_score or flag:\n",
    "        flag = False\n",
    "        best_data = synth_data\n",
    "        #best_params = proposal\n",
    "        best_score = score\n",
    "  \n",
    "\n",
    "\n",
    "## TRAINING LOOP END ##\n",
    "ED=time.time()\n",
    "print((ED-ST)/60,\"minutes\")"
   ]
  },
  {
   "cell_type": "code",
   "execution_count": null,
   "metadata": {},
   "outputs": [],
   "source": [
    "distributions"
   ]
  },
  {
   "cell_type": "code",
   "execution_count": null,
   "metadata": {},
   "outputs": [],
   "source": [
    "bmi=synth_data[\"bmi\"]"
   ]
  },
  {
   "cell_type": "code",
   "execution_count": null,
   "metadata": {},
   "outputs": [],
   "source": [
    "bmi.describe()"
   ]
  },
  {
   "cell_type": "code",
   "execution_count": null,
   "metadata": {},
   "outputs": [],
   "source": [
    "score = evaluate(synthetic_data = best_data, real_data = real, aggregate = False)\n",
    "score"
   ]
  },
  {
   "cell_type": "code",
   "execution_count": null,
   "metadata": {},
   "outputs": [],
   "source": [
    "score['normalized_score'].mean()"
   ]
  },
  {
   "cell_type": "code",
   "execution_count": null,
   "metadata": {},
   "outputs": [],
   "source": [
    "score = evaluate(synthetic_data = best_data, real_data = real, aggregate = True)\n",
    "score"
   ]
  },
  {
   "cell_type": "code",
   "execution_count": null,
   "metadata": {},
   "outputs": [],
   "source": [
    "print(max(scores))\n",
    "print(min(scores))"
   ]
  },
  {
   "cell_type": "code",
   "execution_count": null,
   "metadata": {
    "id": "aTxR7hQOG5s0"
   },
   "outputs": [],
   "source": [
    "model.save('best_copula.pkl')"
   ]
  },
  {
   "cell_type": "code",
   "execution_count": null,
   "metadata": {
    "id": "UMqiArS6bXlS"
   },
   "outputs": [],
   "source": [
    "synth_data.to_csv(\"ins_synth_data_clssifier_CGImb.csv\", index = False)"
   ]
  },
  {
   "cell_type": "markdown",
   "metadata": {
    "id": "BMPgcZAEnhmW"
   },
   "source": [
    "So after 75 loops the overall score is 0.81 (this score is between 0 and 1) for 600 synthetic examples of Attrition = \"Yes\" so it's not too bad.\n",
    "\n",
    "```\n",
    "Best score obtained:  0.8127129012858366\n",
    "Best parameters:  {'epochs': 208, 'batch_size': 42, 'embedding_dim': 10, 'gen': 54, 'dim_gen': 788}\n",
    "```\n",
    "\n",
    "# **Setting up data for round 2**\n",
    "The real dataset can be split into 60:40 training/test. Once this has been split the synthetic data can be added to the training data. This in a way doesn't \"waste\" the real dataset in the training."
   ]
  },
  {
   "cell_type": "code",
   "execution_count": null,
   "metadata": {
    "id": "Vhl_lnmZQlCL"
   },
   "outputs": [],
   "source": [
    "# Load synth data in\n",
    "synth_data = pd.read_csv(\"ins_synth_data_clssifier_CGImb.csv\")\n",
    "\n",
    "# Add the 600 synthetic rows of data to training data + remove dataset column\n",
    "mixed = pd.concat([train, synth_data])"
   ]
  },
  {
   "cell_type": "code",
   "execution_count": null,
   "metadata": {},
   "outputs": [],
   "source": [
    "synth_data"
   ]
  },
  {
   "cell_type": "code",
   "execution_count": null,
   "metadata": {
    "colab": {
     "base_uri": "https://localhost:8080/"
    },
    "id": "4IzD2z5OPDJ6",
    "outputId": "139fa681-dc87-41eb-85d6-338769a44abb",
    "scrolled": true
   },
   "outputs": [],
   "source": [
    "print(\"Training size (real):\", train.shape)\n",
    "print(\"Training size (fake + real):\", mixed.shape)\n",
    "print(\"Testing size (real:\", test.shape)"
   ]
  },
  {
   "cell_type": "code",
   "execution_count": null,
   "metadata": {},
   "outputs": [],
   "source": [
    "ord_feats = {\"children\" : list(\"012345\")}"
   ]
  },
  {
   "cell_type": "code",
   "execution_count": null,
   "metadata": {},
   "outputs": [],
   "source": [
    "from matplotlib import pyplot as plt\n",
    "#num_bins = 20\n",
    "#group = [1000*i for i in range(13,65)]\n",
    "#plt.hist(synth_data[\"charges\"], group)\n",
    "total01=len(synth_data[\"charges\"])\n",
    "ans01=[]\n",
    "for i in range(0,65):\n",
    "    num=len(synth_data[\"charges\"][synth_data[\"charges\"]==i])\n",
    "    ans01.append(num/total01)\n",
    "ans01=np.array(ans01)\n",
    "print(\"The ratio of the synthetic data of charge >14000 is %.4f\"%sum(ans01[14:]))\n",
    "plt.title(\"charge occurrances for synthetic data for CopGAN\")\n",
    "plt.xlabel(\"charges\")\n",
    "plt.ylabel(\"occurrances\")\n",
    "plt.hist(synth_data[\"charges\"],bins=[i for i in range (5)])"
   ]
  },
  {
   "cell_type": "code",
   "execution_count": null,
   "metadata": {
    "colab": {
     "base_uri": "https://localhost:8080/"
    },
    "id": "fJnCYXD3Xvj7",
    "outputId": "62abaa53-f923-4269-f3fc-ae463f67e797"
   },
   "outputs": [],
   "source": [
    "#plt.hist(ins_data[\"charges\"][ins_data[\"charges\"]>13000], group)\n",
    "total02=len(ins_data[\"charges\"])\n",
    "ans02 = []\n",
    "for i in range(4):\n",
    "    num=len(ins_data[\"charges\"][ins_data[\"charges\"]==1])\n",
    "    ans02.append(num/total02)\n",
    "ans02=np.array(ans02)\n",
    "print(\"The ratio of the original data of charge >14000 is %.4f\"%sum(ans02[14:]))\n",
    "plt.plot(range(4),ans02)\n",
    "plt.title(\"charge occurrances for real data\")\n",
    "plt.xlabel(\"charges\")\n",
    "plt.ylabel(\"occurrances\")\n",
    "plt.hist(ins_data[\"charges\"],bins=[i for i in range (5)])"
   ]
  },
  {
   "cell_type": "markdown",
   "metadata": {
    "id": "MWErwjuvvPqJ"
   },
   "source": [
    "Now this data can be fed into a new `setup` but this time declaring `test_data` as the test data that was created earlier. \n",
    "\n",
    "So there is a combination of **synthetic and real data in the training set** but only real in the test data."
   ]
  },
  {
   "cell_type": "code",
   "execution_count": null,
   "metadata": {
    "id": "iN00u7Dtv25p",
    "scrolled": true
   },
   "outputs": [],
   "source": [
    "# Run pycaret setup w/synthetic data\n",
    "setup(data = mixed, \n",
    "      target = target, \n",
    "      test_data = test,\n",
    "      train_size = 0.7, \n",
    "      numeric_features = cont_feats,\n",
    "      categorical_features = cat_feats,\n",
    "      ordinal_features = ord_feats,\n",
    "      normalize_method = \"zscore\",\n",
    "      ignore_low_variance = True,\n",
    "      silent = True, verbose = False)"
   ]
  },
  {
   "cell_type": "markdown",
   "metadata": {
    "id": "PzNjV-KA1tN8"
   },
   "source": [
    "Now setup the `compare_models` can be checked again. Interestingly the `AUC`, `Recall` and `Precision` all went up considerably. `Recall` nearly doubled!"
   ]
  },
  {
   "cell_type": "code",
   "execution_count": null,
   "metadata": {
    "colab": {
     "base_uri": "https://localhost:8080/",
     "height": 538,
     "referenced_widgets": [
      "f22ffd90d3364169ba67e6eb5920b092",
      "d01f30c83f114157b0c22e2cd2b9bb46",
      "4f81e8d444e2464cbe28a6b86ff871b5"
     ]
    },
    "id": "98UZMlcEwBhi",
    "outputId": "24c14ac4-dc4d-42f7-c09f-955da7270a67"
   },
   "outputs": [],
   "source": [
    "compare_models()"
   ]
  },
  {
   "cell_type": "markdown",
   "metadata": {
    "id": "FA6MN9WjWkrS"
   },
   "source": [
    "A gradient boosting classifier was decided upon."
   ]
  },
  {
   "cell_type": "code",
   "execution_count": null,
   "metadata": {
    "colab": {
     "base_uri": "https://localhost:8080/",
     "height": 426,
     "referenced_widgets": [
      "10ea5db4ef064f8fb0a0e9318f02c620",
      "33bc17f93fbd4428a8bfb9e271e3d0fa",
      "4c71ad5a9b1746ef8ca31917c37cff3b"
     ]
    },
    "id": "UiwwbbURRKpE",
    "outputId": "8ea0b70f-0190-4664-f7cf-a3ed236bed52"
   },
   "outputs": [],
   "source": [
    "gbc = create_model(\"gbc\")"
   ]
  },
  {
   "cell_type": "markdown",
   "metadata": {},
   "source": [
    "# **SECOND TRIAL**, NORMALIZED, CopulaGAN"
   ]
  },
  {
   "cell_type": "markdown",
   "metadata": {
    "id": "JnZXWfHOoEon"
   },
   "source": [
    "With the tuner ready it's as simple as creating a training loop and then calling the tuner within the loop and feeding the hyperparameters into the CopulaGAN."
   ]
  },
  {
   "cell_type": "code",
   "execution_count": null,
   "metadata": {
    "colab": {
     "base_uri": "https://localhost:8080/"
    },
    "id": "HJvxQx-KZxqV",
    "outputId": "69b0489b-12bd-437e-eeed-ff79c9439d5f"
   },
   "outputs": [],
   "source": [
    "best_score = 0 # Keep track of best score\n",
    "# best_params=None\n",
    "best_data = None\n",
    "tracker = 0 # Keep track of how many loops have completed\n",
    "flag = True\n",
    "scores=[]\n",
    "\n",
    "real = train # Filter to only those employees that left\n",
    "\n",
    "import time\n",
    "ST=time.time()\n",
    "\n",
    "## TRAINING LOOP START ##\n",
    "for _ in range(30): # only 1 and do the test\n",
    "\n",
    "    # Increment the tracker\n",
    "    tracker += 1\n",
    "  \n",
    "    # Every 5 loops output the tracker -> 1 loop\n",
    "    print(tracker)\n",
    "\n",
    "\n",
    "\n",
    "    # Record the hyperparameters and score      \n",
    "    # proposal = tuner.propose(1)\n",
    "  \n",
    "    # NOTE - batch_size is multiplied by 10 as needs to be a factor of 10\n",
    "    #model = GaussianCopula(constraints = [age_constraint, children_constraint, bmi_constraint, charges_constraint])\n",
    "    model = CopulaGAN(constraints = [age_constraint, children_constraint])\n",
    "    \n",
    "    # Fit the CopulaGAN\n",
    "    model.fit(real)\n",
    "    # Create 600 rows of data\n",
    "    synth_data = model.sample(num_rows = 5000)\n",
    "  \n",
    "    # Evaluate the synthetic data against the real data\n",
    "    score = evaluate(synthetic_data = synth_data, real_data = real)\n",
    "    scores.append(score)\n",
    "\n",
    "    print(score)\n",
    "    # If the new hyperparameters beat the best ones, store them along with the score\n",
    "    if score > best_score or flag:\n",
    "        flag = False\n",
    "        best_data = synth_data\n",
    "        best_distributions = model.get_distributions()\n",
    "        # best_params = proposal\n",
    "        best_score = score\n",
    "  \n",
    "    # Record the hyperparameters and score      \n",
    "    # tuner.record(proposal, score)\n",
    "\n",
    "\n",
    "## TRAINING LOOP END ##\n",
    "ED=time.time()\n",
    "print(\"time used: %.3f mins\"%((ED-ST)/60))"
   ]
  },
  {
   "cell_type": "code",
   "execution_count": null,
   "metadata": {},
   "outputs": [],
   "source": [
    "best_data"
   ]
  },
  {
   "cell_type": "code",
   "execution_count": null,
   "metadata": {},
   "outputs": [],
   "source": [
    "best_distributions"
   ]
  },
  {
   "cell_type": "code",
   "execution_count": null,
   "metadata": {},
   "outputs": [],
   "source": [
    "best=best_data\n",
    "best_data=best_data[~best_data.index.duplicated()]\n",
    "num_bins = 20\n",
    "plt.hist(best_data[\"charges\"], [i for i in range (5)])"
   ]
  },
  {
   "cell_type": "code",
   "execution_count": null,
   "metadata": {},
   "outputs": [],
   "source": [
    "score = evaluate(synthetic_data = best_data, real_data = real, aggregate = False)\n",
    "score"
   ]
  },
  {
   "cell_type": "code",
   "execution_count": null,
   "metadata": {},
   "outputs": [],
   "source": [
    "synth=[]\n",
    "for i in range (4):\n",
    "    orig_size=len(train[train[\"charges\"]==i])\n",
    "    synth_part=best_data[best_data[\"charges\"]==i]\n",
    "    generate=synth_part.sample(n=min(max(0,350-orig_size),len(synth_part)))\n",
    "    print(len(generate))\n",
    "    synth.append(generate)\n",
    "synth=pd.concat(synth)\n",
    "synth.sample(frac=1)"
   ]
  },
  {
   "cell_type": "code",
   "execution_count": null,
   "metadata": {},
   "outputs": [],
   "source": [
    "score = evaluate(synthetic_data = synth, real_data = train, aggregate = True)\n",
    "score"
   ]
  },
  {
   "cell_type": "code",
   "execution_count": null,
   "metadata": {},
   "outputs": [],
   "source": [
    "print('Best score obtained: ', best_score)"
   ]
  },
  {
   "cell_type": "code",
   "execution_count": null,
   "metadata": {},
   "outputs": [],
   "source": [
    "print(max(scores))\n",
    "print(min(scores))"
   ]
  },
  {
   "cell_type": "code",
   "execution_count": null,
   "metadata": {
    "id": "aTxR7hQOG5s0"
   },
   "outputs": [],
   "source": [
    "model.save('best_copula.pkl')"
   ]
  },
  {
   "cell_type": "code",
   "execution_count": null,
   "metadata": {
    "id": "UMqiArS6bXlS"
   },
   "outputs": [],
   "source": [
    "synth.to_csv(\"ins_synth_dat_norm_CGImb.csv\", index = False)"
   ]
  },
  {
   "cell_type": "markdown",
   "metadata": {
    "id": "BMPgcZAEnhmW"
   },
   "source": [
    "# **Setting up data for round 2**\n",
    "The real dataset can be split into 60:40 training/test. Once this has been split the synthetic data can be added to the training data. This in a way doesn't \"waste\" the real dataset in the training."
   ]
  },
  {
   "cell_type": "code",
   "execution_count": null,
   "metadata": {
    "id": "Vhl_lnmZQlCL"
   },
   "outputs": [],
   "source": [
    "# Load synth data in\n",
    "synth_data2 = pd.read_csv(\"ins_synth_dat_norm_CGImb.csv\")\n",
    "\n",
    "# Add the 600 synthetic rows of data to training data + remove dataset column\n",
    "mixed = pd.concat([train, synth_data2])"
   ]
  },
  {
   "cell_type": "code",
   "execution_count": null,
   "metadata": {},
   "outputs": [],
   "source": [
    "mixed"
   ]
  },
  {
   "cell_type": "code",
   "execution_count": null,
   "metadata": {
    "colab": {
     "base_uri": "https://localhost:8080/"
    },
    "id": "4IzD2z5OPDJ6",
    "outputId": "139fa681-dc87-41eb-85d6-338769a44abb"
   },
   "outputs": [],
   "source": [
    "print(\"Training size (real):\", train.shape)\n",
    "print(\"Training size (fake + real):\", mixed.shape)\n",
    "print(\"Testing size (real:\", test.shape)"
   ]
  },
  {
   "cell_type": "markdown",
   "metadata": {
    "id": "MWErwjuvvPqJ"
   },
   "source": [
    "Now this data can be fed into a new `setup` but this time declaring `test_data` as the test data that was created earlier. \n",
    "\n",
    "So there is a combination of **synthetic and real data in the training set** but only real in the test data."
   ]
  },
  {
   "cell_type": "code",
   "execution_count": null,
   "metadata": {
    "id": "iN00u7Dtv25p",
    "scrolled": true
   },
   "outputs": [],
   "source": [
    "# Run pycaret setup w/synthetic data\n",
    "setup(data = mixed, \n",
    "      target = \"charges\", \n",
    "      test_data = test,\n",
    "      train_size = 0.7, \n",
    "      numeric_features = cont_feats,\n",
    "      categorical_features = cat_feats,\n",
    "      ordinal_features = ord_feats,\n",
    "      normalize_method = \"zscore\",\n",
    "      ignore_low_variance = True,\n",
    "      silent = True, verbose = False)"
   ]
  },
  {
   "cell_type": "markdown",
   "metadata": {
    "id": "PzNjV-KA1tN8"
   },
   "source": [
    "Now setup the `compare_models` can be checked again. Interestingly the `AUC`, `Recall` and `Precision` all went up considerably. `Recall` nearly doubled!"
   ]
  },
  {
   "cell_type": "code",
   "execution_count": null,
   "metadata": {
    "colab": {
     "base_uri": "https://localhost:8080/",
     "height": 538,
     "referenced_widgets": [
      "f22ffd90d3364169ba67e6eb5920b092",
      "d01f30c83f114157b0c22e2cd2b9bb46",
      "4f81e8d444e2464cbe28a6b86ff871b5"
     ]
    },
    "id": "98UZMlcEwBhi",
    "outputId": "24c14ac4-dc4d-42f7-c09f-955da7270a67"
   },
   "outputs": [],
   "source": [
    "compare_models()"
   ]
  },
  {
   "cell_type": "markdown",
   "metadata": {
    "id": "FA6MN9WjWkrS"
   },
   "source": [
    "A gradient boosting classifier was decided upon."
   ]
  },
  {
   "cell_type": "code",
   "execution_count": null,
   "metadata": {},
   "outputs": [],
   "source": [
    "\n",
    "plt.title(\"balanced charge occurrances by CopGAN\")\n",
    "plt.xlabel(\"charges\")\n",
    "plt.ylabel(\"occurrances\")\n",
    "plt.hist(mixed[\"charges\"], [i for i in range (5)])"
   ]
  },
  {
   "cell_type": "markdown",
   "metadata": {
    "id": "_xeQU6xWzyup"
   },
   "source": [
    "# **Finalising the model**\n",
    "Now with the model trained and evaluated it needs to be **finalised**. This encorporates the test data into the model that will be used on unseen data."
   ]
  },
  {
   "cell_type": "markdown",
   "metadata": {},
   "source": [
    "# **SECOND TRIAL**, USE DIFFERENT DISTRIBUTION"
   ]
  },
  {
   "cell_type": "code",
   "execution_count": null,
   "metadata": {},
   "outputs": [],
   "source": [
    "num_bins = 20\n",
    "plt.hist(train[\"charges\"], [2000*i for i in range (33)])"
   ]
  },
  {
   "cell_type": "code",
   "execution_count": null,
   "metadata": {},
   "outputs": [],
   "source": [
    "def MAXINT(a,b): return (abs(a-b)+(a+b))//2\n",
    "\n",
    "def MAX(a,b): return (abs(a-b)+(a+b))/2\n",
    "\n",
    "def MININT(a,b): return (-abs(a-b)+(a+b))//2\n",
    "\n",
    "def MIN(a,b): return (-abs(a-b)+(a+b))/2\n",
    "\n",
    "def over_18(data): return MAXINT(data[\"age\"],18)\n",
    "\n",
    "age_constraint = cons.ColumnFormula(column = 'age',\n",
    "                                    formula = over_18,\n",
    "                                    handling_strategy = 'reject_sampling')\n",
    "\n",
    "def children_range(data): return MININT(MAXINT(data[\"children\"],0),5)\n",
    "\n",
    "children_constraint = cons.ColumnFormula(column = 'children',\n",
    "                                         formula = children_range,\n",
    "                                         handling_strategy = 'reject_sampling')\n",
    "\n",
    "min_bmi = min(ins_data[\"bmi\"])\n",
    "max_bmi = max(ins_data[\"bmi\"])\n",
    "print(min_bmi,max_bmi)\n",
    "\n",
    "def bmi_range(data): return MIN(MAX(data[\"bmi\"],min_bmi),max_bmi)\n",
    "\n",
    "bmi_constraint = cons.ColumnFormula(column = 'bmi',\n",
    "                                    formula = bmi_range,\n",
    "                                    handling_strategy = 'reject_sampling')\n",
    "\n",
    "min_charges= min(ins_data[\"charges\"])\n",
    "max_charges = max(ins_data[\"charges\"])\n",
    "print(min_charges,max_charges)\n",
    "\n",
    "def charges_range(data): return MIN(MAX(data[\"charges\"],min_charges*0.8),max_charges*1.25)\n",
    "\n",
    "charges_constraint = cons.ColumnFormula(column = 'charges',\n",
    "                                    formula = charges_range,\n",
    "                                    handling_strategy = 'reject_sampling')\n",
    "\n",
    "def charges_range_truncated(data): return MIN(MAX(data[\"charges\"],12000),max_charges*1.25)\n",
    "\n",
    "charges_constraint_2 = cons.ColumnFormula(column = 'charges',\n",
    "                                    formula = charges_range_truncated,\n",
    "                                    handling_strategy = 'reject_sampling')"
   ]
  },
  {
   "cell_type": "markdown",
   "metadata": {
    "id": "JnZXWfHOoEon"
   },
   "source": [
    "With the tuner ready it's as simple as creating a training loop and then calling the tuner within the loop and feeding the hyperparameters into the CopulaGAN."
   ]
  },
  {
   "cell_type": "code",
   "execution_count": null,
   "metadata": {
    "colab": {
     "base_uri": "https://localhost:8080/"
    },
    "id": "HJvxQx-KZxqV",
    "outputId": "69b0489b-12bd-437e-eeed-ff79c9439d5f"
   },
   "outputs": [],
   "source": [
    "best_score = 0 # Keep track of best score\n",
    "# best_params=None\n",
    "best_data = None\n",
    "tracker = 0 # Keep track of how many loops have completed\n",
    "flag = True\n",
    "scores=[]\n",
    "\n",
    "real = train # Filter to only those employees that left\n",
    "\n",
    "import time\n",
    "ST=time.time()\n",
    "\n",
    "## TRAINING LOOP START ##\n",
    "for _ in range(100): # only 1 and do the test\n",
    "\n",
    "    # Increment the tracker\n",
    "    tracker += 1\n",
    "  \n",
    "    # Every 5 loops output the tracker -> 1 loop\n",
    "    print(tracker)\n",
    "\n",
    "\n",
    "\n",
    "    # Record the hyperparameters and score      \n",
    "    # proposal = tuner.propose(1)\n",
    "  \n",
    "    # NOTE - batch_size is multiplied by 10 as needs to be a factor of 10\n",
    "    #model = GaussianCopula(constraints = [age_constraint, children_constraint, bmi_constraint, charges_constraint])\n",
    "    model = CopulaGAN(constraints = [age_constraint, children_constraint, bmi_constraint],\n",
    "                           field_transformers = {k:\"categorical_fuzzy\" for k in [\"sex\", \"smoker\", \"region\"]})\n",
    "    \n",
    "    # Fit the CopulaGAN\n",
    "    model.fit(real)\n",
    "    # Create 600 rows of data\n",
    "    synth_data = model.sample(num_rows = 600)\n",
    "  \n",
    "    # Evaluate the synthetic data against the real data\n",
    "    score = evaluate(synthetic_data = synth_data, real_data = real)\n",
    "    scores.append(score)\n",
    "\n",
    "    print(score)\n",
    "    # If the new hyperparameters beat the best ones, store them along with the score\n",
    "    if score > best_score or flag:\n",
    "        flag = False\n",
    "        best_data = synth_data\n",
    "        best_distributions = model.get_distributions()\n",
    "        # best_params = proposal\n",
    "        best_score = score\n",
    "  \n",
    "    # Record the hyperparameters and score      \n",
    "    # tuner.record(proposal, score)\n",
    "\n",
    "\n",
    "## TRAINING LOOP END ##\n",
    "ED=time.time()\n",
    "print(\"time used: %.3f mins\"%((ED-ST)/60))"
   ]
  },
  {
   "cell_type": "code",
   "execution_count": null,
   "metadata": {},
   "outputs": [],
   "source": [
    "best_data"
   ]
  },
  {
   "cell_type": "code",
   "execution_count": null,
   "metadata": {},
   "outputs": [],
   "source": [
    "best_distributions"
   ]
  },
  {
   "cell_type": "code",
   "execution_count": null,
   "metadata": {},
   "outputs": [],
   "source": [
    "best=best_data\n",
    "best_data=best_data[~best_data.index.duplicated()]\n",
    "num_bins = 20\n",
    "plt.hist(best_data[\"charges\"], [2000*i for i in range (33)])"
   ]
  },
  {
   "cell_type": "code",
   "execution_count": null,
   "metadata": {},
   "outputs": [],
   "source": [
    "score = evaluate(synthetic_data = best_data, real_data = real, aggregate = False)\n",
    "score"
   ]
  },
  {
   "cell_type": "code",
   "execution_count": null,
   "metadata": {},
   "outputs": [],
   "source": [
    "synth=[]\n",
    "for i in range (6,32):\n",
    "    orig_size=len(train[train[\"charges\"]<(i+1)*2000][train[\"charges\"]>(i)*2000])\n",
    "    synth_part=best_data[best_data[\"charges\"]<(i+1)*2000][best_data[\"charges\"]>(i)*2000]\n",
    "    generate=synth_part[:100-orig_size]\n",
    "    synth.append(generate)\n",
    "synth=pd.concat(synth)\n",
    "synth.sample(frac=1)"
   ]
  },
  {
   "cell_type": "code",
   "execution_count": null,
   "metadata": {},
   "outputs": [],
   "source": [
    "score = evaluate(synthetic_data = synth, real_data = train, aggregate = True)\n",
    "score"
   ]
  },
  {
   "cell_type": "code",
   "execution_count": null,
   "metadata": {},
   "outputs": [],
   "source": [
    "print('Best score obtained: ', best_score)"
   ]
  },
  {
   "cell_type": "code",
   "execution_count": null,
   "metadata": {},
   "outputs": [],
   "source": [
    "print(max(scores))\n",
    "print(min(scores))"
   ]
  },
  {
   "cell_type": "code",
   "execution_count": null,
   "metadata": {
    "id": "aTxR7hQOG5s0"
   },
   "outputs": [],
   "source": [
    "model.save('best_copula.pkl')"
   ]
  },
  {
   "cell_type": "code",
   "execution_count": null,
   "metadata": {
    "id": "UMqiArS6bXlS"
   },
   "outputs": [],
   "source": [
    "synth.to_csv(\"ins_synth_dat_univariate.csv\", index = False)"
   ]
  },
  {
   "cell_type": "markdown",
   "metadata": {
    "id": "BMPgcZAEnhmW"
   },
   "source": [
    "# **Setting up data for round 2**\n",
    "The real dataset can be split into 60:40 training/test. Once this has been split the synthetic data can be added to the training data. This in a way doesn't \"waste\" the real dataset in the training."
   ]
  },
  {
   "cell_type": "code",
   "execution_count": null,
   "metadata": {
    "id": "Vhl_lnmZQlCL"
   },
   "outputs": [],
   "source": [
    "# Load synth data in\n",
    "synth_data2 = pd.read_csv(\"ins_synth_dat_univariate.csv\")\n",
    "\n",
    "# Add the 600 synthetic rows of data to training data + remove dataset column\n",
    "mixed = pd.concat([train, synth_data2])"
   ]
  },
  {
   "cell_type": "code",
   "execution_count": null,
   "metadata": {},
   "outputs": [],
   "source": [
    "mixed"
   ]
  },
  {
   "cell_type": "code",
   "execution_count": null,
   "metadata": {
    "colab": {
     "base_uri": "https://localhost:8080/"
    },
    "id": "4IzD2z5OPDJ6",
    "outputId": "139fa681-dc87-41eb-85d6-338769a44abb"
   },
   "outputs": [],
   "source": [
    "print(\"Training size (real):\", train.shape)\n",
    "print(\"Training size (fake + real):\", mixed.shape)\n",
    "print(\"Testing size (real:\", test.shape)"
   ]
  },
  {
   "cell_type": "code",
   "execution_count": null,
   "metadata": {},
   "outputs": [],
   "source": [
    "#plt.hist(synth_data[\"charges\"], group)\n",
    "total=len(mixed[\"charges\"])\n",
    "plt.title(\"charge occurrances for synthetic data for univariate distribution\")\n",
    "plt.xlabel(\"charges\")\n",
    "plt.ylabel(\"occurrances\")\n",
    "plt.hist(mixed[\"charges\"], [1000*i for i in range (65)])"
   ]
  },
  {
   "cell_type": "code",
   "execution_count": null,
   "metadata": {
    "colab": {
     "base_uri": "https://localhost:8080/"
    },
    "id": "fJnCYXD3Xvj7",
    "outputId": "62abaa53-f923-4269-f3fc-ae463f67e797"
   },
   "outputs": [],
   "source": [
    "#plt.hist(ins_data[\"charges\"][ins_data[\"charges\"]>13000], group)\n",
    "total2=len(ins_data[\"charges\"][ins_data[\"charges\"]>13000])\n",
    "ans2 = []\n",
    "for i in range(14,65):\n",
    "    num=len(ins_data[\"charges\"][ins_data[\"charges\"]<(i+1)*1000][ins_data[\"charges\"]>=i*1000])\n",
    "    ans2.append(num/total)\n",
    "ans2=np.array(ans2)\n",
    "plt.plot(range(14,65),ans2)\n",
    "plt.show()"
   ]
  },
  {
   "cell_type": "markdown",
   "metadata": {
    "id": "MWErwjuvvPqJ"
   },
   "source": [
    "Now this data can be fed into a new `setup` but this time declaring `test_data` as the test data that was created earlier. \n",
    "\n",
    "So there is a combination of **synthetic and real data in the training set** but only real in the test data."
   ]
  },
  {
   "cell_type": "code",
   "execution_count": null,
   "metadata": {
    "id": "iN00u7Dtv25p",
    "scrolled": true
   },
   "outputs": [],
   "source": [
    "# Run pycaret setup w/synthetic data\n",
    "setup(data = mixed, \n",
    "      target = \"charges\", \n",
    "      test_data = test,\n",
    "      train_size = 0.7, \n",
    "      numeric_features = cont_feats,\n",
    "      categorical_features = cat_feats,\n",
    "      ordinal_features = ord_feats,\n",
    "      normalize_method = \"zscore\",\n",
    "      ignore_low_variance = True,\n",
    "      silent = True, verbose = False)"
   ]
  },
  {
   "cell_type": "markdown",
   "metadata": {
    "id": "PzNjV-KA1tN8"
   },
   "source": [
    "Now setup the `compare_models` can be checked again. Interestingly the `AUC`, `Recall` and `Precision` all went up considerably. `Recall` nearly doubled!"
   ]
  },
  {
   "cell_type": "code",
   "execution_count": null,
   "metadata": {
    "colab": {
     "base_uri": "https://localhost:8080/",
     "height": 538,
     "referenced_widgets": [
      "f22ffd90d3364169ba67e6eb5920b092",
      "d01f30c83f114157b0c22e2cd2b9bb46",
      "4f81e8d444e2464cbe28a6b86ff871b5"
     ]
    },
    "id": "98UZMlcEwBhi",
    "outputId": "24c14ac4-dc4d-42f7-c09f-955da7270a67"
   },
   "outputs": [],
   "source": [
    "compare_models()"
   ]
  },
  {
   "cell_type": "markdown",
   "metadata": {
    "id": "FA6MN9WjWkrS"
   },
   "source": [
    "A gradient boosting classifier was decided upon."
   ]
  },
  {
   "cell_type": "code",
   "execution_count": null,
   "metadata": {
    "colab": {
     "base_uri": "https://localhost:8080/",
     "height": 426,
     "referenced_widgets": [
      "10ea5db4ef064f8fb0a0e9318f02c620",
      "33bc17f93fbd4428a8bfb9e271e3d0fa",
      "4c71ad5a9b1746ef8ca31917c37cff3b"
     ]
    },
    "id": "UiwwbbURRKpE",
    "outputId": "8ea0b70f-0190-4664-f7cf-a3ed236bed52"
   },
   "outputs": [],
   "source": [
    "par = create_model(\"par\")"
   ]
  },
  {
   "cell_type": "markdown",
   "metadata": {
    "id": "_xeQU6xWzyup"
   },
   "source": [
    "# **Finalising the model**\n",
    "Now with the model trained and evaluated it needs to be **finalised**. This encorporates the test data into the model that will be used on unseen data."
   ]
  },
  {
   "cell_type": "code",
   "execution_count": null,
   "metadata": {
    "id": "m4GidAlVzxt2"
   },
   "outputs": [],
   "source": [
    "final_gbc = finalize_model(huber)"
   ]
  },
  {
   "cell_type": "code",
   "execution_count": null,
   "metadata": {
    "id": "m4GidAlVzxt2"
   },
   "outputs": [],
   "source": [
    "final_gbc = finalize_model(huber)"
   ]
  },
  {
   "cell_type": "markdown",
   "metadata": {
    "id": "d7UjkASuWBDD"
   },
   "source": [
    "**NOTE**: I haven't further explored the model e.g. feature importance as the purpose of this project was to focus on synthetic data generation and a streamlit app."
   ]
  },
  {
   "cell_type": "markdown",
   "metadata": {
    "id": "dXEtHtd5MOkf"
   },
   "source": [
    "# **Saving and exporting ready for app build**\n",
    "To use the model in a `streamlit` app certain things need to be exported\n",
    "* The model\n",
    "* Preprocessed data\n",
    "* Preparation steps (`prep pipe`)"
   ]
  },
  {
   "cell_type": "code",
   "execution_count": null,
   "metadata": {
    "colab": {
     "base_uri": "https://localhost:8080/"
    },
    "id": "7-R-Qqh8dHOu",
    "outputId": "549cc26f-9b0e-456f-9ad7-49141818d41b"
   },
   "outputs": [],
   "source": [
    "# Model (save)\n",
    "save_model(final_gbc, \"final_gbc\")\n",
    "\n",
    "# Preparation steps (get + save)\n",
    "prep = get_config(\"prep_pipe\")\n",
    "joblib.dump(prep, 'prep_pipe.pkl', compress = 1)\n",
    "\n",
    "# Preprocessed data (get + save)\n",
    "get_config(\"X\").to_csv(\"preprocssed_data.csv\", index = False)"
   ]
  },
  {
   "cell_type": "markdown",
   "metadata": {
    "id": "JfYHuEQ9PTmS"
   },
   "source": [
    "# **Streamlit app**\n",
    "The final output of this was a `streamlit` app to allow single predictions w/reason plots or multi predictions from an uploaded csv (see `README.md` and `app.py`)."
   ]
  },
  {
   "cell_type": "markdown",
   "metadata": {
    "id": "_tiiWSxuwK6t"
   },
   "source": [
    "# **Conclusion**\n",
    "I think that synthetic data generation can be a powerful tool especially in situations when further data collection cannot be performed in the near term. Fine tuning hyperparameters is great to have but more data and feature engineering are still superior."
   ]
  },
  {
   "cell_type": "code",
   "execution_count": null,
   "metadata": {},
   "outputs": [],
   "source": [
    "# any random test\n",
    "import random\n",
    "# give a data of 20% 0-100, 40% 100-200, 30% 200-300,10% 300-400, \n",
    "small=[[100*random.random()] for _ in range (400)]\n",
    "medium=[[100+100*random.random()] for _ in range (800)]\n",
    "large=[[200+100*random.random()] for _ in range (600)]\n",
    "extralarge=[[300+100*random.random()] for _ in range (200)]\n",
    "mix=small+medium+large+extralarge\n",
    "random.shuffle(mix)\n",
    "df = pd.DataFrame(mix, columns=[\"s\"])\n",
    "final_ans=[]\n",
    "for _ in range (200):\n",
    "    toy_ans = list()\n",
    "    model = GaussianCopula()\n",
    "    model.fit(df)\n",
    "    synth = model.sample(num_rows = 2000)\n",
    "    for i in range(4):\n",
    "        num=len(synth[\"s\"][synth[\"s\"]<(i+1)*100][synth[\"s\"]>=i*100])\n",
    "        toy_ans.append(num/2000)\n",
    "    final_ans.append(toy_ans)\n",
    "final_ans"
   ]
  },
  {
   "cell_type": "code",
   "execution_count": null,
   "metadata": {},
   "outputs": [],
   "source": [
    "plt.hist(np.array(mix),bins=np.array([10*i for i in range(41)]))"
   ]
  },
  {
   "cell_type": "code",
   "execution_count": null,
   "metadata": {},
   "outputs": [],
   "source": [
    "arr=np.array(final_ans)\n",
    "trans_arr=np.transpose(arr)\n",
    "plt.hist(trans_arr[3],bins=np.array([i/500 for i in range (38,55)]))"
   ]
  },
  {
   "cell_type": "code",
   "execution_count": null,
   "metadata": {},
   "outputs": [],
   "source": [
    "plt.hist(trans_arr[2],bins=np.array([i/500 for i in range (140,169)]))"
   ]
  },
  {
   "cell_type": "code",
   "execution_count": null,
   "metadata": {},
   "outputs": [],
   "source": [
    "plt.hist(trans_arr[1],bins=np.array([i/500 for i in range (179,207)]))"
   ]
  },
  {
   "cell_type": "code",
   "execution_count": null,
   "metadata": {},
   "outputs": [],
   "source": [
    "plt.hist(trans_arr[0],bins=np.array([i/500 for i in range (75,99)]))"
   ]
  },
  {
   "cell_type": "code",
   "execution_count": null,
   "metadata": {},
   "outputs": [],
   "source": []
  }
 ],
 "metadata": {
  "@webio": {
   "lastCommId": null,
   "lastKernelId": null
  },
  "accelerator": "GPU",
  "colab": {
   "authorship_tag": "ABX9TyNQgnEaLkmsZ47jQY2/G1wt",
   "collapsed_sections": [
    "u8hyoSAOm6E2",
    "owfzjkszOE5n"
   ],
   "name": "Predicting employee attrition.ipynb",
   "provenance": [],
   "toc_visible": true
  },
  "kernelspec": {
   "display_name": "Python 3",
   "language": "python",
   "name": "python3"
  },
  "language_info": {
   "codemirror_mode": {
    "name": "ipython",
    "version": 3
   },
   "file_extension": ".py",
   "mimetype": "text/x-python",
   "name": "python",
   "nbconvert_exporter": "python",
   "pygments_lexer": "ipython3",
   "version": "3.6.12"
  },
  "widgets": {
   "application/vnd.jupyter.widget-state+json": {
    "0d7c00441e6445f9b71c68df63947725": {
     "model_module": "@jupyter-widgets/base",
     "model_name": "LayoutModel",
     "state": {
      "_model_module": "@jupyter-widgets/base",
      "_model_module_version": "1.2.0",
      "_model_name": "LayoutModel",
      "_view_count": null,
      "_view_module": "@jupyter-widgets/base",
      "_view_module_version": "1.2.0",
      "_view_name": "LayoutView",
      "align_content": null,
      "align_items": null,
      "align_self": null,
      "border": null,
      "bottom": null,
      "display": null,
      "flex": null,
      "flex_flow": null,
      "grid_area": null,
      "grid_auto_columns": null,
      "grid_auto_flow": null,
      "grid_auto_rows": null,
      "grid_column": null,
      "grid_gap": null,
      "grid_row": null,
      "grid_template_areas": null,
      "grid_template_columns": null,
      "grid_template_rows": null,
      "height": null,
      "justify_content": null,
      "justify_items": null,
      "left": null,
      "margin": null,
      "max_height": null,
      "max_width": null,
      "min_height": null,
      "min_width": null,
      "object_fit": null,
      "object_position": null,
      "order": null,
      "overflow": null,
      "overflow_x": null,
      "overflow_y": null,
      "padding": null,
      "right": null,
      "top": null,
      "visibility": null,
      "width": null
     }
    },
    "10ea5db4ef064f8fb0a0e9318f02c620": {
     "model_module": "@jupyter-widgets/controls",
     "model_name": "IntProgressModel",
     "state": {
      "_dom_classes": [],
      "_model_module": "@jupyter-widgets/controls",
      "_model_module_version": "1.5.0",
      "_model_name": "IntProgressModel",
      "_view_count": null,
      "_view_module": "@jupyter-widgets/controls",
      "_view_module_version": "1.5.0",
      "_view_name": "ProgressView",
      "bar_style": "",
      "description": "Processing: ",
      "description_tooltip": null,
      "layout": "IPY_MODEL_4c71ad5a9b1746ef8ca31917c37cff3b",
      "max": 4,
      "min": 0,
      "orientation": "horizontal",
      "style": "IPY_MODEL_33bc17f93fbd4428a8bfb9e271e3d0fa",
      "value": 4
     }
    },
    "25635fb9d9e74426a4ffe3f6deb0c9a2": {
     "model_module": "@jupyter-widgets/base",
     "model_name": "LayoutModel",
     "state": {
      "_model_module": "@jupyter-widgets/base",
      "_model_module_version": "1.2.0",
      "_model_name": "LayoutModel",
      "_view_count": null,
      "_view_module": "@jupyter-widgets/base",
      "_view_module_version": "1.2.0",
      "_view_name": "LayoutView",
      "align_content": null,
      "align_items": null,
      "align_self": null,
      "border": null,
      "bottom": null,
      "display": null,
      "flex": null,
      "flex_flow": null,
      "grid_area": null,
      "grid_auto_columns": null,
      "grid_auto_flow": null,
      "grid_auto_rows": null,
      "grid_column": null,
      "grid_gap": null,
      "grid_row": null,
      "grid_template_areas": null,
      "grid_template_columns": null,
      "grid_template_rows": null,
      "height": null,
      "justify_content": null,
      "justify_items": null,
      "left": null,
      "margin": null,
      "max_height": null,
      "max_width": null,
      "min_height": null,
      "min_width": null,
      "object_fit": null,
      "object_position": null,
      "order": null,
      "overflow": null,
      "overflow_x": null,
      "overflow_y": null,
      "padding": null,
      "right": null,
      "top": null,
      "visibility": null,
      "width": null
     }
    },
    "307a2747200e4a7189f15039c8d147ef": {
     "model_module": "@jupyter-widgets/controls",
     "model_name": "ProgressStyleModel",
     "state": {
      "_model_module": "@jupyter-widgets/controls",
      "_model_module_version": "1.5.0",
      "_model_name": "ProgressStyleModel",
      "_view_count": null,
      "_view_module": "@jupyter-widgets/base",
      "_view_module_version": "1.2.0",
      "_view_name": "StyleView",
      "bar_color": null,
      "description_width": ""
     }
    },
    "33bc17f93fbd4428a8bfb9e271e3d0fa": {
     "model_module": "@jupyter-widgets/controls",
     "model_name": "ProgressStyleModel",
     "state": {
      "_model_module": "@jupyter-widgets/controls",
      "_model_module_version": "1.5.0",
      "_model_name": "ProgressStyleModel",
      "_view_count": null,
      "_view_module": "@jupyter-widgets/base",
      "_view_module_version": "1.2.0",
      "_view_name": "StyleView",
      "bar_color": null,
      "description_width": ""
     }
    },
    "3a613cdc31f44ee9878ceab2f83b985a": {
     "model_module": "@jupyter-widgets/controls",
     "model_name": "ProgressStyleModel",
     "state": {
      "_model_module": "@jupyter-widgets/controls",
      "_model_module_version": "1.5.0",
      "_model_name": "ProgressStyleModel",
      "_view_count": null,
      "_view_module": "@jupyter-widgets/base",
      "_view_module_version": "1.2.0",
      "_view_name": "StyleView",
      "bar_color": null,
      "description_width": ""
     }
    },
    "463fc3b7b20d4d94bd58f498194140da": {
     "model_module": "@jupyter-widgets/controls",
     "model_name": "IntProgressModel",
     "state": {
      "_dom_classes": [],
      "_model_module": "@jupyter-widgets/controls",
      "_model_module_version": "1.5.0",
      "_model_name": "IntProgressModel",
      "_view_count": null,
      "_view_module": "@jupyter-widgets/controls",
      "_view_module_version": "1.5.0",
      "_view_name": "ProgressView",
      "bar_style": "",
      "description": "Processing: ",
      "description_tooltip": null,
      "layout": "IPY_MODEL_25635fb9d9e74426a4ffe3f6deb0c9a2",
      "max": 7,
      "min": 0,
      "orientation": "horizontal",
      "style": "IPY_MODEL_3a613cdc31f44ee9878ceab2f83b985a",
      "value": 7
     }
    },
    "4c71ad5a9b1746ef8ca31917c37cff3b": {
     "model_module": "@jupyter-widgets/base",
     "model_name": "LayoutModel",
     "state": {
      "_model_module": "@jupyter-widgets/base",
      "_model_module_version": "1.2.0",
      "_model_name": "LayoutModel",
      "_view_count": null,
      "_view_module": "@jupyter-widgets/base",
      "_view_module_version": "1.2.0",
      "_view_name": "LayoutView",
      "align_content": null,
      "align_items": null,
      "align_self": null,
      "border": null,
      "bottom": null,
      "display": null,
      "flex": null,
      "flex_flow": null,
      "grid_area": null,
      "grid_auto_columns": null,
      "grid_auto_flow": null,
      "grid_auto_rows": null,
      "grid_column": null,
      "grid_gap": null,
      "grid_row": null,
      "grid_template_areas": null,
      "grid_template_columns": null,
      "grid_template_rows": null,
      "height": null,
      "justify_content": null,
      "justify_items": null,
      "left": null,
      "margin": null,
      "max_height": null,
      "max_width": null,
      "min_height": null,
      "min_width": null,
      "object_fit": null,
      "object_position": null,
      "order": null,
      "overflow": null,
      "overflow_x": null,
      "overflow_y": null,
      "padding": null,
      "right": null,
      "top": null,
      "visibility": null,
      "width": null
     }
    },
    "4f81e8d444e2464cbe28a6b86ff871b5": {
     "model_module": "@jupyter-widgets/base",
     "model_name": "LayoutModel",
     "state": {
      "_model_module": "@jupyter-widgets/base",
      "_model_module_version": "1.2.0",
      "_model_name": "LayoutModel",
      "_view_count": null,
      "_view_module": "@jupyter-widgets/base",
      "_view_module_version": "1.2.0",
      "_view_name": "LayoutView",
      "align_content": null,
      "align_items": null,
      "align_self": null,
      "border": null,
      "bottom": null,
      "display": null,
      "flex": null,
      "flex_flow": null,
      "grid_area": null,
      "grid_auto_columns": null,
      "grid_auto_flow": null,
      "grid_auto_rows": null,
      "grid_column": null,
      "grid_gap": null,
      "grid_row": null,
      "grid_template_areas": null,
      "grid_template_columns": null,
      "grid_template_rows": null,
      "height": null,
      "justify_content": null,
      "justify_items": null,
      "left": null,
      "margin": null,
      "max_height": null,
      "max_width": null,
      "min_height": null,
      "min_width": null,
      "object_fit": null,
      "object_position": null,
      "order": null,
      "overflow": null,
      "overflow_x": null,
      "overflow_y": null,
      "padding": null,
      "right": null,
      "top": null,
      "visibility": null,
      "width": null
     }
    },
    "b549798269f8405aa59800806a5ea628": {
     "model_module": "@jupyter-widgets/controls",
     "model_name": "ProgressStyleModel",
     "state": {
      "_model_module": "@jupyter-widgets/controls",
      "_model_module_version": "1.5.0",
      "_model_name": "ProgressStyleModel",
      "_view_count": null,
      "_view_module": "@jupyter-widgets/base",
      "_view_module_version": "1.2.0",
      "_view_name": "StyleView",
      "bar_color": null,
      "description_width": ""
     }
    },
    "b6b46c63554f41e19483e5b31ec2280c": {
     "model_module": "@jupyter-widgets/controls",
     "model_name": "IntProgressModel",
     "state": {
      "_dom_classes": [],
      "_model_module": "@jupyter-widgets/controls",
      "_model_module_version": "1.5.0",
      "_model_name": "IntProgressModel",
      "_view_count": null,
      "_view_module": "@jupyter-widgets/controls",
      "_view_module_version": "1.5.0",
      "_view_name": "ProgressView",
      "bar_style": "",
      "description": "Processing: ",
      "description_tooltip": null,
      "layout": "IPY_MODEL_0d7c00441e6445f9b71c68df63947725",
      "max": 4,
      "min": 0,
      "orientation": "horizontal",
      "style": "IPY_MODEL_b549798269f8405aa59800806a5ea628",
      "value": 4
     }
    },
    "d01f30c83f114157b0c22e2cd2b9bb46": {
     "model_module": "@jupyter-widgets/controls",
     "model_name": "ProgressStyleModel",
     "state": {
      "_model_module": "@jupyter-widgets/controls",
      "_model_module_version": "1.5.0",
      "_model_name": "ProgressStyleModel",
      "_view_count": null,
      "_view_module": "@jupyter-widgets/base",
      "_view_module_version": "1.2.0",
      "_view_name": "StyleView",
      "bar_color": null,
      "description_width": ""
     }
    },
    "daef4644f9274987bc78d4ed7ef34560": {
     "model_module": "@jupyter-widgets/base",
     "model_name": "LayoutModel",
     "state": {
      "_model_module": "@jupyter-widgets/base",
      "_model_module_version": "1.2.0",
      "_model_name": "LayoutModel",
      "_view_count": null,
      "_view_module": "@jupyter-widgets/base",
      "_view_module_version": "1.2.0",
      "_view_name": "LayoutView",
      "align_content": null,
      "align_items": null,
      "align_self": null,
      "border": null,
      "bottom": null,
      "display": null,
      "flex": null,
      "flex_flow": null,
      "grid_area": null,
      "grid_auto_columns": null,
      "grid_auto_flow": null,
      "grid_auto_rows": null,
      "grid_column": null,
      "grid_gap": null,
      "grid_row": null,
      "grid_template_areas": null,
      "grid_template_columns": null,
      "grid_template_rows": null,
      "height": null,
      "justify_content": null,
      "justify_items": null,
      "left": null,
      "margin": null,
      "max_height": null,
      "max_width": null,
      "min_height": null,
      "min_width": null,
      "object_fit": null,
      "object_position": null,
      "order": null,
      "overflow": null,
      "overflow_x": null,
      "overflow_y": null,
      "padding": null,
      "right": null,
      "top": null,
      "visibility": null,
      "width": null
     }
    },
    "efd526e96603472aa5926403d7aaab51": {
     "model_module": "@jupyter-widgets/controls",
     "model_name": "IntProgressModel",
     "state": {
      "_dom_classes": [],
      "_model_module": "@jupyter-widgets/controls",
      "_model_module_version": "1.5.0",
      "_model_name": "IntProgressModel",
      "_view_count": null,
      "_view_module": "@jupyter-widgets/controls",
      "_view_module_version": "1.5.0",
      "_view_name": "ProgressView",
      "bar_style": "",
      "description": "Processing: ",
      "description_tooltip": null,
      "layout": "IPY_MODEL_daef4644f9274987bc78d4ed7ef34560",
      "max": 79,
      "min": 0,
      "orientation": "horizontal",
      "style": "IPY_MODEL_307a2747200e4a7189f15039c8d147ef",
      "value": 79
     }
    },
    "f22ffd90d3364169ba67e6eb5920b092": {
     "model_module": "@jupyter-widgets/controls",
     "model_name": "IntProgressModel",
     "state": {
      "_dom_classes": [],
      "_model_module": "@jupyter-widgets/controls",
      "_model_module_version": "1.5.0",
      "_model_name": "IntProgressModel",
      "_view_count": null,
      "_view_module": "@jupyter-widgets/controls",
      "_view_module_version": "1.5.0",
      "_view_name": "ProgressView",
      "bar_style": "",
      "description": "Processing: ",
      "description_tooltip": null,
      "layout": "IPY_MODEL_4f81e8d444e2464cbe28a6b86ff871b5",
      "max": 79,
      "min": 0,
      "orientation": "horizontal",
      "style": "IPY_MODEL_d01f30c83f114157b0c22e2cd2b9bb46",
      "value": 79
     }
    }
   }
  }
 },
 "nbformat": 4,
 "nbformat_minor": 1
}
