{
 "cells": [
  {
   "cell_type": "code",
   "execution_count": 12,
   "metadata": {
    "id": "OSGVItv66HaH"
   },
   "outputs": [
    {
     "name": "stderr",
     "output_type": "stream",
     "text": [
      "UsageError: Line magic function `%%capture` not found.\n"
     ]
    }
   ],
   "source": [
    "# Colab was used for this notebook hence the library installs\n",
    "%%capture\n",
    "!pip install pycaret --quiet --upgrade\n",
    "!pip install dabl --quiet --upgrade\n",
    "!pip install shap --quiet --upgrade\n",
    "!pip install sdv  --quiet --upgrade\n",
    "!pip install sdv[ctgan] --quiet --upgrade\n",
    "!pip install baytune --quiet --upgrade\n",
    "!pip install optuna --quiet --upgrade"
   ]
  },
  {
   "cell_type": "markdown",
   "metadata": {},
   "source": [
    "# Here we will present the bug of 1d-array"
   ]
  },
  {
   "cell_type": "code",
   "execution_count": 2,
   "metadata": {
    "id": "II3ngOKeuRyZ"
   },
   "outputs": [],
   "source": [
    "from pycaret.classification import * # Preprocessing, modelling, interpretation, deployment...\n",
    "import pandas as pd # Basic data manipulation\n",
    "#import dabl as db # Summary plot\n",
    "from sklearn.model_selection import train_test_split # Data split\n",
    "from sdv.tabular import CopulaGAN # Synthetic data\n",
    "from sdv.evaluation import evaluate # Evaluate synthetic data\n",
    "from btb.tuning import Tunable, GCPTuner # CopulaGAN optimising\n",
    "from btb.tuning import hyperparams as hp  # Set hyperparameters for optimising\n",
    "import joblib # Saving preparation steps"
   ]
  },
  {
   "cell_type": "markdown",
   "metadata": {},
   "source": [
    "# *First we use fake data to present the bug*"
   ]
  },
  {
   "cell_type": "code",
   "execution_count": 3,
   "metadata": {},
   "outputs": [],
   "source": [
    "x=np.random.rand(1000)*50\n",
    "y=np.random.rand(1000)*50\n",
    "z=np.random.rand(1000)*50\n",
    "df=pd.DataFrame(pd.DataFrame([x,y,z]).values.T,columns = [\"x\",\"y\",\"z\"])"
   ]
  },
  {
   "cell_type": "code",
   "execution_count": 4,
   "metadata": {},
   "outputs": [],
   "source": [
    "tuner = GCPTuner(Tunable({\n",
    "          'epochs': hp.IntHyperParam(min = 80, max = 400),\n",
    "          'batch_size' : hp.IntHyperParam(min = 1, max = 100),\n",
    "          'embedding_dim' : hp.IntHyperParam(min = 1, max = 100),\n",
    "          'gen' : hp.IntHyperParam(min = 1, max = 1000),\n",
    "          'dim_gen' : hp.IntHyperParam(min = 1, max = 1000)\n",
    "        }))"
   ]
  },
  {
   "cell_type": "code",
   "execution_count": null,
   "metadata": {},
   "outputs": [
    {
     "name": "stdout",
     "output_type": "stream",
     "text": [
      "1\n",
      "2\n"
     ]
    }
   ],
   "source": [
    "tracker = 0 \n",
    "real = df\n",
    "for _ in range(50):\n",
    "    tracker += 1\n",
    "    print(tracker)\n",
    "    proposal = tuner.propose(1)\n",
    "    model = CopulaGAN(embedding_dim = proposal['embedding_dim'],\n",
    "                    generator_dim = (proposal['gen'], proposal['gen']),\n",
    "                    discriminator_dim = (proposal['dim_gen'], proposal['dim_gen']),\n",
    "                    batch_size = proposal['batch_size'] * 10,\n",
    "                    epochs = proposal['epochs'])\n",
    "    model.fit(real)\n",
    "    synth_data = model.sample(600, max_retries = 300)\n",
    "    score = evaluate(synthetic_data = synth_data, real_data = real)\n",
    "    tuner.record(proposal, score)"
   ]
  },
  {
   "cell_type": "markdown",
   "metadata": {
    "id": "NVPzBL7w6Npu"
   },
   "source": [
    "# *Now we present a real example.*"
   ]
  },
  {
   "cell_type": "code",
   "execution_count": null,
   "metadata": {
    "colab": {
     "base_uri": "https://localhost:8080/",
     "height": 313
    },
    "id": "5BbUIpQYu6mw",
    "outputId": "51226c2d-04bf-43ef-cc03-04fc8f371433"
   },
   "outputs": [],
   "source": [
    "# Read and output the top 5 rows\n",
    "hr_data = pd.read_csv(\"data/HR Employee Attrition.csv\")\n",
    "hr_data.head()"
   ]
  },
  {
   "cell_type": "markdown",
   "metadata": {
    "id": "4GZGPPFQW2Zh"
   },
   "source": [
    "Try the data below several times and this error will appear."
   ]
  },
  {
   "cell_type": "code",
   "execution_count": null,
   "metadata": {
    "id": "Ca1OSKv0TPL_"
   },
   "outputs": [],
   "source": [
    "tuner = GCPTuner(Tunable({\n",
    "          'epochs': hp.IntHyperParam(min = 80, max = 400),\n",
    "          'batch_size' : hp.IntHyperParam(min = 1, max = 100),\n",
    "          'embedding_dim' : hp.IntHyperParam(min = 1, max = 100),\n",
    "          'gen' : hp.IntHyperParam(min = 1, max = 1000),\n",
    "          'dim_gen' : hp.IntHyperParam(min = 1, max = 1000)\n",
    "        }))"
   ]
  },
  {
   "cell_type": "code",
   "execution_count": null,
   "metadata": {
    "colab": {
     "base_uri": "https://localhost:8080/"
    },
    "id": "HJvxQx-KZxqV",
    "outputId": "69b0489b-12bd-437e-eeed-ff79c9439d5f"
   },
   "outputs": [],
   "source": [
    "best_score = 0 # Keep track of best score\n",
    "tracker = 0 # Keep track of how many loops have completed\n",
    "\n",
    "real = hr_data[hr_data[\"Attrition\"] == \"Yes\"] # Filter to only those employees that left\n",
    "\n",
    "## TRAINING LOOP START ##\n",
    "for _ in range(50):\n",
    "\n",
    "  # Increment the tracker\n",
    "    tracker += 1\n",
    "\n",
    "  # Every 5 loops output the tracker\n",
    "    if tracker % 1 == 0:\n",
    "        print(tracker)\n",
    "\n",
    "  # Get the hyperparameters for this loop\n",
    "    proposal = tuner.propose(1)\n",
    "  \n",
    "  # Create the CopulaGAN\n",
    "  # NOTE - batch_size is multiplied by 10 as needs to be a factor of 10\n",
    "    model = CopulaGAN(primary_key = \"EmployeeNumber\", \n",
    "                    embedding_dim = proposal['embedding_dim'],\n",
    "                    generator_dim = (proposal['gen'], proposal['gen']),\n",
    "                    discriminator_dim = (proposal['dim_gen'], proposal['dim_gen']),\n",
    "                    batch_size = proposal['batch_size'] * 10,\n",
    "                    epochs = proposal['epochs'])\n",
    "  \n",
    "  # Fit the CopulaGAN\n",
    "    model.fit(real)\n",
    "  \n",
    "  # Create 600 rows of data\n",
    "    synth_data = model.sample(600, max_retries = 300)\n",
    "  \n",
    "  # Evaluate the synthetic data against the real data\n",
    "    score = evaluate(synthetic_data = synth_data, real_data = real)\n",
    "\n",
    "  # If the new hyperparameters beat the best ones, store them along with the score\n",
    "    if score > best_score:\n",
    "        best_params = proposal\n",
    "        best_score = score\n",
    "\n",
    "  # Record the hyperparameters and score      \n",
    "    tuner.record(proposal, score)\n",
    "\n",
    "## TRAINING LOOP END ##\n",
    "\n",
    "\n",
    "print('Best score obtained: ', best_score)\n",
    "print('Best parameters: ', best_params)"
   ]
  }
 ],
 "metadata": {
  "@webio": {
   "lastCommId": null,
   "lastKernelId": null
  },
  "accelerator": "GPU",
  "colab": {
   "authorship_tag": "ABX9TyNQgnEaLkmsZ47jQY2/G1wt",
   "collapsed_sections": [
    "u8hyoSAOm6E2",
    "owfzjkszOE5n"
   ],
   "name": "Predicting employee attrition.ipynb",
   "provenance": [],
   "toc_visible": true
  },
  "kernelspec": {
   "display_name": "Python 3",
   "language": "python",
   "name": "python3"
  },
  "language_info": {
   "codemirror_mode": {
    "name": "ipython",
    "version": 3
   },
   "file_extension": ".py",
   "mimetype": "text/x-python",
   "name": "python",
   "nbconvert_exporter": "python",
   "pygments_lexer": "ipython3",
   "version": "3.6.12"
  },
  "widgets": {
   "application/vnd.jupyter.widget-state+json": {
    "0d7c00441e6445f9b71c68df63947725": {
     "model_module": "@jupyter-widgets/base",
     "model_name": "LayoutModel",
     "state": {
      "_model_module": "@jupyter-widgets/base",
      "_model_module_version": "1.2.0",
      "_model_name": "LayoutModel",
      "_view_count": null,
      "_view_module": "@jupyter-widgets/base",
      "_view_module_version": "1.2.0",
      "_view_name": "LayoutView",
      "align_content": null,
      "align_items": null,
      "align_self": null,
      "border": null,
      "bottom": null,
      "display": null,
      "flex": null,
      "flex_flow": null,
      "grid_area": null,
      "grid_auto_columns": null,
      "grid_auto_flow": null,
      "grid_auto_rows": null,
      "grid_column": null,
      "grid_gap": null,
      "grid_row": null,
      "grid_template_areas": null,
      "grid_template_columns": null,
      "grid_template_rows": null,
      "height": null,
      "justify_content": null,
      "justify_items": null,
      "left": null,
      "margin": null,
      "max_height": null,
      "max_width": null,
      "min_height": null,
      "min_width": null,
      "object_fit": null,
      "object_position": null,
      "order": null,
      "overflow": null,
      "overflow_x": null,
      "overflow_y": null,
      "padding": null,
      "right": null,
      "top": null,
      "visibility": null,
      "width": null
     }
    },
    "10ea5db4ef064f8fb0a0e9318f02c620": {
     "model_module": "@jupyter-widgets/controls",
     "model_name": "IntProgressModel",
     "state": {
      "_dom_classes": [],
      "_model_module": "@jupyter-widgets/controls",
      "_model_module_version": "1.5.0",
      "_model_name": "IntProgressModel",
      "_view_count": null,
      "_view_module": "@jupyter-widgets/controls",
      "_view_module_version": "1.5.0",
      "_view_name": "ProgressView",
      "bar_style": "",
      "description": "Processing: ",
      "description_tooltip": null,
      "layout": "IPY_MODEL_4c71ad5a9b1746ef8ca31917c37cff3b",
      "max": 4,
      "min": 0,
      "orientation": "horizontal",
      "style": "IPY_MODEL_33bc17f93fbd4428a8bfb9e271e3d0fa",
      "value": 4
     }
    },
    "25635fb9d9e74426a4ffe3f6deb0c9a2": {
     "model_module": "@jupyter-widgets/base",
     "model_name": "LayoutModel",
     "state": {
      "_model_module": "@jupyter-widgets/base",
      "_model_module_version": "1.2.0",
      "_model_name": "LayoutModel",
      "_view_count": null,
      "_view_module": "@jupyter-widgets/base",
      "_view_module_version": "1.2.0",
      "_view_name": "LayoutView",
      "align_content": null,
      "align_items": null,
      "align_self": null,
      "border": null,
      "bottom": null,
      "display": null,
      "flex": null,
      "flex_flow": null,
      "grid_area": null,
      "grid_auto_columns": null,
      "grid_auto_flow": null,
      "grid_auto_rows": null,
      "grid_column": null,
      "grid_gap": null,
      "grid_row": null,
      "grid_template_areas": null,
      "grid_template_columns": null,
      "grid_template_rows": null,
      "height": null,
      "justify_content": null,
      "justify_items": null,
      "left": null,
      "margin": null,
      "max_height": null,
      "max_width": null,
      "min_height": null,
      "min_width": null,
      "object_fit": null,
      "object_position": null,
      "order": null,
      "overflow": null,
      "overflow_x": null,
      "overflow_y": null,
      "padding": null,
      "right": null,
      "top": null,
      "visibility": null,
      "width": null
     }
    },
    "307a2747200e4a7189f15039c8d147ef": {
     "model_module": "@jupyter-widgets/controls",
     "model_name": "ProgressStyleModel",
     "state": {
      "_model_module": "@jupyter-widgets/controls",
      "_model_module_version": "1.5.0",
      "_model_name": "ProgressStyleModel",
      "_view_count": null,
      "_view_module": "@jupyter-widgets/base",
      "_view_module_version": "1.2.0",
      "_view_name": "StyleView",
      "bar_color": null,
      "description_width": ""
     }
    },
    "33bc17f93fbd4428a8bfb9e271e3d0fa": {
     "model_module": "@jupyter-widgets/controls",
     "model_name": "ProgressStyleModel",
     "state": {
      "_model_module": "@jupyter-widgets/controls",
      "_model_module_version": "1.5.0",
      "_model_name": "ProgressStyleModel",
      "_view_count": null,
      "_view_module": "@jupyter-widgets/base",
      "_view_module_version": "1.2.0",
      "_view_name": "StyleView",
      "bar_color": null,
      "description_width": ""
     }
    },
    "3a613cdc31f44ee9878ceab2f83b985a": {
     "model_module": "@jupyter-widgets/controls",
     "model_name": "ProgressStyleModel",
     "state": {
      "_model_module": "@jupyter-widgets/controls",
      "_model_module_version": "1.5.0",
      "_model_name": "ProgressStyleModel",
      "_view_count": null,
      "_view_module": "@jupyter-widgets/base",
      "_view_module_version": "1.2.0",
      "_view_name": "StyleView",
      "bar_color": null,
      "description_width": ""
     }
    },
    "463fc3b7b20d4d94bd58f498194140da": {
     "model_module": "@jupyter-widgets/controls",
     "model_name": "IntProgressModel",
     "state": {
      "_dom_classes": [],
      "_model_module": "@jupyter-widgets/controls",
      "_model_module_version": "1.5.0",
      "_model_name": "IntProgressModel",
      "_view_count": null,
      "_view_module": "@jupyter-widgets/controls",
      "_view_module_version": "1.5.0",
      "_view_name": "ProgressView",
      "bar_style": "",
      "description": "Processing: ",
      "description_tooltip": null,
      "layout": "IPY_MODEL_25635fb9d9e74426a4ffe3f6deb0c9a2",
      "max": 7,
      "min": 0,
      "orientation": "horizontal",
      "style": "IPY_MODEL_3a613cdc31f44ee9878ceab2f83b985a",
      "value": 7
     }
    },
    "4c71ad5a9b1746ef8ca31917c37cff3b": {
     "model_module": "@jupyter-widgets/base",
     "model_name": "LayoutModel",
     "state": {
      "_model_module": "@jupyter-widgets/base",
      "_model_module_version": "1.2.0",
      "_model_name": "LayoutModel",
      "_view_count": null,
      "_view_module": "@jupyter-widgets/base",
      "_view_module_version": "1.2.0",
      "_view_name": "LayoutView",
      "align_content": null,
      "align_items": null,
      "align_self": null,
      "border": null,
      "bottom": null,
      "display": null,
      "flex": null,
      "flex_flow": null,
      "grid_area": null,
      "grid_auto_columns": null,
      "grid_auto_flow": null,
      "grid_auto_rows": null,
      "grid_column": null,
      "grid_gap": null,
      "grid_row": null,
      "grid_template_areas": null,
      "grid_template_columns": null,
      "grid_template_rows": null,
      "height": null,
      "justify_content": null,
      "justify_items": null,
      "left": null,
      "margin": null,
      "max_height": null,
      "max_width": null,
      "min_height": null,
      "min_width": null,
      "object_fit": null,
      "object_position": null,
      "order": null,
      "overflow": null,
      "overflow_x": null,
      "overflow_y": null,
      "padding": null,
      "right": null,
      "top": null,
      "visibility": null,
      "width": null
     }
    },
    "4f81e8d444e2464cbe28a6b86ff871b5": {
     "model_module": "@jupyter-widgets/base",
     "model_name": "LayoutModel",
     "state": {
      "_model_module": "@jupyter-widgets/base",
      "_model_module_version": "1.2.0",
      "_model_name": "LayoutModel",
      "_view_count": null,
      "_view_module": "@jupyter-widgets/base",
      "_view_module_version": "1.2.0",
      "_view_name": "LayoutView",
      "align_content": null,
      "align_items": null,
      "align_self": null,
      "border": null,
      "bottom": null,
      "display": null,
      "flex": null,
      "flex_flow": null,
      "grid_area": null,
      "grid_auto_columns": null,
      "grid_auto_flow": null,
      "grid_auto_rows": null,
      "grid_column": null,
      "grid_gap": null,
      "grid_row": null,
      "grid_template_areas": null,
      "grid_template_columns": null,
      "grid_template_rows": null,
      "height": null,
      "justify_content": null,
      "justify_items": null,
      "left": null,
      "margin": null,
      "max_height": null,
      "max_width": null,
      "min_height": null,
      "min_width": null,
      "object_fit": null,
      "object_position": null,
      "order": null,
      "overflow": null,
      "overflow_x": null,
      "overflow_y": null,
      "padding": null,
      "right": null,
      "top": null,
      "visibility": null,
      "width": null
     }
    },
    "b549798269f8405aa59800806a5ea628": {
     "model_module": "@jupyter-widgets/controls",
     "model_name": "ProgressStyleModel",
     "state": {
      "_model_module": "@jupyter-widgets/controls",
      "_model_module_version": "1.5.0",
      "_model_name": "ProgressStyleModel",
      "_view_count": null,
      "_view_module": "@jupyter-widgets/base",
      "_view_module_version": "1.2.0",
      "_view_name": "StyleView",
      "bar_color": null,
      "description_width": ""
     }
    },
    "b6b46c63554f41e19483e5b31ec2280c": {
     "model_module": "@jupyter-widgets/controls",
     "model_name": "IntProgressModel",
     "state": {
      "_dom_classes": [],
      "_model_module": "@jupyter-widgets/controls",
      "_model_module_version": "1.5.0",
      "_model_name": "IntProgressModel",
      "_view_count": null,
      "_view_module": "@jupyter-widgets/controls",
      "_view_module_version": "1.5.0",
      "_view_name": "ProgressView",
      "bar_style": "",
      "description": "Processing: ",
      "description_tooltip": null,
      "layout": "IPY_MODEL_0d7c00441e6445f9b71c68df63947725",
      "max": 4,
      "min": 0,
      "orientation": "horizontal",
      "style": "IPY_MODEL_b549798269f8405aa59800806a5ea628",
      "value": 4
     }
    },
    "d01f30c83f114157b0c22e2cd2b9bb46": {
     "model_module": "@jupyter-widgets/controls",
     "model_name": "ProgressStyleModel",
     "state": {
      "_model_module": "@jupyter-widgets/controls",
      "_model_module_version": "1.5.0",
      "_model_name": "ProgressStyleModel",
      "_view_count": null,
      "_view_module": "@jupyter-widgets/base",
      "_view_module_version": "1.2.0",
      "_view_name": "StyleView",
      "bar_color": null,
      "description_width": ""
     }
    },
    "daef4644f9274987bc78d4ed7ef34560": {
     "model_module": "@jupyter-widgets/base",
     "model_name": "LayoutModel",
     "state": {
      "_model_module": "@jupyter-widgets/base",
      "_model_module_version": "1.2.0",
      "_model_name": "LayoutModel",
      "_view_count": null,
      "_view_module": "@jupyter-widgets/base",
      "_view_module_version": "1.2.0",
      "_view_name": "LayoutView",
      "align_content": null,
      "align_items": null,
      "align_self": null,
      "border": null,
      "bottom": null,
      "display": null,
      "flex": null,
      "flex_flow": null,
      "grid_area": null,
      "grid_auto_columns": null,
      "grid_auto_flow": null,
      "grid_auto_rows": null,
      "grid_column": null,
      "grid_gap": null,
      "grid_row": null,
      "grid_template_areas": null,
      "grid_template_columns": null,
      "grid_template_rows": null,
      "height": null,
      "justify_content": null,
      "justify_items": null,
      "left": null,
      "margin": null,
      "max_height": null,
      "max_width": null,
      "min_height": null,
      "min_width": null,
      "object_fit": null,
      "object_position": null,
      "order": null,
      "overflow": null,
      "overflow_x": null,
      "overflow_y": null,
      "padding": null,
      "right": null,
      "top": null,
      "visibility": null,
      "width": null
     }
    },
    "efd526e96603472aa5926403d7aaab51": {
     "model_module": "@jupyter-widgets/controls",
     "model_name": "IntProgressModel",
     "state": {
      "_dom_classes": [],
      "_model_module": "@jupyter-widgets/controls",
      "_model_module_version": "1.5.0",
      "_model_name": "IntProgressModel",
      "_view_count": null,
      "_view_module": "@jupyter-widgets/controls",
      "_view_module_version": "1.5.0",
      "_view_name": "ProgressView",
      "bar_style": "",
      "description": "Processing: ",
      "description_tooltip": null,
      "layout": "IPY_MODEL_daef4644f9274987bc78d4ed7ef34560",
      "max": 79,
      "min": 0,
      "orientation": "horizontal",
      "style": "IPY_MODEL_307a2747200e4a7189f15039c8d147ef",
      "value": 79
     }
    },
    "f22ffd90d3364169ba67e6eb5920b092": {
     "model_module": "@jupyter-widgets/controls",
     "model_name": "IntProgressModel",
     "state": {
      "_dom_classes": [],
      "_model_module": "@jupyter-widgets/controls",
      "_model_module_version": "1.5.0",
      "_model_name": "IntProgressModel",
      "_view_count": null,
      "_view_module": "@jupyter-widgets/controls",
      "_view_module_version": "1.5.0",
      "_view_name": "ProgressView",
      "bar_style": "",
      "description": "Processing: ",
      "description_tooltip": null,
      "layout": "IPY_MODEL_4f81e8d444e2464cbe28a6b86ff871b5",
      "max": 79,
      "min": 0,
      "orientation": "horizontal",
      "style": "IPY_MODEL_d01f30c83f114157b0c22e2cd2b9bb46",
      "value": 79
     }
    }
   }
  }
 },
 "nbformat": 4,
 "nbformat_minor": 1
}
