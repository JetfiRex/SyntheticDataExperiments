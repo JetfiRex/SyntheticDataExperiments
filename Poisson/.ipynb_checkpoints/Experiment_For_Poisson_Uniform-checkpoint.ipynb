{
 "cells": [
  {
   "cell_type": "markdown",
   "id": "sunset-pleasure",
   "metadata": {},
   "source": [
    "Test the poisson and uniform"
   ]
  },
  {
   "cell_type": "code",
   "execution_count": 45,
   "id": "after-patent",
   "metadata": {},
   "outputs": [],
   "source": [
    "import pandas as pd # Basic data manipulation\n",
    "from sdv.tabular import CopulaGAN, GaussianCopula # Synthetic data\n",
    "from sdv.evaluation import evaluate # Evaluate synthetic data\n",
    "import numpy as np"
   ]
  },
  {
   "cell_type": "markdown",
   "id": "brief-things",
   "metadata": {},
   "source": [
    "Test for poisson\n",
    "\n",
    "(Before running this, please install `__init__.py` and `poisson.py` into `~\\.conda\\envs\\py36\\Lib\\site-packages\\copulas\\univariate`, and substitute `copulas.py` in this file for th`\\.conda\\envs\\py36\\Lib\\site-packages\\sdv\\tabular`)"
   ]
  },
  {
   "cell_type": "code",
   "execution_count": 46,
   "id": "everyday-international",
   "metadata": {},
   "outputs": [],
   "source": [
    "X=np.random.poisson(1,20000)+7\n",
    "df = pd.DataFrame(pd.DataFrame([X]).values.T,columns = [\"x\"])"
   ]
  },
  {
   "cell_type": "code",
   "execution_count": 48,
   "id": "through-millennium",
   "metadata": {},
   "outputs": [],
   "source": [
    "model = GaussianCopula(field_distributions = {\"x\":\"poisson\"})"
   ]
  },
  {
   "cell_type": "code",
   "execution_count": 26,
   "id": "continued-actor",
   "metadata": {},
   "outputs": [],
   "source": [
    "model.fit(df)\n",
    "sample = model.sample(1000)"
   ]
  },
  {
   "cell_type": "code",
   "execution_count": 27,
   "id": "outside-leadership",
   "metadata": {},
   "outputs": [
    {
     "data": {
      "text/plain": [
       "(x    7\n",
       " dtype: int64,\n",
       " x    7.953\n",
       " dtype: float64,\n",
       " x    12\n",
       " dtype: int64)"
      ]
     },
     "execution_count": 27,
     "metadata": {},
     "output_type": "execute_result"
    }
   ],
   "source": [
    "sample.min(), sample.mean(), sample.max()"
   ]
  },
  {
   "cell_type": "code",
   "execution_count": 28,
   "id": "olive-triumph",
   "metadata": {},
   "outputs": [
    {
     "data": {
      "text/plain": [
       "(7, 8.00085)"
      ]
     },
     "execution_count": 28,
     "metadata": {},
     "output_type": "execute_result"
    }
   ],
   "source": [
    "X.min(), X.mean()"
   ]
  },
  {
   "cell_type": "code",
   "execution_count": 29,
   "id": "mounted-hours",
   "metadata": {},
   "outputs": [
    {
     "data": {
      "text/plain": [
       "{'x': 'copulas.univariate.poisson.PoissonUnivariate'}"
      ]
     },
     "execution_count": 29,
     "metadata": {},
     "output_type": "execute_result"
    }
   ],
   "source": [
    "model.get_distributions()"
   ]
  },
  {
   "cell_type": "code",
   "execution_count": 30,
   "id": "radio-israeli",
   "metadata": {},
   "outputs": [
    {
     "data": {
      "text/plain": [
       "(array([372.,   0., 390.,   0., 175.,   0.,  41.,   0.,  20.,   2.]),\n",
       " array([ 7. ,  7.5,  8. ,  8.5,  9. ,  9.5, 10. , 10.5, 11. , 11.5, 12. ]),\n",
       " <BarContainer object of 10 artists>)"
      ]
     },
     "execution_count": 30,
     "metadata": {},
     "output_type": "execute_result"
    },
    {
     "data": {
      "image/png": "[encoded data removed]",
      "text/plain": [
       "<Figure size 432x288 with 1 Axes>"
      ]
     },
     "metadata": {
      "needs_background": "light"
     },
     "output_type": "display_data"
    }
   ],
   "source": [
    "from matplotlib import pyplot as plt\n",
    "plt.hist(sample[\"x\"])"
   ]
  },
  {
   "cell_type": "code",
   "execution_count": 21,
   "id": "signal-probability",
   "metadata": {},
   "outputs": [],
   "source": [
    "model = GaussianCopula(field_distributions = {\"x\":\"semi_bounded\"})"
   ]
  },
  {
   "cell_type": "code",
   "execution_count": 22,
   "id": "beautiful-grain",
   "metadata": {},
   "outputs": [
    {
     "name": "stderr",
     "output_type": "stream",
     "text": [
      "C:\\Users\\57517\\.conda\\envs\\py36\\lib\\site-packages\\scipy\\stats\\_continuous_distns.py:4965: RuntimeWarning: divide by zero encountered in true_divide\n",
      "  return c**2 / (c**2 - n**2)\n",
      "C:\\Users\\57517\\.conda\\envs\\py36\\lib\\site-packages\\scipy\\stats\\_distn_infrastructure.py:2429: RuntimeWarning: invalid value encountered in double_scalars\n",
      "  Lhat = muhat - Shat*mu\n"
     ]
    }
   ],
   "source": [
    "model.fit(df)"
   ]
  },
  {
   "cell_type": "code",
   "execution_count": 23,
   "id": "convertible-nevada",
   "metadata": {},
   "outputs": [
    {
     "data": {
      "text/plain": [
       "{'x': 'copulas.univariate.log_laplace.LogLaplace'}"
      ]
     },
     "execution_count": 23,
     "metadata": {},
     "output_type": "execute_result"
    }
   ],
   "source": [
    "model.get_distributions()"
   ]
  },
  {
   "cell_type": "markdown",
   "id": "wooden-concert",
   "metadata": {},
   "source": [
    "Test for uniform"
   ]
  },
  {
   "cell_type": "code",
   "execution_count": 37,
   "id": "royal-bulgaria",
   "metadata": {},
   "outputs": [],
   "source": [
    "X=np.random.rand(20000)\n",
    "df = pd.DataFrame(pd.DataFrame([X]).values.T,columns = [\"x\"])"
   ]
  },
  {
   "cell_type": "code",
   "execution_count": 38,
   "id": "retained-invasion",
   "metadata": {},
   "outputs": [],
   "source": [
    "model = CopulaGAN(field_distributions = {\"x\":\"uniform\"})"
   ]
  },
  {
   "cell_type": "code",
   "execution_count": 39,
   "id": "powered-waterproof",
   "metadata": {},
   "outputs": [
    {
     "data": {
      "text/plain": [
       "(3.7402832681721065e-05, 0.9999906384398899)"
      ]
     },
     "execution_count": 39,
     "metadata": {},
     "output_type": "execute_result"
    }
   ],
   "source": [
    "X.min(), X.max()"
   ]
  },
  {
   "cell_type": "code",
   "execution_count": 40,
   "id": "hollow-disco",
   "metadata": {},
   "outputs": [
    {
     "name": "stderr",
     "output_type": "stream",
     "text": [
      "C:\\Users\\57517\\.conda\\envs\\py36\\lib\\site-packages\\scipy\\stats\\_continuous_distns.py:4965: RuntimeWarning: divide by zero encountered in true_divide\n",
      "  return c**2 / (c**2 - n**2)\n",
      "C:\\Users\\57517\\.conda\\envs\\py36\\lib\\site-packages\\scipy\\stats\\_distn_infrastructure.py:2429: RuntimeWarning: invalid value encountered in double_scalars\n",
      "  Lhat = muhat - Shat*mu\n"
     ]
    }
   ],
   "source": [
    "model = GaussianCopula()\n",
    "model.fit(df)\n",
    "sample_unif = model.sample(1000)"
   ]
  },
  {
   "cell_type": "code",
   "execution_count": 41,
   "id": "excessive-breakfast",
   "metadata": {},
   "outputs": [
    {
     "data": {
      "text/plain": [
       "{'x': 'copulas.univariate.uniform.UniformUnivariate'}"
      ]
     },
     "execution_count": 41,
     "metadata": {},
     "output_type": "execute_result"
    }
   ],
   "source": [
    "model.get_distributions()"
   ]
  },
  {
   "cell_type": "code",
   "execution_count": 42,
   "id": "c8b00a0d",
   "metadata": {},
   "outputs": [
    {
     "data": {
      "text/plain": [
       "(array([108., 113.,  80.,  74., 117., 108.,  87., 113., 118.,  82.]),\n",
       " array([6.59767902e-04, 1.00462060e-01, 2.00264351e-01, 3.00066643e-01,\n",
       "        3.99868934e-01, 4.99671226e-01, 5.99473518e-01, 6.99275809e-01,\n",
       "        7.99078101e-01, 8.98880393e-01, 9.98682684e-01]),\n",
       " <BarContainer object of 10 artists>)"
      ]
     },
     "execution_count": 42,
     "metadata": {},
     "output_type": "execute_result"
    },
    {
     "data": {
      "image/png": "[encoded data removed]",
      "text/plain": [
       "<Figure size 432x288 with 1 Axes>"
      ]
     },
     "metadata": {
      "needs_background": "light"
     },
     "output_type": "display_data"
    }
   ],
   "source": [
    "plt.hist(sample_unif)"
   ]
  },
  {
   "cell_type": "code",
   "execution_count": 43,
   "id": "romantic-interface",
   "metadata": {},
   "outputs": [
    {
     "name": "stderr",
     "output_type": "stream",
     "text": [
      "C:\\Users\\57517\\.conda\\envs\\py36\\lib\\site-packages\\scipy\\stats\\_continuous_distns.py:4965: RuntimeWarning: divide by zero encountered in true_divide\n",
      "  return c**2 / (c**2 - n**2)\n",
      "C:\\Users\\57517\\.conda\\envs\\py36\\lib\\site-packages\\scipy\\stats\\_distn_infrastructure.py:2429: RuntimeWarning: invalid value encountered in double_scalars\n",
      "  Lhat = muhat - Shat*mu\n"
     ]
    },
    {
     "data": {
      "text/plain": [
       "{'x': 'copulas.univariate.uniform.UniformUnivariate'}"
      ]
     },
     "execution_count": 43,
     "metadata": {},
     "output_type": "execute_result"
    }
   ],
   "source": [
    "model = GaussianCopula()\n",
    "model.fit(df)\n",
    "model.get_distributions()"
   ]
  },
  {
   "cell_type": "code",
   "execution_count": null,
   "id": "welsh-resistance",
   "metadata": {},
   "outputs": [],
   "source": []
  },
  {
   "cell_type": "code",
   "execution_count": null,
   "id": "indian-stephen",
   "metadata": {},
   "outputs": [],
   "source": []
  }
 ],
 "metadata": {
  "@webio": {
   "lastCommId": null,
   "lastKernelId": null
  },
  "kernelspec": {
   "display_name": "Python 3",
   "language": "python",
   "name": "python3"
  },
  "language_info": {
   "codemirror_mode": {
    "name": "ipython",
    "version": 3
   },
   "file_extension": ".py",
   "mimetype": "text/x-python",
   "name": "python",
   "nbconvert_exporter": "python",
   "pygments_lexer": "ipython3",
   "version": "3.6.13"
  }
 },
 "nbformat": 4,
 "nbformat_minor": 5
}
