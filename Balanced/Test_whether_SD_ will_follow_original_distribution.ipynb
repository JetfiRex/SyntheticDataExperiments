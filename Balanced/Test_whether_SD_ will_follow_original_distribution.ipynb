{
 "cells": [
  {
   "cell_type": "markdown",
   "metadata": {
    "id": "u8hyoSAOm6E2"
   },
   "source": [
    "## **This notebook focus on CTGAN**\n",
    "\n",
    "## **The data**\n",
    "Insurance data isn't easy to find given the nature of the data. However there are [fictious data](https://www.kaggle.com/pavansubhasht/ibm-hr-analytics-attrition-dataset) around which class of amount of the insurance given data below.\n",
    "\n",
    "* ` age `\n",
    "* ` bmi `\n",
    "* ` children `\n",
    "* ` sex `\n",
    "* ` smoker `\n",
    "* ` region `\n",
    "\n",
    "The target value is 0, 1, 2, 3 such that higher number represents a higher range of insurance. \n",
    "\n",
    "The amount of data for each target value is approximately the same.\n",
    "\n",
    "Throughout the dataset, we are using **GTGAN**"
   ]
  },
  {
   "cell_type": "markdown",
   "metadata": {
    "id": "7Ggwgt9hhApQ"
   },
   "source": [
    "# **Libraries**"
   ]
  },
  {
   "cell_type": "code",
   "execution_count": 2,
   "metadata": {
    "id": "II3ngOKeuRyZ"
   },
   "outputs": [],
   "source": [
    "from pycaret.classification import * \n",
    "#from pycaret.regression import * # Preprocessing, modelling, interpretation, deployment...\n",
    "from sklearn.impute import SimpleImputer\n",
    "import pandas as pd # Basic data manipulation\n",
    "#import dabl as db # Summary plot\n",
    "from sklearn.model_selection import train_test_split # Data split\n",
    "from sdv.tabular import CopulaGAN, GaussianCopula, CTGAN # Synthetic data\n",
    "from sdv.evaluation import evaluate # Evaluate synthetic data\n",
    "#from btb.tuning import Tunable, GCPTuner # CopulaGAN optimising\n",
    "#from btb.tuning import hyperparams as hp  # Set hyperparameters for optimising\n",
    "import joblib # Saving preparation steps\n",
    "import sdv.constraints as cons # Evaluate synthetic data\n",
    "import pandas as pd"
   ]
  },
  {
   "cell_type": "markdown",
   "metadata": {},
   "source": [
    "We first build a toy data set. With a data of 20% 0-100, 40% 100-200, 30% 200-300,10% 300-400, "
   ]
  },
  {
   "cell_type": "code",
   "execution_count": 4,
   "metadata": {},
   "outputs": [],
   "source": [
    "import random\n",
    "# give a data of 20% 0-100, 40% 100-200, 30% 200-300,10% 300-400, \n",
    "small=[[100*random.random()] for _ in range (400)]\n",
    "medium=[[100+100*random.random()] for _ in range (800)]\n",
    "large=[[200+100*random.random()] for _ in range (600)]\n",
    "extralarge=[[300+100*random.random()] for _ in range (200)]\n",
    "mix=small+medium+large+extralarge\n",
    "random.shuffle(mix)\n",
    "df = pd.DataFrame(mix, columns=[\"s\"])"
   ]
  },
  {
   "cell_type": "code",
   "execution_count": 8,
   "metadata": {},
   "outputs": [
    {
     "data": {
      "text/plain": [
       "Text(0, 0.5, 'occurrance')"
      ]
     },
     "execution_count": 8,
     "metadata": {},
     "output_type": "execute_result"
    },
    {
     "data": {
      "image/png": "[encoded data removed]",
      "text/plain": [
       "<Figure size 432x288 with 1 Axes>"
      ]
     },
     "metadata": {
      "needs_background": "light"
     },
     "output_type": "display_data"
    }
   ],
   "source": [
    "from matplotlib import pyplot as plt\n",
    "#The historgram of the toy data\n",
    "plt.hist(np.array(mix),bins=np.array([10*i for i in range(41)]))\n",
    "plt.xlabel(\"range of data\")\n",
    "plt.ylabel(\"occurrance\")"
   ]
  },
  {
   "cell_type": "markdown",
   "metadata": {},
   "source": [
    "First, Gaussian copula"
   ]
  },
  {
   "cell_type": "code",
   "execution_count": 16,
   "metadata": {},
   "outputs": [
    {
     "data": {
      "text/plain": [
       "[[0.203, 0.3905, 0.3035, 0.103],\n",
       " [0.2, 0.3845, 0.304, 0.1115],\n",
       " [0.197, 0.387, 0.3145, 0.1015],\n",
       " [0.2125, 0.369, 0.315, 0.1035],\n",
       " [0.2085, 0.381, 0.3115, 0.099],\n",
       " [0.1975, 0.377, 0.322, 0.1035],\n",
       " [0.227, 0.391, 0.2835, 0.0985],\n",
       " [0.206, 0.3835, 0.31, 0.1005],\n",
       " [0.185, 0.386, 0.331, 0.098],\n",
       " [0.191, 0.383, 0.3255, 0.1005],\n",
       " [0.21, 0.386, 0.317, 0.087],\n",
       " [0.1995, 0.3935, 0.304, 0.103],\n",
       " [0.198, 0.388, 0.3085, 0.1055],\n",
       " [0.1945, 0.3785, 0.3275, 0.0995],\n",
       " [0.2, 0.389, 0.3105, 0.1005],\n",
       " [0.1875, 0.3915, 0.3215, 0.0995],\n",
       " [0.203, 0.3845, 0.3195, 0.093],\n",
       " [0.211, 0.375, 0.309, 0.105],\n",
       " [0.194, 0.387, 0.3175, 0.1015],\n",
       " [0.1925, 0.383, 0.3145, 0.11],\n",
       " [0.212, 0.3775, 0.31, 0.1005],\n",
       " [0.19, 0.3935, 0.3085, 0.108],\n",
       " [0.207, 0.386, 0.305, 0.102],\n",
       " [0.215, 0.369, 0.31, 0.106],\n",
       " [0.192, 0.3915, 0.3115, 0.105],\n",
       " [0.218, 0.362, 0.3155, 0.1045],\n",
       " [0.211, 0.3865, 0.304, 0.0985],\n",
       " [0.2065, 0.374, 0.3145, 0.105],\n",
       " [0.1965, 0.386, 0.3195, 0.098],\n",
       " [0.197, 0.389, 0.315, 0.099],\n",
       " [0.21, 0.388, 0.3055, 0.0965],\n",
       " [0.2115, 0.3805, 0.3085, 0.0995],\n",
       " [0.2135, 0.3765, 0.3105, 0.0995],\n",
       " [0.205, 0.384, 0.3005, 0.1105],\n",
       " [0.206, 0.379, 0.3135, 0.1015],\n",
       " [0.1965, 0.3895, 0.302, 0.112],\n",
       " [0.2135, 0.3785, 0.311, 0.097],\n",
       " [0.2105, 0.367, 0.326, 0.0965],\n",
       " [0.193, 0.383, 0.3145, 0.1095],\n",
       " [0.2015, 0.3915, 0.31, 0.097],\n",
       " [0.213, 0.382, 0.312, 0.093],\n",
       " [0.2045, 0.3775, 0.3185, 0.0995],\n",
       " [0.2055, 0.3935, 0.2995, 0.1015],\n",
       " [0.2125, 0.379, 0.3, 0.1085],\n",
       " [0.2115, 0.3865, 0.293, 0.109],\n",
       " [0.2085, 0.392, 0.2905, 0.109],\n",
       " [0.195, 0.386, 0.3035, 0.1155],\n",
       " [0.1935, 0.3845, 0.3175, 0.1045],\n",
       " [0.198, 0.387, 0.3115, 0.1035],\n",
       " [0.185, 0.405, 0.314, 0.096],\n",
       " [0.2075, 0.4025, 0.2925, 0.0975],\n",
       " [0.2125, 0.383, 0.3005, 0.104],\n",
       " [0.2105, 0.373, 0.309, 0.1075],\n",
       " [0.205, 0.374, 0.3165, 0.1045],\n",
       " [0.196, 0.389, 0.314, 0.101],\n",
       " [0.208, 0.3895, 0.302, 0.1005],\n",
       " [0.1985, 0.385, 0.3035, 0.113],\n",
       " [0.2085, 0.3875, 0.308, 0.096],\n",
       " [0.198, 0.374, 0.3225, 0.1055],\n",
       " [0.202, 0.39, 0.311, 0.097],\n",
       " [0.192, 0.397, 0.3125, 0.0985],\n",
       " [0.1945, 0.374, 0.334, 0.0975],\n",
       " [0.189, 0.372, 0.3265, 0.1125],\n",
       " [0.197, 0.3825, 0.3165, 0.104],\n",
       " [0.205, 0.3825, 0.3185, 0.094],\n",
       " [0.1995, 0.406, 0.305, 0.0895],\n",
       " [0.212, 0.374, 0.3105, 0.1035],\n",
       " [0.1995, 0.382, 0.306, 0.1125],\n",
       " [0.2165, 0.3855, 0.299, 0.099],\n",
       " [0.2115, 0.371, 0.3045, 0.113],\n",
       " [0.203, 0.3895, 0.304, 0.1035],\n",
       " [0.202, 0.373, 0.3175, 0.1075],\n",
       " [0.2025, 0.3905, 0.2995, 0.1075],\n",
       " [0.2055, 0.372, 0.3235, 0.099],\n",
       " [0.202, 0.3675, 0.32, 0.1105],\n",
       " [0.1995, 0.379, 0.3255, 0.096],\n",
       " [0.2, 0.3835, 0.316, 0.1005],\n",
       " [0.2005, 0.375, 0.3195, 0.105],\n",
       " [0.206, 0.3855, 0.3135, 0.095],\n",
       " [0.211, 0.361, 0.3185, 0.1095],\n",
       " [0.215, 0.3685, 0.306, 0.1105],\n",
       " [0.1785, 0.3945, 0.308, 0.119],\n",
       " [0.2215, 0.378, 0.2985, 0.102],\n",
       " [0.189, 0.3845, 0.332, 0.0945],\n",
       " [0.189, 0.3835, 0.3215, 0.106],\n",
       " [0.204, 0.388, 0.327, 0.081],\n",
       " [0.2015, 0.3975, 0.296, 0.105],\n",
       " [0.192, 0.394, 0.2915, 0.1225],\n",
       " [0.201, 0.393, 0.3045, 0.1015],\n",
       " [0.192, 0.4035, 0.301, 0.1035],\n",
       " [0.197, 0.4, 0.3035, 0.0995],\n",
       " [0.2025, 0.394, 0.3055, 0.098],\n",
       " [0.2165, 0.37, 0.3085, 0.105],\n",
       " [0.2065, 0.386, 0.302, 0.1055],\n",
       " [0.199, 0.3735, 0.319, 0.1085],\n",
       " [0.1965, 0.404, 0.296, 0.1035],\n",
       " [0.2005, 0.3885, 0.3045, 0.1065],\n",
       " [0.2095, 0.3685, 0.3255, 0.0965],\n",
       " [0.2005, 0.394, 0.3055, 0.1],\n",
       " [0.199, 0.384, 0.2995, 0.1175],\n",
       " [0.222, 0.371, 0.304, 0.103],\n",
       " [0.2125, 0.3765, 0.3155, 0.0955],\n",
       " [0.2095, 0.398, 0.2975, 0.095],\n",
       " [0.2125, 0.376, 0.3075, 0.104],\n",
       " [0.1915, 0.379, 0.3175, 0.112],\n",
       " [0.196, 0.366, 0.337, 0.101],\n",
       " [0.1795, 0.3835, 0.328, 0.109],\n",
       " [0.2105, 0.379, 0.3005, 0.11],\n",
       " [0.2005, 0.3885, 0.2995, 0.1115],\n",
       " [0.205, 0.39, 0.313, 0.092],\n",
       " [0.2025, 0.4085, 0.291, 0.098],\n",
       " [0.2005, 0.3845, 0.3155, 0.0995],\n",
       " [0.2065, 0.391, 0.3105, 0.092],\n",
       " [0.1985, 0.392, 0.312, 0.0975],\n",
       " [0.201, 0.3945, 0.309, 0.0955],\n",
       " [0.214, 0.368, 0.3115, 0.1065],\n",
       " [0.202, 0.3935, 0.301, 0.1035],\n",
       " [0.1835, 0.391, 0.313, 0.1125],\n",
       " [0.2055, 0.397, 0.2985, 0.099],\n",
       " [0.205, 0.3865, 0.317, 0.0915],\n",
       " [0.202, 0.3565, 0.328, 0.1135],\n",
       " [0.2115, 0.371, 0.3185, 0.099],\n",
       " [0.1875, 0.3845, 0.3235, 0.1045],\n",
       " [0.2075, 0.3905, 0.3045, 0.0975],\n",
       " [0.1945, 0.367, 0.3285, 0.11],\n",
       " [0.206, 0.388, 0.294, 0.112],\n",
       " [0.1995, 0.387, 0.314, 0.0995],\n",
       " [0.201, 0.3905, 0.304, 0.1045],\n",
       " [0.2095, 0.3855, 0.3155, 0.0895],\n",
       " [0.22, 0.387, 0.3, 0.093],\n",
       " [0.214, 0.3795, 0.2985, 0.108],\n",
       " [0.205, 0.3755, 0.311, 0.1085],\n",
       " [0.1955, 0.3905, 0.311, 0.103],\n",
       " [0.207, 0.3855, 0.295, 0.1125],\n",
       " [0.1995, 0.3735, 0.327, 0.1],\n",
       " [0.2065, 0.3915, 0.302, 0.1],\n",
       " [0.2075, 0.3745, 0.311, 0.107],\n",
       " [0.197, 0.381, 0.321, 0.101],\n",
       " [0.2125, 0.3785, 0.303, 0.106],\n",
       " [0.194, 0.376, 0.3185, 0.1115],\n",
       " [0.1965, 0.376, 0.3215, 0.106],\n",
       " [0.1925, 0.3945, 0.3095, 0.1035],\n",
       " [0.2175, 0.371, 0.3095, 0.102],\n",
       " [0.2015, 0.373, 0.323, 0.1025],\n",
       " [0.1945, 0.396, 0.323, 0.0865],\n",
       " [0.1995, 0.403, 0.308, 0.0895],\n",
       " [0.1995, 0.393, 0.295, 0.1125],\n",
       " [0.1965, 0.3905, 0.315, 0.098],\n",
       " [0.206, 0.3745, 0.3135, 0.106],\n",
       " [0.2075, 0.382, 0.3045, 0.106],\n",
       " [0.2015, 0.3955, 0.304, 0.099],\n",
       " [0.206, 0.3725, 0.316, 0.1055],\n",
       " [0.1885, 0.394, 0.324, 0.0935],\n",
       " [0.2125, 0.3665, 0.315, 0.106],\n",
       " [0.201, 0.386, 0.32, 0.093],\n",
       " [0.1975, 0.3895, 0.31, 0.103],\n",
       " [0.204, 0.387, 0.3055, 0.1035],\n",
       " [0.209, 0.3945, 0.2925, 0.104],\n",
       " [0.206, 0.364, 0.319, 0.111],\n",
       " [0.2035, 0.385, 0.299, 0.1125],\n",
       " [0.206, 0.3875, 0.3065, 0.1],\n",
       " [0.218, 0.3845, 0.297, 0.1005],\n",
       " [0.21, 0.394, 0.292, 0.104],\n",
       " [0.209, 0.369, 0.3215, 0.1005],\n",
       " [0.193, 0.395, 0.304, 0.108],\n",
       " [0.196, 0.3875, 0.329, 0.0875],\n",
       " [0.203, 0.391, 0.3, 0.106],\n",
       " [0.2095, 0.368, 0.3305, 0.092],\n",
       " [0.2115, 0.3535, 0.325, 0.11],\n",
       " [0.2005, 0.376, 0.3155, 0.108],\n",
       " [0.2025, 0.3825, 0.3205, 0.0945],\n",
       " [0.1985, 0.393, 0.3025, 0.106],\n",
       " [0.1935, 0.384, 0.316, 0.1065],\n",
       " [0.1925, 0.3895, 0.317, 0.101],\n",
       " [0.197, 0.3965, 0.3015, 0.105],\n",
       " [0.226, 0.3695, 0.3055, 0.099],\n",
       " [0.2065, 0.3855, 0.3005, 0.1075],\n",
       " [0.1905, 0.399, 0.2995, 0.111],\n",
       " [0.204, 0.383, 0.306, 0.107],\n",
       " [0.199, 0.362, 0.3335, 0.1055],\n",
       " [0.1945, 0.392, 0.3065, 0.107],\n",
       " [0.193, 0.391, 0.312, 0.104],\n",
       " [0.2045, 0.3705, 0.3135, 0.1115],\n",
       " [0.212, 0.3755, 0.306, 0.1065],\n",
       " [0.192, 0.3975, 0.3125, 0.098],\n",
       " [0.206, 0.393, 0.2945, 0.1065],\n",
       " [0.1995, 0.386, 0.306, 0.1085],\n",
       " [0.193, 0.384, 0.31, 0.113],\n",
       " [0.2025, 0.3955, 0.301, 0.101],\n",
       " [0.2125, 0.3735, 0.3065, 0.1075],\n",
       " [0.204, 0.368, 0.3155, 0.1125],\n",
       " [0.211, 0.3835, 0.2985, 0.107],\n",
       " [0.2025, 0.3925, 0.316, 0.089],\n",
       " [0.2155, 0.3895, 0.2865, 0.1085],\n",
       " [0.217, 0.3865, 0.29, 0.1065],\n",
       " [0.1985, 0.3865, 0.312, 0.103],\n",
       " [0.206, 0.391, 0.3015, 0.1015],\n",
       " [0.1995, 0.3945, 0.3, 0.106],\n",
       " [0.203, 0.38, 0.3105, 0.1065],\n",
       " [0.1975, 0.3955, 0.307, 0.1]]"
      ]
     },
     "execution_count": 16,
     "metadata": {},
     "output_type": "execute_result"
    }
   ],
   "source": [
    "final_ans=[]\n",
    "for _ in range (200):\n",
    "    toy_ans = list()\n",
    "    model = GaussianCopula()\n",
    "    model.fit(df)\n",
    "    synth = model.sample(num_rows = 2000)\n",
    "    for i in range(4):\n",
    "        num=len(synth[\"s\"][synth[\"s\"]<(i+1)*100][synth[\"s\"]>=i*100])\n",
    "        # Try to see the ration of each region\n",
    "        toy_ans.append(num/2000)\n",
    "    final_ans.append(toy_ans)\n",
    "final_ans"
   ]
  },
  {
   "cell_type": "code",
   "execution_count": 17,
   "metadata": {},
   "outputs": [
    {
     "data": {
      "text/plain": [
       "(array([ 0.,  0.,  0.,  0.,  0.,  0.,  0.,  0.,  0.,  0.,  1.,  0.,  0.,\n",
       "         3.,  4.,  1.,  8.,  7., 13., 25., 24., 20., 23., 26., 14., 13.,\n",
       "        14.,  1.,  1.,  1.,  0.,  1.,  0.,  0.,  0.,  0.,  0.,  0.,  0.]),\n",
       " array([0.06 , 0.062, 0.064, 0.066, 0.068, 0.07 , 0.072, 0.074, 0.076,\n",
       "        0.078, 0.08 , 0.082, 0.084, 0.086, 0.088, 0.09 , 0.092, 0.094,\n",
       "        0.096, 0.098, 0.1  , 0.102, 0.104, 0.106, 0.108, 0.11 , 0.112,\n",
       "        0.114, 0.116, 0.118, 0.12 , 0.122, 0.124, 0.126, 0.128, 0.13 ,\n",
       "        0.132, 0.134, 0.136, 0.138]),\n",
       " <BarContainer object of 39 artists>)"
      ]
     },
     "execution_count": 17,
     "metadata": {},
     "output_type": "execute_result"
    },
    {
     "data": {
      "image/png": "[encoded data removed]",
      "text/plain": [
       "<Figure size 432x288 with 1 Axes>"
      ]
     },
     "metadata": {
      "needs_background": "light"
     },
     "output_type": "display_data"
    }
   ],
   "source": [
    "arr=np.array(final_ans)\n",
    "trans_arr=np.transpose(arr)\n",
    "plt.hist(trans_arr[3],bins=np.array([i/500 for i in range (30,70)]))"
   ]
  },
  {
   "cell_type": "code",
   "execution_count": 18,
   "metadata": {},
   "outputs": [
    {
     "data": {
      "text/plain": [
       "(array([ 0.,  0.,  0.,  0.,  0.,  0.,  0.,  0.,  0.,  0.,  0.,  1.,  0.,\n",
       "         1.,  0.,  4.,  4.,  4.,  4., 11., 13., 10., 20., 10., 12., 20.,\n",
       "        12., 17., 13., 10.,  8.,  6.,  5.,  5.,  4.,  2.,  2.,  1.,  1.]),\n",
       " array([0.26 , 0.262, 0.264, 0.266, 0.268, 0.27 , 0.272, 0.274, 0.276,\n",
       "        0.278, 0.28 , 0.282, 0.284, 0.286, 0.288, 0.29 , 0.292, 0.294,\n",
       "        0.296, 0.298, 0.3  , 0.302, 0.304, 0.306, 0.308, 0.31 , 0.312,\n",
       "        0.314, 0.316, 0.318, 0.32 , 0.322, 0.324, 0.326, 0.328, 0.33 ,\n",
       "        0.332, 0.334, 0.336, 0.338]),\n",
       " <BarContainer object of 39 artists>)"
      ]
     },
     "execution_count": 18,
     "metadata": {},
     "output_type": "execute_result"
    },
    {
     "data": {
      "image/png": "[encoded data removed]",
      "text/plain": [
       "<Figure size 432x288 with 1 Axes>"
      ]
     },
     "metadata": {
      "needs_background": "light"
     },
     "output_type": "display_data"
    }
   ],
   "source": [
    "plt.hist(trans_arr[2],bins=np.array([i/500 for i in range (130,170)]))"
   ]
  },
  {
   "cell_type": "code",
   "execution_count": 19,
   "metadata": {},
   "outputs": [
    {
     "data": {
      "text/plain": [
       "(array([ 1.,  2.,  1.,  5.,  9.,  6.,  9., 11.,  9., 10.,  4., 16., 18.,\n",
       "        22., 15., 18., 12., 14.,  6.,  2.,  1.,  3.,  2.,  1.,  1.,  0.,\n",
       "         0.,  0.,  0.,  0.,  0.,  0.,  0.,  0.,  0.,  0.,  0.,  0.,  0.]),\n",
       " array([0.36 , 0.362, 0.364, 0.366, 0.368, 0.37 , 0.372, 0.374, 0.376,\n",
       "        0.378, 0.38 , 0.382, 0.384, 0.386, 0.388, 0.39 , 0.392, 0.394,\n",
       "        0.396, 0.398, 0.4  , 0.402, 0.404, 0.406, 0.408, 0.41 , 0.412,\n",
       "        0.414, 0.416, 0.418, 0.42 , 0.422, 0.424, 0.426, 0.428, 0.43 ,\n",
       "        0.432, 0.434, 0.436, 0.438]),\n",
       " <BarContainer object of 39 artists>)"
      ]
     },
     "execution_count": 19,
     "metadata": {},
     "output_type": "execute_result"
    },
    {
     "data": {
      "image/png": "[encoded data removed]",
      "text/plain": [
       "<Figure size 432x288 with 1 Axes>"
      ]
     },
     "metadata": {
      "needs_background": "light"
     },
     "output_type": "display_data"
    }
   ],
   "source": [
    "plt.hist(trans_arr[1],bins=np.array([i/500 for i in range (180,220)]))"
   ]
  },
  {
   "cell_type": "code",
   "execution_count": 20,
   "metadata": {},
   "outputs": [
    {
     "data": {
      "text/plain": [
       "(array([ 0.,  0.,  0.,  0.,  0.,  0.,  0.,  0.,  0.,  2.,  0.,  1.,  2.,\n",
       "         2.,  4.,  4., 14.,  9., 17., 20., 17., 17., 15., 21., 10., 15.,\n",
       "        14.,  5.,  4.,  2.,  2.,  1.,  0.,  2.,  0.,  0.,  0.,  0.,  0.]),\n",
       " array([0.16 , 0.162, 0.164, 0.166, 0.168, 0.17 , 0.172, 0.174, 0.176,\n",
       "        0.178, 0.18 , 0.182, 0.184, 0.186, 0.188, 0.19 , 0.192, 0.194,\n",
       "        0.196, 0.198, 0.2  , 0.202, 0.204, 0.206, 0.208, 0.21 , 0.212,\n",
       "        0.214, 0.216, 0.218, 0.22 , 0.222, 0.224, 0.226, 0.228, 0.23 ,\n",
       "        0.232, 0.234, 0.236, 0.238]),\n",
       " <BarContainer object of 39 artists>)"
      ]
     },
     "execution_count": 20,
     "metadata": {},
     "output_type": "execute_result"
    },
    {
     "data": {
      "image/png": "[encoded data removed]",
      "text/plain": [
       "<Figure size 432x288 with 1 Axes>"
      ]
     },
     "metadata": {
      "needs_background": "light"
     },
     "output_type": "display_data"
    }
   ],
   "source": [
    "plt.hist(trans_arr[0],bins=np.array([i/500 for i in range (80,120)]))"
   ]
  },
  {
   "cell_type": "markdown",
   "metadata": {},
   "source": [
    "Then, CopulaGAN"
   ]
  },
  {
   "cell_type": "code",
   "execution_count": 21,
   "metadata": {},
   "outputs": [
    {
     "data": {
      "text/plain": [
       "[[0.121, 0.2825, 0.3985, 0.198],\n",
       " [0.1025, 0.2585, 0.4335, 0.2055],\n",
       " [0.234, 0.475, 0.2045, 0.0865],\n",
       " [0.231, 0.512, 0.1565, 0.1005],\n",
       " [0.0775, 0.2305, 0.503, 0.189],\n",
       " [0.1625, 0.47, 0.2645, 0.103],\n",
       " [0.084, 0.277, 0.4665, 0.1725],\n",
       " [0.3725, 0.356, 0.186, 0.0855],\n",
       " [0.12, 0.3555, 0.411, 0.1135],\n",
       " [0.1, 0.4605, 0.3065, 0.133],\n",
       " [0.2, 0.534, 0.182, 0.084],\n",
       " [0.1395, 0.507, 0.277, 0.0765],\n",
       " [0.1195, 0.2005, 0.5265, 0.1535],\n",
       " [0.1185, 0.4155, 0.374, 0.092],\n",
       " [0.101, 0.229, 0.4985, 0.1715],\n",
       " [0.0925, 0.2345, 0.491, 0.182],\n",
       " [0.337, 0.4125, 0.1835, 0.067],\n",
       " [0.3305, 0.493, 0.1225, 0.054],\n",
       " [0.1225, 0.3725, 0.35, 0.155],\n",
       " [0.126, 0.2455, 0.485, 0.1435]]"
      ]
     },
     "execution_count": 21,
     "metadata": {},
     "output_type": "execute_result"
    }
   ],
   "source": [
    "final_ans=[]\n",
    "for _ in range (20):\n",
    "    toy_ans = list()\n",
    "    model = CopulaGAN()\n",
    "    model.fit(df)\n",
    "    synth = model.sample(num_rows = 2000)\n",
    "    for i in range(4):\n",
    "        num=len(synth[\"s\"][synth[\"s\"]<(i+1)*100][synth[\"s\"]>=i*100])\n",
    "        # Try to see the ratio of each region\n",
    "        toy_ans.append(num/2000)\n",
    "    final_ans.append(toy_ans)\n",
    "final_ans"
   ]
  },
  {
   "cell_type": "code",
   "execution_count": 22,
   "metadata": {},
   "outputs": [
    {
     "data": {
      "text/plain": [
       "(array([0., 0., 0., 1., 0., 0., 0., 0., 1., 0., 0., 0., 2., 1., 0., 0., 1.,\n",
       "        0., 0., 0., 1., 1., 0., 0., 0., 0., 1., 0., 0., 0., 0., 0., 0., 0.,\n",
       "        0., 0., 1., 0., 0.]),\n",
       " array([0.06 , 0.062, 0.064, 0.066, 0.068, 0.07 , 0.072, 0.074, 0.076,\n",
       "        0.078, 0.08 , 0.082, 0.084, 0.086, 0.088, 0.09 , 0.092, 0.094,\n",
       "        0.096, 0.098, 0.1  , 0.102, 0.104, 0.106, 0.108, 0.11 , 0.112,\n",
       "        0.114, 0.116, 0.118, 0.12 , 0.122, 0.124, 0.126, 0.128, 0.13 ,\n",
       "        0.132, 0.134, 0.136, 0.138]),\n",
       " <BarContainer object of 39 artists>)"
      ]
     },
     "execution_count": 22,
     "metadata": {},
     "output_type": "execute_result"
    },
    {
     "data": {
      "image/png": "[encoded data removed]",
      "text/plain": [
       "<Figure size 432x288 with 1 Axes>"
      ]
     },
     "metadata": {
      "needs_background": "light"
     },
     "output_type": "display_data"
    }
   ],
   "source": [
    "arr=np.array(final_ans)\n",
    "trans_arr=np.transpose(arr)\n",
    "plt.hist(trans_arr[3],bins=np.array([i/500 for i in range (30,70)]))"
   ]
  },
  {
   "cell_type": "code",
   "execution_count": 23,
   "metadata": {},
   "outputs": [
    {
     "data": {
      "text/plain": [
       "(array([0., 0., 1., 0., 0., 0., 0., 0., 1., 0., 0., 0., 0., 0., 0., 0., 0.,\n",
       "        0., 0., 0., 0., 0., 0., 1., 0., 0., 0., 0., 0., 0., 0., 0., 0., 0.,\n",
       "        0., 0., 0., 0., 0.]),\n",
       " array([0.26 , 0.262, 0.264, 0.266, 0.268, 0.27 , 0.272, 0.274, 0.276,\n",
       "        0.278, 0.28 , 0.282, 0.284, 0.286, 0.288, 0.29 , 0.292, 0.294,\n",
       "        0.296, 0.298, 0.3  , 0.302, 0.304, 0.306, 0.308, 0.31 , 0.312,\n",
       "        0.314, 0.316, 0.318, 0.32 , 0.322, 0.324, 0.326, 0.328, 0.33 ,\n",
       "        0.332, 0.334, 0.336, 0.338]),\n",
       " <BarContainer object of 39 artists>)"
      ]
     },
     "execution_count": 23,
     "metadata": {},
     "output_type": "execute_result"
    },
    {
     "data": {
      "image/png": "[encoded data removed]",
      "text/plain": [
       "<Figure size 432x288 with 1 Axes>"
      ]
     },
     "metadata": {
      "needs_background": "light"
     },
     "output_type": "display_data"
    }
   ],
   "source": [
    "plt.hist(trans_arr[2],bins=np.array([i/500 for i in range (130,170)]))"
   ]
  },
  {
   "cell_type": "code",
   "execution_count": 24,
   "metadata": {},
   "outputs": [
    {
     "data": {
      "text/plain": [
       "(array([0., 0., 0., 0., 0., 0., 1., 0., 0., 0., 0., 0., 0., 0., 0., 0., 0.,\n",
       "        0., 0., 0., 0., 0., 0., 0., 0., 0., 1., 1., 0., 0., 0., 0., 0., 0.,\n",
       "        0., 0., 0., 0., 0.]),\n",
       " array([0.36 , 0.362, 0.364, 0.366, 0.368, 0.37 , 0.372, 0.374, 0.376,\n",
       "        0.378, 0.38 , 0.382, 0.384, 0.386, 0.388, 0.39 , 0.392, 0.394,\n",
       "        0.396, 0.398, 0.4  , 0.402, 0.404, 0.406, 0.408, 0.41 , 0.412,\n",
       "        0.414, 0.416, 0.418, 0.42 , 0.422, 0.424, 0.426, 0.428, 0.43 ,\n",
       "        0.432, 0.434, 0.436, 0.438]),\n",
       " <BarContainer object of 39 artists>)"
      ]
     },
     "execution_count": 24,
     "metadata": {},
     "output_type": "execute_result"
    },
    {
     "data": {
      "image/png": "[encoded data removed]",
      "text/plain": [
       "<Figure size 432x288 with 1 Axes>"
      ]
     },
     "metadata": {
      "needs_background": "light"
     },
     "output_type": "display_data"
    }
   ],
   "source": [
    "plt.hist(trans_arr[1],bins=np.array([i/500 for i in range (180,220)]))"
   ]
  },
  {
   "cell_type": "code",
   "execution_count": 25,
   "metadata": {},
   "outputs": [
    {
     "data": {
      "text/plain": [
       "(array([0., 1., 0., 0., 0., 0., 0., 0., 0., 0., 0., 0., 0., 0., 0., 0., 0.,\n",
       "        0., 0., 0., 1., 0., 0., 0., 0., 0., 0., 0., 0., 0., 0., 0., 0., 0.,\n",
       "        0., 1., 0., 1., 0.]),\n",
       " array([0.16 , 0.162, 0.164, 0.166, 0.168, 0.17 , 0.172, 0.174, 0.176,\n",
       "        0.178, 0.18 , 0.182, 0.184, 0.186, 0.188, 0.19 , 0.192, 0.194,\n",
       "        0.196, 0.198, 0.2  , 0.202, 0.204, 0.206, 0.208, 0.21 , 0.212,\n",
       "        0.214, 0.216, 0.218, 0.22 , 0.222, 0.224, 0.226, 0.228, 0.23 ,\n",
       "        0.232, 0.234, 0.236, 0.238]),\n",
       " <BarContainer object of 39 artists>)"
      ]
     },
     "execution_count": 25,
     "metadata": {},
     "output_type": "execute_result"
    },
    {
     "data": {
      "image/png": "[encoded data removed]",
      "text/plain": [
       "<Figure size 432x288 with 1 Axes>"
      ]
     },
     "metadata": {
      "needs_background": "light"
     },
     "output_type": "display_data"
    }
   ],
   "source": [
    "plt.hist(trans_arr[0],bins=np.array([i/500 for i in range (80,120)]))"
   ]
  },
  {
   "cell_type": "markdown",
   "metadata": {},
   "source": [
    "Finally, CTGAN"
   ]
  },
  {
   "cell_type": "code",
   "execution_count": 31,
   "metadata": {},
   "outputs": [
    {
     "data": {
      "text/plain": [
       "[[0.161, 0.4615, 0.301, 0.0765],\n",
       " [0.2865, 0.4775, 0.1625, 0.0735],\n",
       " [0.104, 0.2655, 0.4405, 0.19],\n",
       " [0.187, 0.545, 0.177, 0.091],\n",
       " [0.0835, 0.3465, 0.4775, 0.0925],\n",
       " [0.183, 0.5005, 0.2415, 0.075],\n",
       " [0.104, 0.2815, 0.501, 0.1135],\n",
       " [0.304, 0.371, 0.23, 0.095],\n",
       " [0.094, 0.237, 0.504, 0.165],\n",
       " [0.242, 0.3955, 0.2295, 0.133],\n",
       " [0.342, 0.395, 0.1885, 0.0745],\n",
       " [0.095, 0.2195, 0.5125, 0.173],\n",
       " [0.2175, 0.506, 0.177, 0.0995],\n",
       " [0.3895, 0.3725, 0.1765, 0.0615],\n",
       " [0.3045, 0.46, 0.154, 0.0815],\n",
       " [0.0985, 0.212, 0.464, 0.2255],\n",
       " [0.0905, 0.2085, 0.494, 0.207],\n",
       " [0.14, 0.496, 0.2305, 0.1335],\n",
       " [0.0965, 0.415, 0.3355, 0.153],\n",
       " [0.317, 0.476, 0.1295, 0.0775]]"
      ]
     },
     "execution_count": 31,
     "metadata": {},
     "output_type": "execute_result"
    }
   ],
   "source": [
    "final_ans=[]\n",
    "for _ in range (20):\n",
    "    toy_ans = list()\n",
    "    model = CTGAN()\n",
    "    model.fit(df)\n",
    "    synth = model.sample(num_rows = 2000)\n",
    "    for i in range(4):\n",
    "        num=len(synth[\"s\"][synth[\"s\"]<(i+1)*100][synth[\"s\"]>=i*100])\n",
    "        # Try to see the ration of each region\n",
    "        toy_ans.append(num/2000)\n",
    "    final_ans.append(toy_ans)\n",
    "final_ans"
   ]
  },
  {
   "cell_type": "code",
   "execution_count": 32,
   "metadata": {},
   "outputs": [
    {
     "data": {
      "text/plain": [
       "(array([1., 0., 0., 0., 0., 0., 1., 2., 2., 0., 1., 0., 0., 0., 0., 1., 1.,\n",
       "        1., 0., 1., 0., 0., 0., 0., 0., 0., 1., 0., 0., 0., 0., 0., 0., 0.,\n",
       "        0., 0., 2., 0., 0.]),\n",
       " array([0.06 , 0.062, 0.064, 0.066, 0.068, 0.07 , 0.072, 0.074, 0.076,\n",
       "        0.078, 0.08 , 0.082, 0.084, 0.086, 0.088, 0.09 , 0.092, 0.094,\n",
       "        0.096, 0.098, 0.1  , 0.102, 0.104, 0.106, 0.108, 0.11 , 0.112,\n",
       "        0.114, 0.116, 0.118, 0.12 , 0.122, 0.124, 0.126, 0.128, 0.13 ,\n",
       "        0.132, 0.134, 0.136, 0.138]),\n",
       " <BarContainer object of 39 artists>)"
      ]
     },
     "execution_count": 32,
     "metadata": {},
     "output_type": "execute_result"
    },
    {
     "data": {
      "image/png": "[encoded data removed]",
      "text/plain": [
       "<Figure size 432x288 with 1 Axes>"
      ]
     },
     "metadata": {
      "needs_background": "light"
     },
     "output_type": "display_data"
    }
   ],
   "source": [
    "arr=np.array(final_ans)\n",
    "trans_arr=np.transpose(arr)\n",
    "plt.hist(trans_arr[3],bins=np.array([i/500 for i in range (30,70)]))"
   ]
  },
  {
   "cell_type": "code",
   "execution_count": 33,
   "metadata": {},
   "outputs": [
    {
     "data": {
      "text/plain": [
       "(array([0., 0., 0., 0., 0., 0., 0., 0., 0., 0., 0., 0., 0., 0., 0., 0., 0.,\n",
       "        0., 0., 0., 1., 0., 0., 0., 0., 0., 0., 0., 0., 0., 0., 0., 0., 0.,\n",
       "        0., 0., 0., 1., 0.]),\n",
       " array([0.26 , 0.262, 0.264, 0.266, 0.268, 0.27 , 0.272, 0.274, 0.276,\n",
       "        0.278, 0.28 , 0.282, 0.284, 0.286, 0.288, 0.29 , 0.292, 0.294,\n",
       "        0.296, 0.298, 0.3  , 0.302, 0.304, 0.306, 0.308, 0.31 , 0.312,\n",
       "        0.314, 0.316, 0.318, 0.32 , 0.322, 0.324, 0.326, 0.328, 0.33 ,\n",
       "        0.332, 0.334, 0.336, 0.338]),\n",
       " <BarContainer object of 39 artists>)"
      ]
     },
     "execution_count": 33,
     "metadata": {},
     "output_type": "execute_result"
    },
    {
     "data": {
      "image/png": "[encoded data removed]",
      "text/plain": [
       "<Figure size 432x288 with 1 Axes>"
      ]
     },
     "metadata": {
      "needs_background": "light"
     },
     "output_type": "display_data"
    }
   ],
   "source": [
    "plt.hist(trans_arr[2],bins=np.array([i/500 for i in range (130,170)]))"
   ]
  },
  {
   "cell_type": "code",
   "execution_count": 34,
   "metadata": {},
   "outputs": [
    {
     "data": {
      "text/plain": [
       "(array([0., 0., 0., 0., 0., 1., 1., 0., 0., 0., 0., 0., 0., 0., 0., 0., 0.,\n",
       "        2., 0., 0., 0., 0., 0., 0., 0., 0., 0., 1., 0., 0., 0., 0., 0., 0.,\n",
       "        0., 0., 0., 0., 0.]),\n",
       " array([0.36 , 0.362, 0.364, 0.366, 0.368, 0.37 , 0.372, 0.374, 0.376,\n",
       "        0.378, 0.38 , 0.382, 0.384, 0.386, 0.388, 0.39 , 0.392, 0.394,\n",
       "        0.396, 0.398, 0.4  , 0.402, 0.404, 0.406, 0.408, 0.41 , 0.412,\n",
       "        0.414, 0.416, 0.418, 0.42 , 0.422, 0.424, 0.426, 0.428, 0.43 ,\n",
       "        0.432, 0.434, 0.436, 0.438]),\n",
       " <BarContainer object of 39 artists>)"
      ]
     },
     "execution_count": 34,
     "metadata": {},
     "output_type": "execute_result"
    },
    {
     "data": {
      "image/png": "[encoded data removed]",
      "text/plain": [
       "<Figure size 432x288 with 1 Axes>"
      ]
     },
     "metadata": {
      "needs_background": "light"
     },
     "output_type": "display_data"
    }
   ],
   "source": [
    "plt.hist(trans_arr[1],bins=np.array([i/500 for i in range (180,220)]))"
   ]
  },
  {
   "cell_type": "code",
   "execution_count": 35,
   "metadata": {},
   "outputs": [
    {
     "data": {
      "text/plain": [
       "(array([1., 0., 0., 0., 0., 0., 0., 0., 0., 0., 0., 1., 0., 1., 0., 0., 0.,\n",
       "        0., 0., 0., 0., 0., 0., 0., 0., 0., 0., 0., 1., 0., 0., 0., 0., 0.,\n",
       "        0., 0., 0., 0., 0.]),\n",
       " array([0.16 , 0.162, 0.164, 0.166, 0.168, 0.17 , 0.172, 0.174, 0.176,\n",
       "        0.178, 0.18 , 0.182, 0.184, 0.186, 0.188, 0.19 , 0.192, 0.194,\n",
       "        0.196, 0.198, 0.2  , 0.202, 0.204, 0.206, 0.208, 0.21 , 0.212,\n",
       "        0.214, 0.216, 0.218, 0.22 , 0.222, 0.224, 0.226, 0.228, 0.23 ,\n",
       "        0.232, 0.234, 0.236, 0.238]),\n",
       " <BarContainer object of 39 artists>)"
      ]
     },
     "execution_count": 35,
     "metadata": {},
     "output_type": "execute_result"
    },
    {
     "data": {
      "image/png": "[encoded data removed]",
      "text/plain": [
       "<Figure size 432x288 with 1 Axes>"
      ]
     },
     "metadata": {
      "needs_background": "light"
     },
     "output_type": "display_data"
    }
   ],
   "source": [
    "plt.hist(trans_arr[0],bins=np.array([i/500 for i in range (80,120)]))"
   ]
  }
 ],
 "metadata": {
  "@webio": {
   "lastCommId": null,
   "lastKernelId": null
  },
  "accelerator": "GPU",
  "colab": {
   "authorship_tag": "ABX9TyNQgnEaLkmsZ47jQY2/G1wt",
   "collapsed_sections": [
    "u8hyoSAOm6E2",
    "owfzjkszOE5n"
   ],
   "name": "Predicting employee attrition.ipynb",
   "provenance": [],
   "toc_visible": true
  },
  "kernelspec": {
   "display_name": "Python 3",
   "language": "python",
   "name": "python3"
  },
  "language_info": {
   "codemirror_mode": {
    "name": "ipython",
    "version": 3
   },
   "file_extension": ".py",
   "mimetype": "text/x-python",
   "name": "python",
   "nbconvert_exporter": "python",
   "pygments_lexer": "ipython3",
   "version": "3.6.13"
  },
  "widgets": {
   "application/vnd.jupyter.widget-state+json": {
    "0d7c00441e6445f9b71c68df63947725": {
     "model_module": "@jupyter-widgets/base",
     "model_name": "LayoutModel",
     "state": {
      "_model_module": "@jupyter-widgets/base",
      "_model_module_version": "1.2.0",
      "_model_name": "LayoutModel",
      "_view_count": null,
      "_view_module": "@jupyter-widgets/base",
      "_view_module_version": "1.2.0",
      "_view_name": "LayoutView",
      "align_content": null,
      "align_items": null,
      "align_self": null,
      "border": null,
      "bottom": null,
      "display": null,
      "flex": null,
      "flex_flow": null,
      "grid_area": null,
      "grid_auto_columns": null,
      "grid_auto_flow": null,
      "grid_auto_rows": null,
      "grid_column": null,
      "grid_gap": null,
      "grid_row": null,
      "grid_template_areas": null,
      "grid_template_columns": null,
      "grid_template_rows": null,
      "height": null,
      "justify_content": null,
      "justify_items": null,
      "left": null,
      "margin": null,
      "max_height": null,
      "max_width": null,
      "min_height": null,
      "min_width": null,
      "object_fit": null,
      "object_position": null,
      "order": null,
      "overflow": null,
      "overflow_x": null,
      "overflow_y": null,
      "padding": null,
      "right": null,
      "top": null,
      "visibility": null,
      "width": null
     }
    },
    "10ea5db4ef064f8fb0a0e9318f02c620": {
     "model_module": "@jupyter-widgets/controls",
     "model_name": "IntProgressModel",
     "state": {
      "_dom_classes": [],
      "_model_module": "@jupyter-widgets/controls",
      "_model_module_version": "1.5.0",
      "_model_name": "IntProgressModel",
      "_view_count": null,
      "_view_module": "@jupyter-widgets/controls",
      "_view_module_version": "1.5.0",
      "_view_name": "ProgressView",
      "bar_style": "",
      "description": "Processing: ",
      "description_tooltip": null,
      "layout": "IPY_MODEL_4c71ad5a9b1746ef8ca31917c37cff3b",
      "max": 4,
      "min": 0,
      "orientation": "horizontal",
      "style": "IPY_MODEL_33bc17f93fbd4428a8bfb9e271e3d0fa",
      "value": 4
     }
    },
    "25635fb9d9e74426a4ffe3f6deb0c9a2": {
     "model_module": "@jupyter-widgets/base",
     "model_name": "LayoutModel",
     "state": {
      "_model_module": "@jupyter-widgets/base",
      "_model_module_version": "1.2.0",
      "_model_name": "LayoutModel",
      "_view_count": null,
      "_view_module": "@jupyter-widgets/base",
      "_view_module_version": "1.2.0",
      "_view_name": "LayoutView",
      "align_content": null,
      "align_items": null,
      "align_self": null,
      "border": null,
      "bottom": null,
      "display": null,
      "flex": null,
      "flex_flow": null,
      "grid_area": null,
      "grid_auto_columns": null,
      "grid_auto_flow": null,
      "grid_auto_rows": null,
      "grid_column": null,
      "grid_gap": null,
      "grid_row": null,
      "grid_template_areas": null,
      "grid_template_columns": null,
      "grid_template_rows": null,
      "height": null,
      "justify_content": null,
      "justify_items": null,
      "left": null,
      "margin": null,
      "max_height": null,
      "max_width": null,
      "min_height": null,
      "min_width": null,
      "object_fit": null,
      "object_position": null,
      "order": null,
      "overflow": null,
      "overflow_x": null,
      "overflow_y": null,
      "padding": null,
      "right": null,
      "top": null,
      "visibility": null,
      "width": null
     }
    },
    "307a2747200e4a7189f15039c8d147ef": {
     "model_module": "@jupyter-widgets/controls",
     "model_name": "ProgressStyleModel",
     "state": {
      "_model_module": "@jupyter-widgets/controls",
      "_model_module_version": "1.5.0",
      "_model_name": "ProgressStyleModel",
      "_view_count": null,
      "_view_module": "@jupyter-widgets/base",
      "_view_module_version": "1.2.0",
      "_view_name": "StyleView",
      "bar_color": null,
      "description_width": ""
     }
    },
    "33bc17f93fbd4428a8bfb9e271e3d0fa": {
     "model_module": "@jupyter-widgets/controls",
     "model_name": "ProgressStyleModel",
     "state": {
      "_model_module": "@jupyter-widgets/controls",
      "_model_module_version": "1.5.0",
      "_model_name": "ProgressStyleModel",
      "_view_count": null,
      "_view_module": "@jupyter-widgets/base",
      "_view_module_version": "1.2.0",
      "_view_name": "StyleView",
      "bar_color": null,
      "description_width": ""
     }
    },
    "3a613cdc31f44ee9878ceab2f83b985a": {
     "model_module": "@jupyter-widgets/controls",
     "model_name": "ProgressStyleModel",
     "state": {
      "_model_module": "@jupyter-widgets/controls",
      "_model_module_version": "1.5.0",
      "_model_name": "ProgressStyleModel",
      "_view_count": null,
      "_view_module": "@jupyter-widgets/base",
      "_view_module_version": "1.2.0",
      "_view_name": "StyleView",
      "bar_color": null,
      "description_width": ""
     }
    },
    "463fc3b7b20d4d94bd58f498194140da": {
     "model_module": "@jupyter-widgets/controls",
     "model_name": "IntProgressModel",
     "state": {
      "_dom_classes": [],
      "_model_module": "@jupyter-widgets/controls",
      "_model_module_version": "1.5.0",
      "_model_name": "IntProgressModel",
      "_view_count": null,
      "_view_module": "@jupyter-widgets/controls",
      "_view_module_version": "1.5.0",
      "_view_name": "ProgressView",
      "bar_style": "",
      "description": "Processing: ",
      "description_tooltip": null,
      "layout": "IPY_MODEL_25635fb9d9e74426a4ffe3f6deb0c9a2",
      "max": 7,
      "min": 0,
      "orientation": "horizontal",
      "style": "IPY_MODEL_3a613cdc31f44ee9878ceab2f83b985a",
      "value": 7
     }
    },
    "4c71ad5a9b1746ef8ca31917c37cff3b": {
     "model_module": "@jupyter-widgets/base",
     "model_name": "LayoutModel",
     "state": {
      "_model_module": "@jupyter-widgets/base",
      "_model_module_version": "1.2.0",
      "_model_name": "LayoutModel",
      "_view_count": null,
      "_view_module": "@jupyter-widgets/base",
      "_view_module_version": "1.2.0",
      "_view_name": "LayoutView",
      "align_content": null,
      "align_items": null,
      "align_self": null,
      "border": null,
      "bottom": null,
      "display": null,
      "flex": null,
      "flex_flow": null,
      "grid_area": null,
      "grid_auto_columns": null,
      "grid_auto_flow": null,
      "grid_auto_rows": null,
      "grid_column": null,
      "grid_gap": null,
      "grid_row": null,
      "grid_template_areas": null,
      "grid_template_columns": null,
      "grid_template_rows": null,
      "height": null,
      "justify_content": null,
      "justify_items": null,
      "left": null,
      "margin": null,
      "max_height": null,
      "max_width": null,
      "min_height": null,
      "min_width": null,
      "object_fit": null,
      "object_position": null,
      "order": null,
      "overflow": null,
      "overflow_x": null,
      "overflow_y": null,
      "padding": null,
      "right": null,
      "top": null,
      "visibility": null,
      "width": null
     }
    },
    "4f81e8d444e2464cbe28a6b86ff871b5": {
     "model_module": "@jupyter-widgets/base",
     "model_name": "LayoutModel",
     "state": {
      "_model_module": "@jupyter-widgets/base",
      "_model_module_version": "1.2.0",
      "_model_name": "LayoutModel",
      "_view_count": null,
      "_view_module": "@jupyter-widgets/base",
      "_view_module_version": "1.2.0",
      "_view_name": "LayoutView",
      "align_content": null,
      "align_items": null,
      "align_self": null,
      "border": null,
      "bottom": null,
      "display": null,
      "flex": null,
      "flex_flow": null,
      "grid_area": null,
      "grid_auto_columns": null,
      "grid_auto_flow": null,
      "grid_auto_rows": null,
      "grid_column": null,
      "grid_gap": null,
      "grid_row": null,
      "grid_template_areas": null,
      "grid_template_columns": null,
      "grid_template_rows": null,
      "height": null,
      "justify_content": null,
      "justify_items": null,
      "left": null,
      "margin": null,
      "max_height": null,
      "max_width": null,
      "min_height": null,
      "min_width": null,
      "object_fit": null,
      "object_position": null,
      "order": null,
      "overflow": null,
      "overflow_x": null,
      "overflow_y": null,
      "padding": null,
      "right": null,
      "top": null,
      "visibility": null,
      "width": null
     }
    },
    "b549798269f8405aa59800806a5ea628": {
     "model_module": "@jupyter-widgets/controls",
     "model_name": "ProgressStyleModel",
     "state": {
      "_model_module": "@jupyter-widgets/controls",
      "_model_module_version": "1.5.0",
      "_model_name": "ProgressStyleModel",
      "_view_count": null,
      "_view_module": "@jupyter-widgets/base",
      "_view_module_version": "1.2.0",
      "_view_name": "StyleView",
      "bar_color": null,
      "description_width": ""
     }
    },
    "b6b46c63554f41e19483e5b31ec2280c": {
     "model_module": "@jupyter-widgets/controls",
     "model_name": "IntProgressModel",
     "state": {
      "_dom_classes": [],
      "_model_module": "@jupyter-widgets/controls",
      "_model_module_version": "1.5.0",
      "_model_name": "IntProgressModel",
      "_view_count": null,
      "_view_module": "@jupyter-widgets/controls",
      "_view_module_version": "1.5.0",
      "_view_name": "ProgressView",
      "bar_style": "",
      "description": "Processing: ",
      "description_tooltip": null,
      "layout": "IPY_MODEL_0d7c00441e6445f9b71c68df63947725",
      "max": 4,
      "min": 0,
      "orientation": "horizontal",
      "style": "IPY_MODEL_b549798269f8405aa59800806a5ea628",
      "value": 4
     }
    },
    "d01f30c83f114157b0c22e2cd2b9bb46": {
     "model_module": "@jupyter-widgets/controls",
     "model_name": "ProgressStyleModel",
     "state": {
      "_model_module": "@jupyter-widgets/controls",
      "_model_module_version": "1.5.0",
      "_model_name": "ProgressStyleModel",
      "_view_count": null,
      "_view_module": "@jupyter-widgets/base",
      "_view_module_version": "1.2.0",
      "_view_name": "StyleView",
      "bar_color": null,
      "description_width": ""
     }
    },
    "daef4644f9274987bc78d4ed7ef34560": {
     "model_module": "@jupyter-widgets/base",
     "model_name": "LayoutModel",
     "state": {
      "_model_module": "@jupyter-widgets/base",
      "_model_module_version": "1.2.0",
      "_model_name": "LayoutModel",
      "_view_count": null,
      "_view_module": "@jupyter-widgets/base",
      "_view_module_version": "1.2.0",
      "_view_name": "LayoutView",
      "align_content": null,
      "align_items": null,
      "align_self": null,
      "border": null,
      "bottom": null,
      "display": null,
      "flex": null,
      "flex_flow": null,
      "grid_area": null,
      "grid_auto_columns": null,
      "grid_auto_flow": null,
      "grid_auto_rows": null,
      "grid_column": null,
      "grid_gap": null,
      "grid_row": null,
      "grid_template_areas": null,
      "grid_template_columns": null,
      "grid_template_rows": null,
      "height": null,
      "justify_content": null,
      "justify_items": null,
      "left": null,
      "margin": null,
      "max_height": null,
      "max_width": null,
      "min_height": null,
      "min_width": null,
      "object_fit": null,
      "object_position": null,
      "order": null,
      "overflow": null,
      "overflow_x": null,
      "overflow_y": null,
      "padding": null,
      "right": null,
      "top": null,
      "visibility": null,
      "width": null
     }
    },
    "efd526e96603472aa5926403d7aaab51": {
     "model_module": "@jupyter-widgets/controls",
     "model_name": "IntProgressModel",
     "state": {
      "_dom_classes": [],
      "_model_module": "@jupyter-widgets/controls",
      "_model_module_version": "1.5.0",
      "_model_name": "IntProgressModel",
      "_view_count": null,
      "_view_module": "@jupyter-widgets/controls",
      "_view_module_version": "1.5.0",
      "_view_name": "ProgressView",
      "bar_style": "",
      "description": "Processing: ",
      "description_tooltip": null,
      "layout": "IPY_MODEL_daef4644f9274987bc78d4ed7ef34560",
      "max": 79,
      "min": 0,
      "orientation": "horizontal",
      "style": "IPY_MODEL_307a2747200e4a7189f15039c8d147ef",
      "value": 79
     }
    },
    "f22ffd90d3364169ba67e6eb5920b092": {
     "model_module": "@jupyter-widgets/controls",
     "model_name": "IntProgressModel",
     "state": {
      "_dom_classes": [],
      "_model_module": "@jupyter-widgets/controls",
      "_model_module_version": "1.5.0",
      "_model_name": "IntProgressModel",
      "_view_count": null,
      "_view_module": "@jupyter-widgets/controls",
      "_view_module_version": "1.5.0",
      "_view_name": "ProgressView",
      "bar_style": "",
      "description": "Processing: ",
      "description_tooltip": null,
      "layout": "IPY_MODEL_4f81e8d444e2464cbe28a6b86ff871b5",
      "max": 79,
      "min": 0,
      "orientation": "horizontal",
      "style": "IPY_MODEL_d01f30c83f114157b0c22e2cd2b9bb46",
      "value": 79
     }
    }
   }
  }
 },
 "nbformat": 4,
 "nbformat_minor": 1
}
