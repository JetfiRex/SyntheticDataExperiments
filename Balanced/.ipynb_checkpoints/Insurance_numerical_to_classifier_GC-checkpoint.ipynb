{
 "cells": [
  {
   "cell_type": "code",
   "execution_count": 1,
   "metadata": {
    "id": "OSGVItv66HaH"
   },
   "outputs": [
    {
     "name": "stderr",
     "output_type": "stream",
     "text": [
      "UsageError: Line magic function `%%capture` not found.\n"
     ]
    }
   ],
   "source": [
    "# Colab was used for this notebook hence the library installs\n",
    "%%capture\n",
    "!pip install pycaret --quiet --upgrade\n",
    "!pip install dabl --quiet --upgrade\n",
    "!pip install shap --quiet --upgrade\n",
    "!pip install sdv  --quiet --upgrade\n",
    "!pip install sdv[ctgan] --quiet --upgrade\n",
    "!pip install baytune --quiet --upgrade\n",
    "!pip install optuna --quiet --upgrade"
   ]
  },
  {
   "cell_type": "markdown",
   "metadata": {
    "id": "u8hyoSAOm6E2"
   },
   "source": [
    "## **Why this was done**\n",
    "1. Learn about synthetic data generation and see if it can improve a model\n",
    "2. Work with PyCaret on a classification problem\n",
    "3. Work on an insurance related problem (although ficticious data)\n",
    "4. Build a `streamlit` app\n",
    "\n",
    "## **The data**\n",
    "HR data isn't easy to find given the nature of the data. However IBM has created [fictious data](https://www.kaggle.com/pavansubhasht/ibm-hr-analytics-attrition-dataset) around whether an employee left after 6 months which can be used. The features for each employee are...\n",
    "\n",
    "* ` age `\n",
    "* ` bmi `\n",
    "* ` children `\n",
    "* ` sex `\n",
    "* ` smoker `\n",
    "* ` region `\n"
   ]
  },
  {
   "cell_type": "markdown",
   "metadata": {
    "id": "7Ggwgt9hhApQ"
   },
   "source": [
    "# **Libraries**"
   ]
  },
  {
   "cell_type": "code",
   "execution_count": 1,
   "metadata": {
    "id": "II3ngOKeuRyZ"
   },
   "outputs": [],
   "source": [
    "from pycaret.classification import * \n",
    "#from pycaret.regression import * # Preprocessing, modelling, interpretation, deployment...\n",
    "from sklearn.impute import SimpleImputer\n",
    "import pandas as pd # Basic data manipulation\n",
    "#import dabl as db # Summary plot\n",
    "from sklearn.model_selection import train_test_split # Data split\n",
    "from sdv.tabular import CopulaGAN, GaussianCopula, CTGAN # Synthetic data\n",
    "from sdv.evaluation import evaluate # Evaluate synthetic data\n",
    "#from btb.tuning import Tunable, GCPTuner # CopulaGAN optimising\n",
    "#from btb.tuning import hyperparams as hp  # Set hyperparameters for optimising\n",
    "import joblib # Saving preparation steps\n",
    "import sdv.constraints as cons # Evaluate synthetic data"
   ]
  },
  {
   "cell_type": "markdown",
   "metadata": {
    "id": "NVPzBL7w6Npu"
   },
   "source": [
    "# **Importing data**"
   ]
  },
  {
   "cell_type": "code",
   "execution_count": 2,
   "metadata": {
    "colab": {
     "base_uri": "https://localhost:8080/",
     "height": 313
    },
    "id": "5BbUIpQYu6mw",
    "outputId": "51226c2d-04bf-43ef-cc03-04fc8f371433"
   },
   "outputs": [
    {
     "data": {
      "text/html": [
       "<div>\n",
       "<style scoped>\n",
       "    .dataframe tbody tr th:only-of-type {\n",
       "        vertical-align: middle;\n",
       "    }\n",
       "\n",
       "    .dataframe tbody tr th {\n",
       "        vertical-align: top;\n",
       "    }\n",
       "\n",
       "    .dataframe thead th {\n",
       "        text-align: right;\n",
       "    }\n",
       "</style>\n",
       "<table border=\"1\" class=\"dataframe\">\n",
       "  <thead>\n",
       "    <tr style=\"text-align: right;\">\n",
       "      <th></th>\n",
       "      <th>Unnamed: 0</th>\n",
       "      <th>age</th>\n",
       "      <th>sex</th>\n",
       "      <th>bmi</th>\n",
       "      <th>children</th>\n",
       "      <th>smoker</th>\n",
       "      <th>region</th>\n",
       "      <th>charges</th>\n",
       "    </tr>\n",
       "  </thead>\n",
       "  <tbody>\n",
       "    <tr>\n",
       "      <th>0</th>\n",
       "      <td>25</td>\n",
       "      <td>59</td>\n",
       "      <td>female</td>\n",
       "      <td>27.72</td>\n",
       "      <td>3</td>\n",
       "      <td>no</td>\n",
       "      <td>southeast</td>\n",
       "      <td>2</td>\n",
       "    </tr>\n",
       "    <tr>\n",
       "      <th>1</th>\n",
       "      <td>336</td>\n",
       "      <td>60</td>\n",
       "      <td>male</td>\n",
       "      <td>25.74</td>\n",
       "      <td>0</td>\n",
       "      <td>no</td>\n",
       "      <td>southeast</td>\n",
       "      <td>2</td>\n",
       "    </tr>\n",
       "    <tr>\n",
       "      <th>2</th>\n",
       "      <td>47</td>\n",
       "      <td>28</td>\n",
       "      <td>female</td>\n",
       "      <td>34.77</td>\n",
       "      <td>0</td>\n",
       "      <td>no</td>\n",
       "      <td>northwest</td>\n",
       "      <td>0</td>\n",
       "    </tr>\n",
       "    <tr>\n",
       "      <th>3</th>\n",
       "      <td>106</td>\n",
       "      <td>19</td>\n",
       "      <td>female</td>\n",
       "      <td>28.40</td>\n",
       "      <td>1</td>\n",
       "      <td>no</td>\n",
       "      <td>southwest</td>\n",
       "      <td>0</td>\n",
       "    </tr>\n",
       "    <tr>\n",
       "      <th>4</th>\n",
       "      <td>1269</td>\n",
       "      <td>45</td>\n",
       "      <td>male</td>\n",
       "      <td>27.50</td>\n",
       "      <td>3</td>\n",
       "      <td>no</td>\n",
       "      <td>southwest</td>\n",
       "      <td>1</td>\n",
       "    </tr>\n",
       "  </tbody>\n",
       "</table>\n",
       "</div>"
      ],
      "text/plain": [
       "   Unnamed: 0  age     sex    bmi  children smoker     region  charges\n",
       "0          25   59  female  27.72         3     no  southeast        2\n",
       "1         336   60    male  25.74         0     no  southeast        2\n",
       "2          47   28  female  34.77         0     no  northwest        0\n",
       "3         106   19  female  28.40         1     no  southwest        0\n",
       "4        1269   45    male  27.50         3     no  southwest        1"
      ]
     },
     "execution_count": 2,
     "metadata": {},
     "output_type": "execute_result"
    }
   ],
   "source": [
    "# Read and output the top 5 rows\n",
    "train = pd.read_csv(\"train.csv\")\n",
    "test = pd.read_csv(\"test.csv\")\n",
    "train.head()"
   ]
  },
  {
   "cell_type": "markdown",
   "metadata": {},
   "source": [
    "We first transform the regression problem into a classification problem. We split the data with respect to four quantiles. Therefore, the number of for each label of charges is roughly the same.."
   ]
  },
  {
   "cell_type": "markdown",
   "metadata": {
    "id": "VYL0k-MZI0DD"
   },
   "source": [
    "A fairly simply ordering per feature. \n",
    "\n",
    "\n",
    "Now feature(s) can be initialised\n",
    "* Target feature\n",
    "* Continuous features\n",
    "* Ordinal features\n",
    "* Categorical features\n",
    "* Features to ignore"
   ]
  },
  {
   "cell_type": "code",
   "execution_count": null,
   "metadata": {
    "id": "EQM2L6Z7eAJ4"
   },
   "outputs": [],
   "source": [
    "# Target feature\n",
    "target = \"charges\"\n",
    "\n",
    "# Continuous/numeric features\n",
    "cont_feats = [\"age\", \"bmi\"]\n",
    "\n",
    "# Ordinal features\n",
    "ord_feats = {\"children\" : [\"0\", \"1\", \"2\", \"3\", \"4\", \"5\"]}\n",
    "\n",
    "# Categorical geatures\n",
    "cat_feats = [\"region\", \"smoker\", \"sex\"]\n",
    "\n",
    "# There is a value error for children:\n",
    "# ValueError: The least populated class in y has only 1 member, which is too few. The minimum number of groups for any class cannot be less than.\n"
   ]
  },
  {
   "cell_type": "markdown",
   "metadata": {
    "id": "4GZGPPFQW2Zh"
   },
   "source": [
    "# **Generating synthetic data** \n",
    "# **NAIVE GENERATING**\n",
    "# **COPULAGAN**\n",
    "There's a useful library `sdev` [Synthetic Data Generation](https://github.com/sdv-dev/SDV) to generate synthetic tabular data. I've played around with it specifically the `CopulaGAN` model.\n",
    "\n",
    "The general idea is to provide a `primary key` and to then run the model for so many `epochs`. There are hyperparameters to tune\n",
    "* `epochs`\n",
    "* `batch_size`\n",
    "* `embedding_dim`\n",
    "* `gen_dim`\n",
    "* `dis_dim`\n",
    "* `l2scale` (omitted in this experiment)\n",
    "\n",
    "\n",
    "\n",
    "Rather than running a CopulaGAN without hyperparameters or guessing hyperparameters I've leveraged `BTB` [Bayesian Tuning and Bandits](https://github.com/MLBazaar/BTB) which is an optimisation library. To start I'll initialise the `GCPTuner` which is used to declare the hyperparameters to tune. Then the hyperparameters can be called using `propose` from BTB."
   ]
  },
  {
   "cell_type": "code",
   "execution_count": null,
   "metadata": {},
   "outputs": [],
   "source": [
    "def MAXINT(a,b): return (abs(a-b)+(a+b))//2\n",
    "\n",
    "def MAX(a,b): return (abs(a-b)+(a+b))/2\n",
    "\n",
    "def MININT(a,b): return (-abs(a-b)+(a+b))//2\n",
    "\n",
    "def MIN(a,b): return (-abs(a-b)+(a+b))/2\n",
    "\n",
    "def over_18(data): return MAXINT(data[\"age\"],18)\n",
    "\n",
    "age_constraint = cons.ColumnFormula(column = 'age',\n",
    "                                    formula = over_18,\n",
    "                                    handling_strategy = 'reject_sampling')\n",
    "\n",
    "def children_range(data): return MININT(MAXINT(data[\"children\"],0),5)\n",
    "\n",
    "children_constraint = cons.ColumnFormula(column = 'children',\n",
    "                                         formula = children_range,\n",
    "                                         handling_strategy = 'reject_sampling')\n",
    "\n",
    "min_bmi = min(ins_data[\"bmi\"])\n",
    "max_bmi = max(ins_data[\"bmi\"])\n",
    "print(min_bmi,max_bmi)\n",
    "\n",
    "def bmi_range(data): return MIN(MAX(data[\"bmi\"],min_bmi),max_bmi)\n",
    "\n",
    "bmi_constraint = cons.ColumnFormula(column = 'bmi',\n",
    "                                    formula = bmi_range,\n",
    "                                    handling_strategy = 'reject_sampling')\n",
    "\n",
    "min_charges= min(ins_data[\"charges\"])\n",
    "max_charges = max(ins_data[\"charges\"])\n",
    "print(min_charges,max_charges)\n",
    "\n",
    "def charges_range(data): return MIN(MAX(data[\"charges\"],min_charges*0.8),max_charges*1.25)\n",
    "\n",
    "charges_constraint = cons.ColumnFormula(column = 'charges',\n",
    "                                    formula = charges_range,\n",
    "                                    handling_strategy = 'reject_sampling')\n",
    "\n",
    "def charges_range_truncated(data): return MIN(MAX(data[\"charges\"],12000),max_charges*1.25)\n",
    "\n",
    "charges_constraint_2 = cons.ColumnFormula(column = 'charges',\n",
    "                                    formula = charges_range_truncated,\n",
    "                                    handling_strategy = 'reject_sampling')"
   ]
  },
  {
   "cell_type": "code",
   "execution_count": null,
   "metadata": {
    "colab": {
     "base_uri": "https://localhost:8080/"
    },
    "id": "HJvxQx-KZxqV",
    "outputId": "69b0489b-12bd-437e-eeed-ff79c9439d5f"
   },
   "outputs": [],
   "source": [
    "import time\n",
    "best_score = 0 # Keep track of best score\n",
    "best_data = None\n",
    "tracker = 0 # Keep track of how many loops have completed\n",
    "flag = True\n",
    "scores=[]\n",
    "\n",
    "real = train # Filter to only those employees that left\n",
    "ST = time.time()\n",
    "## TRAINING LOOP START ##\n",
    "for _ in range(30): # only 1 and do the test\n",
    "\n",
    "    # Increment the tracker\n",
    "    tracker += 1\n",
    "  \n",
    "    # Every 5 loops output the tracker -> 1 loop\n",
    "    print(tracker)\n",
    "\n",
    "    # Get the hyperparameters for this loop\n",
    "    #proposal = tuner.propose(1)\n",
    "  \n",
    "    # Create the CopulaGAN -> GAussianCopu;a\n",
    "    # NOTE - batch_size is multiplied by 10 as needs to be a factor of 10\n",
    "    model = GaussianCopula(constraints = [age_constraint, children_constraint, bmi_constraint])\n",
    "    \n",
    "    \n",
    "    # Fit the CTGAN\n",
    "    model.fit(real)\n",
    "    distributions = model.get_distributions()\n",
    "    # Create 600 rows of data\n",
    "    synth_data = model.sample(num_rows = 600)\n",
    "  \n",
    "    # Evaluate the synthetic data against the real data\n",
    "    score = evaluate(synthetic_data = synth_data, real_data = real)\n",
    "    scores.append(score)\n",
    "\n",
    "    print(score)\n",
    "    # If the new hyperparameters beat the best ones, store them along with the score\n",
    "    if score > best_score or flag:\n",
    "        flag = False\n",
    "        best_data = synth_data\n",
    "        #best_params = proposal\n",
    "        best_score = score\n",
    "  \n",
    "\n",
    "\n",
    "## TRAINING LOOP END ##\n",
    "ED=time.time()\n",
    "print((ED-ST)/60,\"minutes\")"
   ]
  },
  {
   "cell_type": "code",
   "execution_count": null,
   "metadata": {},
   "outputs": [],
   "source": [
    "distributions"
   ]
  },
  {
   "cell_type": "code",
   "execution_count": null,
   "metadata": {},
   "outputs": [],
   "source": [
    "bmi=synth_data[\"bmi\"]"
   ]
  },
  {
   "cell_type": "code",
   "execution_count": null,
   "metadata": {},
   "outputs": [],
   "source": [
    "bmi.describe()"
   ]
  },
  {
   "cell_type": "code",
   "execution_count": null,
   "metadata": {},
   "outputs": [],
   "source": [
    "score = evaluate(synthetic_data = best_data, real_data = real, aggregate = False)\n",
    "score"
   ]
  },
  {
   "cell_type": "code",
   "execution_count": null,
   "metadata": {},
   "outputs": [],
   "source": [
    "score['normalized_score'].mean()"
   ]
  },
  {
   "cell_type": "code",
   "execution_count": null,
   "metadata": {},
   "outputs": [],
   "source": [
    "score = evaluate(synthetic_data = best_data, real_data = real, aggregate = True)\n",
    "score"
   ]
  },
  {
   "cell_type": "code",
   "execution_count": null,
   "metadata": {},
   "outputs": [],
   "source": [
    "print(max(scores))\n",
    "print(min(scores))"
   ]
  },
  {
   "cell_type": "code",
   "execution_count": null,
   "metadata": {
    "id": "aTxR7hQOG5s0"
   },
   "outputs": [],
   "source": [
    "model.save('best_copula.pkl')"
   ]
  },
  {
   "cell_type": "code",
   "execution_count": null,
   "metadata": {
    "id": "UMqiArS6bXlS"
   },
   "outputs": [],
   "source": [
    "synth_data.to_csv(\"ins_synth_data_classifier_GC.csv\", index = False)"
   ]
  },
  {
   "cell_type": "markdown",
   "metadata": {
    "id": "BMPgcZAEnhmW"
   },
   "source": [
    "So after 75 loops the overall score is 0.81 (this score is between 0 and 1) for 600 synthetic examples of Attrition = \"Yes\" so it's not too bad.\n",
    "\n",
    "```\n",
    "Best score obtained:  0.8127129012858366\n",
    "Best parameters:  {'epochs': 208, 'batch_size': 42, 'embedding_dim': 10, 'gen': 54, 'dim_gen': 788}\n",
    "```\n",
    "\n",
    "# **Setting up data for round 2**\n",
    "The real dataset can be split into 60:40 training/test. Once this has been split the synthetic data can be added to the training data. This in a way doesn't \"waste\" the real dataset in the training."
   ]
  },
  {
   "cell_type": "code",
   "execution_count": null,
   "metadata": {
    "id": "Vhl_lnmZQlCL"
   },
   "outputs": [],
   "source": [
    "# Load synth data in\n",
    "synth_data = pd.read_csv(\"ins_synth_data_classifier_GC.csv\")\n",
    "\n",
    "# Add the 600 synthetic rows of data to training data + remove dataset column\n",
    "mixed = pd.concat([train, synth_data])"
   ]
  },
  {
   "cell_type": "code",
   "execution_count": null,
   "metadata": {},
   "outputs": [],
   "source": [
    "synth_data"
   ]
  },
  {
   "cell_type": "code",
   "execution_count": null,
   "metadata": {
    "colab": {
     "base_uri": "https://localhost:8080/"
    },
    "id": "4IzD2z5OPDJ6",
    "outputId": "139fa681-dc87-41eb-85d6-338769a44abb",
    "scrolled": true
   },
   "outputs": [],
   "source": [
    "print(\"Training size (real):\", train.shape)\n",
    "print(\"Training size (fake + real):\", mixed.shape)\n",
    "print(\"Testing size (real:\", test.shape)"
   ]
  },
  {
   "cell_type": "code",
   "execution_count": null,
   "metadata": {},
   "outputs": [],
   "source": [
    "ord_feats = {\"children\" : list(\"012345\")}"
   ]
  },
  {
   "cell_type": "code",
   "execution_count": null,
   "metadata": {},
   "outputs": [],
   "source": [
    "from matplotlib import pyplot as plt\n",
    "#num_bins = 20\n",
    "#group = [1000*i for i in range(13,65)]\n",
    "#plt.hist(synth_data[\"charges\"], group)\n",
    "total01=len(synth_data[\"charges\"])\n",
    "ans01=[]\n",
    "for i in range(4):\n",
    "    num=len(synth_data[\"charges\"][synth_data[\"charges\"]==i])\n",
    "    ans01.append(num/total01)\n",
    "ans01=np.array(ans01)\n",
    "print(\"The ratio of the synthetic data of charge >14000 is %.4f\"%sum(ans01[14:]))\n",
    "plt.title(\"charge occurrances for synthetic data for GausCop\")\n",
    "plt.xlabel(\"charges\")\n",
    "plt.ylabel(\"occurrances\")\n",
    "plt.hist(synth_data[\"charges\"],bins=[i for i in range (5)])"
   ]
  },
  {
   "cell_type": "code",
   "execution_count": null,
   "metadata": {
    "colab": {
     "base_uri": "https://localhost:8080/"
    },
    "id": "fJnCYXD3Xvj7",
    "outputId": "62abaa53-f923-4269-f3fc-ae463f67e797"
   },
   "outputs": [],
   "source": [
    "#plt.hist(ins_data[\"charges\"][ins_data[\"charges\"]>13000], group)\n",
    "total02=len(ins_data[\"charges\"])\n",
    "ans02 = []\n",
    "for i in range(5):\n",
    "    num=len(ins_data[\"charges\"][ins_data[\"charges\"]==i])\n",
    "    ans02.append(num/total02)\n",
    "ans02=np.array(ans02)\n",
    "print(\"The ratio of the original data of charge >14000 is %.4f\"%sum(ans02[14:]))\n",
    "plt.plot(range(5),ans02)\n",
    "plt.title(\"charge occurrances for real data\")\n",
    "plt.xlabel(\"charges\")\n",
    "plt.ylabel(\"occurrances\")\n",
    "plt.hist(ins_data[\"charges\"],bins=[i for i in range (5)])"
   ]
  },
  {
   "cell_type": "markdown",
   "metadata": {
    "id": "MWErwjuvvPqJ"
   },
   "source": [
    "Now this data can be fed into a new `setup` but this time declaring `test_data` as the test data that was created earlier. \n",
    "\n",
    "So there is a combination of **synthetic and real data in the training set** but only real in the test data."
   ]
  },
  {
   "cell_type": "code",
   "execution_count": null,
   "metadata": {
    "id": "iN00u7Dtv25p",
    "scrolled": true
   },
   "outputs": [],
   "source": [
    "# Run pycaret setup w/synthetic data\n",
    "setup(data = mixed, \n",
    "      target = target, \n",
    "      test_data = test,\n",
    "      train_size = 0.7, \n",
    "      numeric_features = cont_feats,\n",
    "      categorical_features = cat_feats,\n",
    "      ordinal_features = ord_feats,\n",
    "      normalize_method = \"zscore\",\n",
    "      ignore_low_variance = True,\n",
    "      silent = True, verbose = False)"
   ]
  },
  {
   "cell_type": "markdown",
   "metadata": {
    "id": "PzNjV-KA1tN8"
   },
   "source": [
    "Now setup the `compare_models` can be checked again. Interestingly the `AUC`, `Recall` and `Precision` all went up considerably. `Recall` nearly doubled!"
   ]
  },
  {
   "cell_type": "code",
   "execution_count": null,
   "metadata": {
    "colab": {
     "base_uri": "https://localhost:8080/",
     "height": 538,
     "referenced_widgets": [
      "f22ffd90d3364169ba67e6eb5920b092",
      "d01f30c83f114157b0c22e2cd2b9bb46",
      "4f81e8d444e2464cbe28a6b86ff871b5"
     ]
    },
    "id": "98UZMlcEwBhi",
    "outputId": "24c14ac4-dc4d-42f7-c09f-955da7270a67"
   },
   "outputs": [],
   "source": [
    "compare_models()"
   ]
  },
  {
   "cell_type": "markdown",
   "metadata": {
    "id": "FA6MN9WjWkrS"
   },
   "source": [
    "A gradient boosting classifier was decided upon."
   ]
  },
  {
   "cell_type": "code",
   "execution_count": null,
   "metadata": {
    "colab": {
     "base_uri": "https://localhost:8080/",
     "height": 426,
     "referenced_widgets": [
      "10ea5db4ef064f8fb0a0e9318f02c620",
      "33bc17f93fbd4428a8bfb9e271e3d0fa",
      "4c71ad5a9b1746ef8ca31917c37cff3b"
     ]
    },
    "id": "UiwwbbURRKpE",
    "outputId": "8ea0b70f-0190-4664-f7cf-a3ed236bed52"
   },
   "outputs": [],
   "source": [
    "gbr = create_model(\"gbr\")"
   ]
  },
  {
   "cell_type": "markdown",
   "metadata": {},
   "source": [
    "# **SECOND TRIAL**, NORMALIZED, GAUSSIANCOPULA"
   ]
  },
  {
   "cell_type": "markdown",
   "metadata": {
    "id": "JnZXWfHOoEon"
   },
   "source": [
    "With the tuner ready it's as simple as creating a training loop and then calling the tuner within the loop and feeding the hyperparameters into the CopulaGAN."
   ]
  },
  {
   "cell_type": "code",
   "execution_count": null,
   "metadata": {
    "colab": {
     "base_uri": "https://localhost:8080/"
    },
    "id": "HJvxQx-KZxqV",
    "outputId": "69b0489b-12bd-437e-eeed-ff79c9439d5f"
   },
   "outputs": [],
   "source": [
    "best_score = 0 # Keep track of best score\n",
    "# best_params=None\n",
    "best_data = None\n",
    "tracker = 0 # Keep track of how many loops have completed\n",
    "flag = True\n",
    "scores=[]\n",
    "\n",
    "real = train # Filter to only those employees that left\n",
    "\n",
    "import time\n",
    "ST=time.time()\n",
    "\n",
    "## TRAINING LOOP START ##\n",
    "for _ in range(100): # only 1 and do the test\n",
    "\n",
    "    # Increment the tracker\n",
    "    tracker += 1\n",
    "  \n",
    "    # Every 5 loops output the tracker -> 1 loop\n",
    "    print(tracker)\n",
    "\n",
    "\n",
    "\n",
    "    # Record the hyperparameters and score      \n",
    "    # proposal = tuner.propose(1)\n",
    "  \n",
    "    # NOTE - batch_size is multiplied by 10 as needs to be a factor of 10\n",
    "    #model = GaussianCopula(constraints = [age_constraint, children_constraint, bmi_constraint, charges_constraint])\n",
    "    model = GaussianCopula(constraints = [age_constraint, children_constraint, bmi_constraint])\n",
    "    \n",
    "    # Fit the CopulaGAN\n",
    "    model.fit(real)\n",
    "    # Create 600 rows of data\n",
    "    synth_data = model.sample(num_rows = 600)\n",
    "  \n",
    "    # Evaluate the synthetic data against the real data\n",
    "    score = evaluate(synthetic_data = synth_data, real_data = real)\n",
    "    scores.append(score)\n",
    "\n",
    "    print(score)\n",
    "    # If the new hyperparameters beat the best ones, store them along with the score\n",
    "    if score > best_score or flag:\n",
    "        flag = False\n",
    "        best_data = synth_data\n",
    "        best_distributions = model.get_distributions()\n",
    "        # best_params = proposal\n",
    "        best_score = score\n",
    "  \n",
    "    # Record the hyperparameters and score      \n",
    "    # tuner.record(proposal, score)\n",
    "\n",
    "\n",
    "## TRAINING LOOP END ##\n",
    "ED=time.time()\n",
    "print(\"time used: %.3f mins\"%((ED-ST)/60))"
   ]
  },
  {
   "cell_type": "code",
   "execution_count": null,
   "metadata": {},
   "outputs": [],
   "source": [
    "best_data"
   ]
  },
  {
   "cell_type": "code",
   "execution_count": null,
   "metadata": {},
   "outputs": [],
   "source": [
    "best_distributions"
   ]
  },
  {
   "cell_type": "code",
   "execution_count": null,
   "metadata": {},
   "outputs": [],
   "source": [
    "best=best_data\n",
    "best_data=best_data[~best_data.index.duplicated()]\n",
    "num_bins = 20\n",
    "plt.hist(best_data[\"charges\"], [2000*i for i in range (33)])"
   ]
  },
  {
   "cell_type": "code",
   "execution_count": null,
   "metadata": {},
   "outputs": [],
   "source": [
    "score = evaluate(synthetic_data = best_data, real_data = real, aggregate = False)\n",
    "score"
   ]
  },
  {
   "cell_type": "code",
   "execution_count": null,
   "metadata": {},
   "outputs": [],
   "source": [
    "synth=[]\n",
    "for i in range (6,32):\n",
    "    orig_size=len(train[train[\"charges\"]<(i+1)*2000][train[\"charges\"]>(i)*2000])\n",
    "    synth_part=best_data[best_data[\"charges\"]<(i+1)*2000][best_data[\"charges\"]>(i)*2000]\n",
    "    generate=synth_part[:100-orig_size]\n",
    "    synth.append(generate)\n",
    "synth=pd.concat(synth)\n",
    "synth.sample(frac=1)"
   ]
  },
  {
   "cell_type": "code",
   "execution_count": null,
   "metadata": {},
   "outputs": [],
   "source": [
    "score = evaluate(synthetic_data = synth, real_data = train, aggregate = True)\n",
    "score"
   ]
  },
  {
   "cell_type": "code",
   "execution_count": null,
   "metadata": {},
   "outputs": [],
   "source": [
    "print('Best score obtained: ', best_score)"
   ]
  },
  {
   "cell_type": "code",
   "execution_count": null,
   "metadata": {},
   "outputs": [],
   "source": [
    "print(max(scores))\n",
    "print(min(scores))"
   ]
  },
  {
   "cell_type": "code",
   "execution_count": null,
   "metadata": {
    "id": "aTxR7hQOG5s0"
   },
   "outputs": [],
   "source": [
    "model.save('best_copula.pkl')"
   ]
  },
  {
   "cell_type": "code",
   "execution_count": null,
   "metadata": {
    "id": "UMqiArS6bXlS"
   },
   "outputs": [],
   "source": [
    "synth.to_csv(\"ins_synth_GC_norm.csv\", index = False)"
   ]
  },
  {
   "cell_type": "markdown",
   "metadata": {
    "id": "BMPgcZAEnhmW"
   },
   "source": [
    "# **Setting up data for round 2**\n",
    "The real dataset can be split into 60:40 training/test. Once this has been split the synthetic data can be added to the training data. This in a way doesn't \"waste\" the real dataset in the training."
   ]
  },
  {
   "cell_type": "code",
   "execution_count": null,
   "metadata": {
    "id": "Vhl_lnmZQlCL"
   },
   "outputs": [],
   "source": [
    "# Load synth data in\n",
    "synth_data2 = pd.read_csv(\"ins_synth_GC_norm.csv\")\n",
    "\n",
    "# Add the 600 synthetic rows of data to training data + remove dataset column\n",
    "mixed = pd.concat([train, synth_data2])"
   ]
  },
  {
   "cell_type": "code",
   "execution_count": null,
   "metadata": {},
   "outputs": [],
   "source": [
    "mixed"
   ]
  },
  {
   "cell_type": "code",
   "execution_count": null,
   "metadata": {
    "colab": {
     "base_uri": "https://localhost:8080/"
    },
    "id": "4IzD2z5OPDJ6",
    "outputId": "139fa681-dc87-41eb-85d6-338769a44abb"
   },
   "outputs": [],
   "source": [
    "print(\"Training size (real):\", train.shape)\n",
    "print(\"Training size (fake + real):\", mixed.shape)\n",
    "print(\"Testing size (real:\", test.shape)"
   ]
  },
  {
   "cell_type": "code",
   "execution_count": null,
   "metadata": {},
   "outputs": [],
   "source": [
    "#plt.hist(synth_data[\"charges\"], group)\n",
    "total=len(mixed[\"charges\"])\n",
    "plt.title(\"charge occurrances for synthetic data for univariate distribution\")\n",
    "plt.xlabel(\"charges\")\n",
    "plt.ylabel(\"occurrances\")\n",
    "plt.hist(mixed[\"charges\"], [1000*i for i in range (65)])"
   ]
  },
  {
   "cell_type": "code",
   "execution_count": null,
   "metadata": {
    "colab": {
     "base_uri": "https://localhost:8080/"
    },
    "id": "fJnCYXD3Xvj7",
    "outputId": "62abaa53-f923-4269-f3fc-ae463f67e797"
   },
   "outputs": [],
   "source": [
    "#plt.hist(ins_data[\"charges\"][ins_data[\"charges\"]>13000], group)\n",
    "total2=len(ins_data[\"charges\"][ins_data[\"charges\"]>13000])\n",
    "ans2 = []\n",
    "for i in range(14,65):\n",
    "    num=len(ins_data[\"charges\"][ins_data[\"charges\"]<(i+1)*1000][ins_data[\"charges\"]>=i*1000])\n",
    "    ans2.append(num/total)\n",
    "ans2=np.array(ans2)\n",
    "plt.plot(range(14,65),ans2)\n",
    "plt.show()"
   ]
  },
  {
   "cell_type": "markdown",
   "metadata": {
    "id": "MWErwjuvvPqJ"
   },
   "source": [
    "Now this data can be fed into a new `setup` but this time declaring `test_data` as the test data that was created earlier. \n",
    "\n",
    "So there is a combination of **synthetic and real data in the training set** but only real in the test data."
   ]
  },
  {
   "cell_type": "code",
   "execution_count": null,
   "metadata": {
    "id": "iN00u7Dtv25p",
    "scrolled": true
   },
   "outputs": [],
   "source": [
    "# Run pycaret setup w/synthetic data\n",
    "setup(data = mixed, \n",
    "      target = \"charges\", \n",
    "      test_data = test,\n",
    "      train_size = 0.7, \n",
    "      numeric_features = cont_feats,\n",
    "      categorical_features = cat_feats,\n",
    "      ordinal_features = ord_feats,\n",
    "      normalize_method = \"zscore\",\n",
    "      ignore_low_variance = True,\n",
    "      silent = True, verbose = False)"
   ]
  },
  {
   "cell_type": "markdown",
   "metadata": {
    "id": "PzNjV-KA1tN8"
   },
   "source": [
    "Now setup the `compare_models` can be checked again. Interestingly the `AUC`, `Recall` and `Precision` all went up considerably. `Recall` nearly doubled!"
   ]
  },
  {
   "cell_type": "code",
   "execution_count": null,
   "metadata": {
    "colab": {
     "base_uri": "https://localhost:8080/",
     "height": 538,
     "referenced_widgets": [
      "f22ffd90d3364169ba67e6eb5920b092",
      "d01f30c83f114157b0c22e2cd2b9bb46",
      "4f81e8d444e2464cbe28a6b86ff871b5"
     ]
    },
    "id": "98UZMlcEwBhi",
    "outputId": "24c14ac4-dc4d-42f7-c09f-955da7270a67"
   },
   "outputs": [],
   "source": [
    "compare_models()"
   ]
  },
  {
   "cell_type": "markdown",
   "metadata": {
    "id": "FA6MN9WjWkrS"
   },
   "source": [
    "A gradient boosting classifier was decided upon."
   ]
  },
  {
   "cell_type": "markdown",
   "metadata": {},
   "source": [
    "# **SECOND TRIAL**, NORMALIZED, GAUSSIANCOPULA"
   ]
  },
  {
   "cell_type": "markdown",
   "metadata": {
    "id": "JnZXWfHOoEon"
   },
   "source": [
    "With the tuner ready it's as simple as creating a training loop and then calling the tuner within the loop and feeding the hyperparameters into the CopulaGAN."
   ]
  },
  {
   "cell_type": "code",
   "execution_count": null,
   "metadata": {
    "colab": {
     "base_uri": "https://localhost:8080/"
    },
    "id": "HJvxQx-KZxqV",
    "outputId": "69b0489b-12bd-437e-eeed-ff79c9439d5f"
   },
   "outputs": [],
   "source": [
    "best_score = 0 # Keep track of best score\n",
    "# best_params=None\n",
    "best_data = None\n",
    "tracker = 0 # Keep track of how many loops have completed\n",
    "flag = True\n",
    "scores=[]\n",
    "\n",
    "real = train # Filter to only those employees that left\n",
    "\n",
    "import time\n",
    "ST=time.time()\n",
    "\n",
    "## TRAINING LOOP START ##\n",
    "for _ in range(30): # only 1 and do the test\n",
    "\n",
    "    # Increment the tracker\n",
    "    tracker += 1\n",
    "  \n",
    "    # Every 5 loops output the tracker -> 1 loop\n",
    "    print(tracker)\n",
    "\n",
    "\n",
    "\n",
    "    # Record the hyperparameters and score      \n",
    "    # proposal = tuner.propose(1)\n",
    "  \n",
    "    # NOTE - batch_size is multiplied by 10 as needs to be a factor of 10\n",
    "    #model = GaussianCopula(constraints = [age_constraint, children_constraint, bmi_constraint, charges_constraint])\n",
    "    model = GaussianCopula(constraints = [age_constraint, children_constraint, bmi_constraint],\n",
    "                          categorical_transformer = \"categorical_fuzzy\")\n",
    "    \n",
    "    # Fit the CopulaGAN\n",
    "    model.fit(real)\n",
    "    # Create 600 rows of data\n",
    "    synth_data = model.sample(num_rows = 1500)\n",
    "  \n",
    "    # Evaluate the synthetic data against the real data\n",
    "    score = evaluate(synthetic_data = synth_data, real_data = real)\n",
    "    scores.append(score)\n",
    "\n",
    "    print(score)\n",
    "    # If the new hyperparameters beat the best ones, store them along with the score\n",
    "    if score > best_score or flag:\n",
    "        flag = False\n",
    "        best_data = synth_data\n",
    "        best_distributions = model.get_distributions()\n",
    "        # best_params = proposal\n",
    "        best_score = score\n",
    "  \n",
    "    # Record the hyperparameters and score      \n",
    "    # tuner.record(proposal, score)\n",
    "\n",
    "\n",
    "## TRAINING LOOP END ##\n",
    "ED=time.time()\n",
    "print(\"time used: %.3f mins\"%((ED-ST)/60))"
   ]
  },
  {
   "cell_type": "code",
   "execution_count": null,
   "metadata": {},
   "outputs": [],
   "source": [
    "best_data"
   ]
  },
  {
   "cell_type": "code",
   "execution_count": null,
   "metadata": {},
   "outputs": [],
   "source": [
    "best_distributions"
   ]
  },
  {
   "cell_type": "code",
   "execution_count": null,
   "metadata": {},
   "outputs": [],
   "source": [
    "best=best_data\n",
    "best_data=best_data[~best_data.index.duplicated()]\n",
    "num_bins = 20\n",
    "plt.hist(best_data[\"charges\"], [i for i in range (5)])"
   ]
  },
  {
   "cell_type": "code",
   "execution_count": null,
   "metadata": {},
   "outputs": [],
   "source": [
    "score = evaluate(synthetic_data = best_data, real_data = real, aggregate = False)\n",
    "score"
   ]
  },
  {
   "cell_type": "code",
   "execution_count": null,
   "metadata": {},
   "outputs": [],
   "source": [
    "synth=[]\n",
    "for i in range (4):\n",
    "    orig_size=len(train[train[\"charges\"]==i])\n",
    "    synth_part=best_data[best_data[\"charges\"]==i]\n",
    "    generate=synth_part[:140]\n",
    "    synth.append(generate)\n",
    "synth=pd.concat(synth)\n",
    "synth.sample(frac=1)"
   ]
  },
  {
   "cell_type": "code",
   "execution_count": null,
   "metadata": {},
   "outputs": [],
   "source": [
    "score = evaluate(synthetic_data = synth, real_data = train, aggregate = True)\n",
    "score"
   ]
  },
  {
   "cell_type": "code",
   "execution_count": null,
   "metadata": {},
   "outputs": [],
   "source": [
    "print('Best score obtained: ', best_score)"
   ]
  },
  {
   "cell_type": "code",
   "execution_count": null,
   "metadata": {},
   "outputs": [],
   "source": [
    "print(max(scores))\n",
    "print(min(scores))"
   ]
  },
  {
   "cell_type": "code",
   "execution_count": null,
   "metadata": {
    "id": "aTxR7hQOG5s0"
   },
   "outputs": [],
   "source": [
    "model.save('best_copula.pkl')"
   ]
  },
  {
   "cell_type": "code",
   "execution_count": null,
   "metadata": {
    "id": "UMqiArS6bXlS"
   },
   "outputs": [],
   "source": [
    "synth.to_csv(\"ins_synth_GC_norm_CF.csv\", index = False)\n",
    "best_data.to_csv(\"ins_synth_GC_CF.csv\", index = False)"
   ]
  },
  {
   "cell_type": "markdown",
   "metadata": {
    "id": "BMPgcZAEnhmW"
   },
   "source": [
    "# **Setting up data for round 2**\n",
    "The real dataset can be split into 60:40 training/test. Once this has been split the synthetic data can be added to the training data. This in a way doesn't \"waste\" the real dataset in the training."
   ]
  },
  {
   "cell_type": "code",
   "execution_count": null,
   "metadata": {
    "id": "Vhl_lnmZQlCL"
   },
   "outputs": [],
   "source": [
    "# Load synth data in\n",
    "synth_data2 = pd.read_csv(\"ins_synth_GC_CF.csv\")\n",
    "\n",
    "# Add the 600 synthetic rows of data to training data + remove dataset column\n",
    "mixed = pd.concat([train, synth_data2])"
   ]
  },
  {
   "cell_type": "code",
   "execution_count": null,
   "metadata": {},
   "outputs": [],
   "source": [
    "mixed"
   ]
  },
  {
   "cell_type": "code",
   "execution_count": null,
   "metadata": {
    "colab": {
     "base_uri": "https://localhost:8080/"
    },
    "id": "4IzD2z5OPDJ6",
    "outputId": "139fa681-dc87-41eb-85d6-338769a44abb"
   },
   "outputs": [],
   "source": [
    "print(\"Training size (real):\", train.shape)\n",
    "print(\"Training size (fake + real):\", mixed.shape)\n",
    "print(\"Testing size (real:\", test.shape)"
   ]
  },
  {
   "cell_type": "markdown",
   "metadata": {
    "id": "MWErwjuvvPqJ"
   },
   "source": [
    "Now this data can be fed into a new `setup` but this time declaring `test_data` as the test data that was created earlier. \n",
    "\n",
    "So there is a combination of **synthetic and real data in the training set** but only real in the test data."
   ]
  },
  {
   "cell_type": "code",
   "execution_count": null,
   "metadata": {
    "id": "iN00u7Dtv25p",
    "scrolled": true
   },
   "outputs": [],
   "source": [
    "# Run pycaret setup w/synthetic data\n",
    "setup(data = mixed, \n",
    "      target = \"charges\", \n",
    "      test_data = test,\n",
    "      train_size = 0.7, \n",
    "      numeric_features = cont_feats,\n",
    "      categorical_features = cat_feats,\n",
    "      ordinal_features = ord_feats,\n",
    "      normalize_method = \"zscore\",\n",
    "      ignore_low_variance = True,\n",
    "      silent = True, verbose = False)"
   ]
  },
  {
   "cell_type": "markdown",
   "metadata": {
    "id": "PzNjV-KA1tN8"
   },
   "source": [
    "Now setup the `compare_models` can be checked again. Interestingly the `AUC`, `Recall` and `Precision` all went up considerably. `Recall` nearly doubled!"
   ]
  },
  {
   "cell_type": "code",
   "execution_count": null,
   "metadata": {
    "colab": {
     "base_uri": "https://localhost:8080/",
     "height": 538,
     "referenced_widgets": [
      "f22ffd90d3364169ba67e6eb5920b092",
      "d01f30c83f114157b0c22e2cd2b9bb46",
      "4f81e8d444e2464cbe28a6b86ff871b5"
     ]
    },
    "id": "98UZMlcEwBhi",
    "outputId": "24c14ac4-dc4d-42f7-c09f-955da7270a67"
   },
   "outputs": [],
   "source": [
    "compare_models()"
   ]
  },
  {
   "cell_type": "markdown",
   "metadata": {
    "id": "FA6MN9WjWkrS"
   },
   "source": [
    "A gradient boosting classifier was decided upon."
   ]
  },
  {
   "cell_type": "code",
   "execution_count": null,
   "metadata": {
    "colab": {
     "base_uri": "https://localhost:8080/",
     "height": 426,
     "referenced_widgets": [
      "10ea5db4ef064f8fb0a0e9318f02c620",
      "33bc17f93fbd4428a8bfb9e271e3d0fa",
      "4c71ad5a9b1746ef8ca31917c37cff3b"
     ]
    },
    "id": "UiwwbbURRKpE",
    "outputId": "8ea0b70f-0190-4664-f7cf-a3ed236bed52"
   },
   "outputs": [],
   "source": [
    "par = create_model(\"par\")"
   ]
  },
  {
   "cell_type": "markdown",
   "metadata": {
    "id": "_xeQU6xWzyup"
   },
   "source": [
    "# **Finalising the model**\n",
    "Now with the model trained and evaluated it needs to be **finalised**. This encorporates the test data into the model that will be used on unseen data."
   ]
  },
  {
   "cell_type": "code",
   "execution_count": null,
   "metadata": {
    "id": "m4GidAlVzxt2"
   },
   "outputs": [],
   "source": [
    "final_gbc = finalize_model(huber)"
   ]
  },
  {
   "cell_type": "markdown",
   "metadata": {
    "id": "d7UjkASuWBDD"
   },
   "source": [
    "**NOTE**: I haven't further explored the model e.g. feature importance as the purpose of this project was to focus on synthetic data generation and a streamlit app."
   ]
  },
  {
   "cell_type": "markdown",
   "metadata": {
    "id": "dXEtHtd5MOkf"
   },
   "source": [
    "# **Saving and exporting ready for app build**\n",
    "To use the model in a `streamlit` app certain things need to be exported\n",
    "* The model\n",
    "* Preprocessed data\n",
    "* Preparation steps (`prep pipe`)"
   ]
  },
  {
   "cell_type": "code",
   "execution_count": null,
   "metadata": {
    "colab": {
     "base_uri": "https://localhost:8080/"
    },
    "id": "7-R-Qqh8dHOu",
    "outputId": "549cc26f-9b0e-456f-9ad7-49141818d41b"
   },
   "outputs": [],
   "source": [
    "# Model (save)\n",
    "save_model(final_gbc, \"final_gbc\")\n",
    "\n",
    "# Preparation steps (get + save)\n",
    "prep = get_config(\"prep_pipe\")\n",
    "joblib.dump(prep, 'prep_pipe.pkl', compress = 1)\n",
    "\n",
    "# Preprocessed data (get + save)\n",
    "get_config(\"X\").to_csv(\"preprocssed_data.csv\", index = False)"
   ]
  },
  {
   "cell_type": "markdown",
   "metadata": {
    "id": "JfYHuEQ9PTmS"
   },
   "source": [
    "# **Streamlit app**\n",
    "The final output of this was a `streamlit` app to allow single predictions w/reason plots or multi predictions from an uploaded csv (see `README.md` and `app.py`)."
   ]
  },
  {
   "cell_type": "markdown",
   "metadata": {
    "id": "_tiiWSxuwK6t"
   },
   "source": [
    "# **Conclusion**\n",
    "I think that synthetic data generation can be a powerful tool especially in situations when further data collection cannot be performed in the near term. Fine tuning hyperparameters is great to have but more data and feature engineering are still superior."
   ]
  },
  {
   "cell_type": "code",
   "execution_count": null,
   "metadata": {},
   "outputs": [],
   "source": [
    "# any random test\n",
    "import random\n",
    "# give a data of 20% 0-100, 40% 100-200, 30% 200-300,10% 300-400, \n",
    "small=[[100*random.random()] for _ in range (400)]\n",
    "medium=[[100+100*random.random()] for _ in range (800)]\n",
    "large=[[200+100*random.random()] for _ in range (600)]\n",
    "extralarge=[[300+100*random.random()] for _ in range (200)]\n",
    "mix=small+medium+large+extralarge\n",
    "random.shuffle(mix)\n",
    "df = pd.DataFrame(mix, columns=[\"s\"])\n",
    "final_ans=[]\n",
    "for _ in range (200):\n",
    "    toy_ans = list()\n",
    "    model = GaussianCopula()\n",
    "    model.fit(df)\n",
    "    synth = model.sample(num_rows = 2000)\n",
    "    for i in range(4):\n",
    "        num=len(synth[\"s\"][synth[\"s\"]<(i+1)*100][synth[\"s\"]>=i*100])\n",
    "        toy_ans.append(num/2000)\n",
    "    final_ans.append(toy_ans)\n",
    "final_ans"
   ]
  },
  {
   "cell_type": "code",
   "execution_count": null,
   "metadata": {},
   "outputs": [],
   "source": [
    "plt.hist(np.array(mix),bins=np.array([10*i for i in range(41)]))"
   ]
  },
  {
   "cell_type": "code",
   "execution_count": null,
   "metadata": {},
   "outputs": [],
   "source": [
    "arr=np.array(final_ans)\n",
    "trans_arr=np.transpose(arr)\n",
    "plt.hist(trans_arr[3],bins=np.array([i/500 for i in range (38,55)]))"
   ]
  },
  {
   "cell_type": "code",
   "execution_count": null,
   "metadata": {},
   "outputs": [],
   "source": [
    "plt.hist(trans_arr[2],bins=np.array([i/500 for i in range (140,169)]))"
   ]
  },
  {
   "cell_type": "code",
   "execution_count": null,
   "metadata": {},
   "outputs": [],
   "source": [
    "plt.hist(trans_arr[1],bins=np.array([i/500 for i in range (179,207)]))"
   ]
  },
  {
   "cell_type": "code",
   "execution_count": null,
   "metadata": {},
   "outputs": [],
   "source": [
    "plt.hist(trans_arr[0],bins=np.array([i/500 for i in range (75,99)]))"
   ]
  },
  {
   "cell_type": "code",
   "execution_count": null,
   "metadata": {},
   "outputs": [],
   "source": []
  }
 ],
 "metadata": {
  "@webio": {
   "lastCommId": null,
   "lastKernelId": null
  },
  "accelerator": "GPU",
  "colab": {
   "authorship_tag": "ABX9TyNQgnEaLkmsZ47jQY2/G1wt",
   "collapsed_sections": [
    "u8hyoSAOm6E2",
    "owfzjkszOE5n"
   ],
   "name": "Predicting employee attrition.ipynb",
   "provenance": [],
   "toc_visible": true
  },
  "kernelspec": {
   "display_name": "Python 3",
   "language": "python",
   "name": "python3"
  },
  "language_info": {
   "codemirror_mode": {
    "name": "ipython",
    "version": 3
   },
   "file_extension": ".py",
   "mimetype": "text/x-python",
   "name": "python",
   "nbconvert_exporter": "python",
   "pygments_lexer": "ipython3",
   "version": "3.6.12"
  },
  "widgets": {
   "application/vnd.jupyter.widget-state+json": {
    "0d7c00441e6445f9b71c68df63947725": {
     "model_module": "@jupyter-widgets/base",
     "model_name": "LayoutModel",
     "state": {
      "_model_module": "@jupyter-widgets/base",
      "_model_module_version": "1.2.0",
      "_model_name": "LayoutModel",
      "_view_count": null,
      "_view_module": "@jupyter-widgets/base",
      "_view_module_version": "1.2.0",
      "_view_name": "LayoutView",
      "align_content": null,
      "align_items": null,
      "align_self": null,
      "border": null,
      "bottom": null,
      "display": null,
      "flex": null,
      "flex_flow": null,
      "grid_area": null,
      "grid_auto_columns": null,
      "grid_auto_flow": null,
      "grid_auto_rows": null,
      "grid_column": null,
      "grid_gap": null,
      "grid_row": null,
      "grid_template_areas": null,
      "grid_template_columns": null,
      "grid_template_rows": null,
      "height": null,
      "justify_content": null,
      "justify_items": null,
      "left": null,
      "margin": null,
      "max_height": null,
      "max_width": null,
      "min_height": null,
      "min_width": null,
      "object_fit": null,
      "object_position": null,
      "order": null,
      "overflow": null,
      "overflow_x": null,
      "overflow_y": null,
      "padding": null,
      "right": null,
      "top": null,
      "visibility": null,
      "width": null
     }
    },
    "10ea5db4ef064f8fb0a0e9318f02c620": {
     "model_module": "@jupyter-widgets/controls",
     "model_name": "IntProgressModel",
     "state": {
      "_dom_classes": [],
      "_model_module": "@jupyter-widgets/controls",
      "_model_module_version": "1.5.0",
      "_model_name": "IntProgressModel",
      "_view_count": null,
      "_view_module": "@jupyter-widgets/controls",
      "_view_module_version": "1.5.0",
      "_view_name": "ProgressView",
      "bar_style": "",
      "description": "Processing: ",
      "description_tooltip": null,
      "layout": "IPY_MODEL_4c71ad5a9b1746ef8ca31917c37cff3b",
      "max": 4,
      "min": 0,
      "orientation": "horizontal",
      "style": "IPY_MODEL_33bc17f93fbd4428a8bfb9e271e3d0fa",
      "value": 4
     }
    },
    "25635fb9d9e74426a4ffe3f6deb0c9a2": {
     "model_module": "@jupyter-widgets/base",
     "model_name": "LayoutModel",
     "state": {
      "_model_module": "@jupyter-widgets/base",
      "_model_module_version": "1.2.0",
      "_model_name": "LayoutModel",
      "_view_count": null,
      "_view_module": "@jupyter-widgets/base",
      "_view_module_version": "1.2.0",
      "_view_name": "LayoutView",
      "align_content": null,
      "align_items": null,
      "align_self": null,
      "border": null,
      "bottom": null,
      "display": null,
      "flex": null,
      "flex_flow": null,
      "grid_area": null,
      "grid_auto_columns": null,
      "grid_auto_flow": null,
      "grid_auto_rows": null,
      "grid_column": null,
      "grid_gap": null,
      "grid_row": null,
      "grid_template_areas": null,
      "grid_template_columns": null,
      "grid_template_rows": null,
      "height": null,
      "justify_content": null,
      "justify_items": null,
      "left": null,
      "margin": null,
      "max_height": null,
      "max_width": null,
      "min_height": null,
      "min_width": null,
      "object_fit": null,
      "object_position": null,
      "order": null,
      "overflow": null,
      "overflow_x": null,
      "overflow_y": null,
      "padding": null,
      "right": null,
      "top": null,
      "visibility": null,
      "width": null
     }
    },
    "307a2747200e4a7189f15039c8d147ef": {
     "model_module": "@jupyter-widgets/controls",
     "model_name": "ProgressStyleModel",
     "state": {
      "_model_module": "@jupyter-widgets/controls",
      "_model_module_version": "1.5.0",
      "_model_name": "ProgressStyleModel",
      "_view_count": null,
      "_view_module": "@jupyter-widgets/base",
      "_view_module_version": "1.2.0",
      "_view_name": "StyleView",
      "bar_color": null,
      "description_width": ""
     }
    },
    "33bc17f93fbd4428a8bfb9e271e3d0fa": {
     "model_module": "@jupyter-widgets/controls",
     "model_name": "ProgressStyleModel",
     "state": {
      "_model_module": "@jupyter-widgets/controls",
      "_model_module_version": "1.5.0",
      "_model_name": "ProgressStyleModel",
      "_view_count": null,
      "_view_module": "@jupyter-widgets/base",
      "_view_module_version": "1.2.0",
      "_view_name": "StyleView",
      "bar_color": null,
      "description_width": ""
     }
    },
    "3a613cdc31f44ee9878ceab2f83b985a": {
     "model_module": "@jupyter-widgets/controls",
     "model_name": "ProgressStyleModel",
     "state": {
      "_model_module": "@jupyter-widgets/controls",
      "_model_module_version": "1.5.0",
      "_model_name": "ProgressStyleModel",
      "_view_count": null,
      "_view_module": "@jupyter-widgets/base",
      "_view_module_version": "1.2.0",
      "_view_name": "StyleView",
      "bar_color": null,
      "description_width": ""
     }
    },
    "463fc3b7b20d4d94bd58f498194140da": {
     "model_module": "@jupyter-widgets/controls",
     "model_name": "IntProgressModel",
     "state": {
      "_dom_classes": [],
      "_model_module": "@jupyter-widgets/controls",
      "_model_module_version": "1.5.0",
      "_model_name": "IntProgressModel",
      "_view_count": null,
      "_view_module": "@jupyter-widgets/controls",
      "_view_module_version": "1.5.0",
      "_view_name": "ProgressView",
      "bar_style": "",
      "description": "Processing: ",
      "description_tooltip": null,
      "layout": "IPY_MODEL_25635fb9d9e74426a4ffe3f6deb0c9a2",
      "max": 7,
      "min": 0,
      "orientation": "horizontal",
      "style": "IPY_MODEL_3a613cdc31f44ee9878ceab2f83b985a",
      "value": 7
     }
    },
    "4c71ad5a9b1746ef8ca31917c37cff3b": {
     "model_module": "@jupyter-widgets/base",
     "model_name": "LayoutModel",
     "state": {
      "_model_module": "@jupyter-widgets/base",
      "_model_module_version": "1.2.0",
      "_model_name": "LayoutModel",
      "_view_count": null,
      "_view_module": "@jupyter-widgets/base",
      "_view_module_version": "1.2.0",
      "_view_name": "LayoutView",
      "align_content": null,
      "align_items": null,
      "align_self": null,
      "border": null,
      "bottom": null,
      "display": null,
      "flex": null,
      "flex_flow": null,
      "grid_area": null,
      "grid_auto_columns": null,
      "grid_auto_flow": null,
      "grid_auto_rows": null,
      "grid_column": null,
      "grid_gap": null,
      "grid_row": null,
      "grid_template_areas": null,
      "grid_template_columns": null,
      "grid_template_rows": null,
      "height": null,
      "justify_content": null,
      "justify_items": null,
      "left": null,
      "margin": null,
      "max_height": null,
      "max_width": null,
      "min_height": null,
      "min_width": null,
      "object_fit": null,
      "object_position": null,
      "order": null,
      "overflow": null,
      "overflow_x": null,
      "overflow_y": null,
      "padding": null,
      "right": null,
      "top": null,
      "visibility": null,
      "width": null
     }
    },
    "4f81e8d444e2464cbe28a6b86ff871b5": {
     "model_module": "@jupyter-widgets/base",
     "model_name": "LayoutModel",
     "state": {
      "_model_module": "@jupyter-widgets/base",
      "_model_module_version": "1.2.0",
      "_model_name": "LayoutModel",
      "_view_count": null,
      "_view_module": "@jupyter-widgets/base",
      "_view_module_version": "1.2.0",
      "_view_name": "LayoutView",
      "align_content": null,
      "align_items": null,
      "align_self": null,
      "border": null,
      "bottom": null,
      "display": null,
      "flex": null,
      "flex_flow": null,
      "grid_area": null,
      "grid_auto_columns": null,
      "grid_auto_flow": null,
      "grid_auto_rows": null,
      "grid_column": null,
      "grid_gap": null,
      "grid_row": null,
      "grid_template_areas": null,
      "grid_template_columns": null,
      "grid_template_rows": null,
      "height": null,
      "justify_content": null,
      "justify_items": null,
      "left": null,
      "margin": null,
      "max_height": null,
      "max_width": null,
      "min_height": null,
      "min_width": null,
      "object_fit": null,
      "object_position": null,
      "order": null,
      "overflow": null,
      "overflow_x": null,
      "overflow_y": null,
      "padding": null,
      "right": null,
      "top": null,
      "visibility": null,
      "width": null
     }
    },
    "b549798269f8405aa59800806a5ea628": {
     "model_module": "@jupyter-widgets/controls",
     "model_name": "ProgressStyleModel",
     "state": {
      "_model_module": "@jupyter-widgets/controls",
      "_model_module_version": "1.5.0",
      "_model_name": "ProgressStyleModel",
      "_view_count": null,
      "_view_module": "@jupyter-widgets/base",
      "_view_module_version": "1.2.0",
      "_view_name": "StyleView",
      "bar_color": null,
      "description_width": ""
     }
    },
    "b6b46c63554f41e19483e5b31ec2280c": {
     "model_module": "@jupyter-widgets/controls",
     "model_name": "IntProgressModel",
     "state": {
      "_dom_classes": [],
      "_model_module": "@jupyter-widgets/controls",
      "_model_module_version": "1.5.0",
      "_model_name": "IntProgressModel",
      "_view_count": null,
      "_view_module": "@jupyter-widgets/controls",
      "_view_module_version": "1.5.0",
      "_view_name": "ProgressView",
      "bar_style": "",
      "description": "Processing: ",
      "description_tooltip": null,
      "layout": "IPY_MODEL_0d7c00441e6445f9b71c68df63947725",
      "max": 4,
      "min": 0,
      "orientation": "horizontal",
      "style": "IPY_MODEL_b549798269f8405aa59800806a5ea628",
      "value": 4
     }
    },
    "d01f30c83f114157b0c22e2cd2b9bb46": {
     "model_module": "@jupyter-widgets/controls",
     "model_name": "ProgressStyleModel",
     "state": {
      "_model_module": "@jupyter-widgets/controls",
      "_model_module_version": "1.5.0",
      "_model_name": "ProgressStyleModel",
      "_view_count": null,
      "_view_module": "@jupyter-widgets/base",
      "_view_module_version": "1.2.0",
      "_view_name": "StyleView",
      "bar_color": null,
      "description_width": ""
     }
    },
    "daef4644f9274987bc78d4ed7ef34560": {
     "model_module": "@jupyter-widgets/base",
     "model_name": "LayoutModel",
     "state": {
      "_model_module": "@jupyter-widgets/base",
      "_model_module_version": "1.2.0",
      "_model_name": "LayoutModel",
      "_view_count": null,
      "_view_module": "@jupyter-widgets/base",
      "_view_module_version": "1.2.0",
      "_view_name": "LayoutView",
      "align_content": null,
      "align_items": null,
      "align_self": null,
      "border": null,
      "bottom": null,
      "display": null,
      "flex": null,
      "flex_flow": null,
      "grid_area": null,
      "grid_auto_columns": null,
      "grid_auto_flow": null,
      "grid_auto_rows": null,
      "grid_column": null,
      "grid_gap": null,
      "grid_row": null,
      "grid_template_areas": null,
      "grid_template_columns": null,
      "grid_template_rows": null,
      "height": null,
      "justify_content": null,
      "justify_items": null,
      "left": null,
      "margin": null,
      "max_height": null,
      "max_width": null,
      "min_height": null,
      "min_width": null,
      "object_fit": null,
      "object_position": null,
      "order": null,
      "overflow": null,
      "overflow_x": null,
      "overflow_y": null,
      "padding": null,
      "right": null,
      "top": null,
      "visibility": null,
      "width": null
     }
    },
    "efd526e96603472aa5926403d7aaab51": {
     "model_module": "@jupyter-widgets/controls",
     "model_name": "IntProgressModel",
     "state": {
      "_dom_classes": [],
      "_model_module": "@jupyter-widgets/controls",
      "_model_module_version": "1.5.0",
      "_model_name": "IntProgressModel",
      "_view_count": null,
      "_view_module": "@jupyter-widgets/controls",
      "_view_module_version": "1.5.0",
      "_view_name": "ProgressView",
      "bar_style": "",
      "description": "Processing: ",
      "description_tooltip": null,
      "layout": "IPY_MODEL_daef4644f9274987bc78d4ed7ef34560",
      "max": 79,
      "min": 0,
      "orientation": "horizontal",
      "style": "IPY_MODEL_307a2747200e4a7189f15039c8d147ef",
      "value": 79
     }
    },
    "f22ffd90d3364169ba67e6eb5920b092": {
     "model_module": "@jupyter-widgets/controls",
     "model_name": "IntProgressModel",
     "state": {
      "_dom_classes": [],
      "_model_module": "@jupyter-widgets/controls",
      "_model_module_version": "1.5.0",
      "_model_name": "IntProgressModel",
      "_view_count": null,
      "_view_module": "@jupyter-widgets/controls",
      "_view_module_version": "1.5.0",
      "_view_name": "ProgressView",
      "bar_style": "",
      "description": "Processing: ",
      "description_tooltip": null,
      "layout": "IPY_MODEL_4f81e8d444e2464cbe28a6b86ff871b5",
      "max": 79,
      "min": 0,
      "orientation": "horizontal",
      "style": "IPY_MODEL_d01f30c83f114157b0c22e2cd2b9bb46",
      "value": 79
     }
    }
   }
  }
 },
 "nbformat": 4,
 "nbformat_minor": 1
}
